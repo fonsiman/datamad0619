{
 "cells": [
  {
   "cell_type": "markdown",
   "metadata": {},
   "source": [
    "# Web Scraping Lab\n",
    "\n",
    "You will find in this notebook some scrapy exercises to practise your scraping skills.\n",
    "\n",
    "**Tips:**\n",
    "\n",
    "- Check the response status code for each request to ensure you have obtained the intended contennt.\n",
    "- Print the response text in each request to understand the kind of info you are getting and its format.\n",
    "- Check for patterns in the response text to extract the data/info requested in each question.\n",
    "- Visit each url and take a look at its source through Chrome DevTools. You'll need to identify the html tags, special class names etc. used for the html content you are expected to extract."
   ]
  },
  {
   "cell_type": "markdown",
   "metadata": {},
   "source": [
    "- [Requests library](http://docs.python-requests.org/en/master/#the-user-guide) documentation \n",
    "- [Beautiful Soup Doc](https://www.crummy.com/software/BeautifulSoup/bs4/doc/)\n",
    "- [Urllib](https://docs.python.org/3/library/urllib.html#module-urllib)\n",
    "- [re lib](https://docs.python.org/3/library/re.html)\n",
    "- [lxml lib](https://lxml.de/)\n",
    "- [Scrapy](https://scrapy.org/)\n",
    "- [List of HTTP status codes](https://en.wikipedia.org/wiki/List_of_HTTP_status_codes)\n",
    "- [HTML basics](http://www.simplehtmlguide.com/cheatsheet.php)\n",
    "- [CSS basics](https://www.cssbasics.com/#page_start)"
   ]
  },
  {
   "cell_type": "markdown",
   "metadata": {},
   "source": [
    "#### Below are the libraries and modules you may need. `requests`,  `BeautifulSoup` and `pandas` are imported for you. If you prefer to use additional libraries feel free to uncomment them."
   ]
  },
  {
   "cell_type": "code",
   "execution_count": 1,
   "metadata": {},
   "outputs": [],
   "source": [
    "import requests as rq\n",
    "from bs4 import BeautifulSoup\n",
    "import pandas as pd\n",
    "# from pprint import pprint\n",
    "# from lxml import html\n",
    "# from lxml.html import fromstring\n",
    "# import urllib.request\n",
    "# from urllib.request import urlopen\n",
    "# import random\n",
    "# import re\n",
    "# import scrapy"
   ]
  },
  {
   "cell_type": "markdown",
   "metadata": {},
   "source": [
    "#### Download, parse (using BeautifulSoup), and print the content from the Trending Developers page from GitHub:"
   ]
  },
  {
   "cell_type": "code",
   "execution_count": 10,
   "metadata": {},
   "outputs": [],
   "source": [
    "# This is the url you will scrape in this exercise\n",
    "url = 'https://github.com/trending/developers'"
   ]
  },
  {
   "cell_type": "code",
   "execution_count": 11,
   "metadata": {},
   "outputs": [],
   "source": [
    "data = rq.get(url)"
   ]
  },
  {
   "cell_type": "markdown",
   "metadata": {},
   "source": [
    "#### Display the names of the trending developers retrieved in the previous step.\n",
    "\n",
    "Your output should be a Python list of developer names. Each name should not contain any html tag.\n",
    "\n",
    "**Instructions:**\n",
    "\n",
    "1. Find out the html tag and class names used for the developer names. You can achieve this using Chrome DevTools.\n",
    "\n",
    "1. Use BeautifulSoup to extract all the html elements that contain the developer names.\n",
    "\n",
    "1. Use string manipulation techniques to replace whitespaces and linebreaks (i.e. `\\n`) in the *text* of each html element. Use a list to store the clean names.\n",
    "\n",
    "1. Print the list of names.\n",
    "\n",
    "Your output should look like below:\n",
    "\n",
    "```\n",
    "['trimstray (@trimstray)',\n",
    " 'joewalnes (JoeWalnes)',\n",
    " 'charlax (Charles-AxelDein)',\n",
    " 'ForrestKnight (ForrestKnight)',\n",
    " 'revery-ui (revery-ui)',\n",
    " 'alibaba (Alibaba)',\n",
    " 'Microsoft (Microsoft)',\n",
    " 'github (GitHub)',\n",
    " 'facebook (Facebook)',\n",
    " 'boazsegev (Bo)',\n",
    " 'google (Google)',\n",
    " 'cloudfetch',\n",
    " 'sindresorhus (SindreSorhus)',\n",
    " 'tensorflow',\n",
    " 'apache (TheApacheSoftwareFoundation)',\n",
    " 'DevonCrawford (DevonCrawford)',\n",
    " 'ARMmbed (ArmMbed)',\n",
    " 'vuejs (vuejs)',\n",
    " 'fastai (fast.ai)',\n",
    " 'QiShaoXuan (Qi)',\n",
    " 'joelparkerhenderson (JoelParkerHenderson)',\n",
    " 'torvalds (LinusTorvalds)',\n",
    " 'CyC2018',\n",
    " 'komeiji-satori (神楽坂覚々)',\n",
    " 'script-8']\n",
    " ```"
   ]
  },
  {
   "cell_type": "code",
   "execution_count": 18,
   "metadata": {},
   "outputs": [
    {
     "name": "stdout",
     "output_type": "stream",
     "text": [
      "['Peter Bourgon (peterbourgon)', 'Pierre Krieger (tomaka)', 'Carl Lerche (carllerche)', 'Matt Layher (mdlayher)', 'Claudio Sanches (claudiosanches)', 'Jeremy Long (jeremylong)', 'Eddy Verbruggen (EddyVerbruggen)', 'Kyle (kylekatarnls)', 'Jeff Geerling (geerlingguy)', 'Kirk Wight (kwight)', 'Daniel Shiffman (shiffman)', '子骅 (luin)', 'Bastian Köcher (bkchr)', 'Brendan Forster (shiftkey)', 'Benjamin Eberlei (beberlei)', 'Tim Griesser (tgriesser)', 'Sascha Grunert (saschagrunert)', 'Juliette (jrfnl)', 'Carlos Alexandro Becker (caarlos0)', 'John Blackbourn (johnbillion)', 'Harry Wolff (hswolff)', 'Yoni Goldberg (i0natan)', 'Felix Angelov (felangel)', 'Rob Moran (thegecko)', 'Ayrat Badykov (ayrat555)']\n"
     ]
    }
   ],
   "source": [
    "#your code\n",
    "\n",
    "github = BeautifulSoup(data.text, 'html.parser')\n",
    "\n",
    "developers = github.select(\"h1.h3 a\")\n",
    "nick = github.select(\"article a.link-gray\")\n",
    "\n",
    "dev = [e.text for e in developers]\n",
    "nick2 = [e.text for e in nick]\n",
    "\n",
    "output = [\"{} ({})\".format(dev[e],nick2[e]) for e in range(len(dev))]\n",
    "print(output)\n"
   ]
  },
  {
   "cell_type": "markdown",
   "metadata": {},
   "source": [
    "#### Display the trending Python repositories in GitHub\n",
    "\n",
    "The steps to solve this problem is similar to the previous one except that you need to find out the repository names instead of developer names."
   ]
  },
  {
   "cell_type": "code",
   "execution_count": 54,
   "metadata": {},
   "outputs": [],
   "source": [
    "# This is the url you will scrape in this exercise\n",
    "url = 'https://github.com/trending/python?since=daily'"
   ]
  },
  {
   "cell_type": "code",
   "execution_count": 68,
   "metadata": {},
   "outputs": [
    {
     "name": "stdout",
     "output_type": "stream",
     "text": [
      "['bokeh', 'documentation', 'celery', 'nl2sql_baseline', 'airflow', 'dbt', 'tweepy', 'Detectron', 'mlflow', 'USTC-Course', 'tensor2tensor', 'tvm', 'openshift-ansible', 'python-telegram-bot', 'py-faster-rcnn', 'nni', 'locust', 'google-cloud-python', 'sanic', 'edx-platform', 'Mobile-Security-Framework-MobSF', 'django-elasticsearch-dsl', 'jsonschema', 'scrapy', 'sigma']\n"
     ]
    }
   ],
   "source": [
    "data2 = rq.get(url)\n",
    "\n",
    "github_py = BeautifulSoup(data2.text, 'html.parser')\n",
    "\n",
    "repos = github_py.select(\"h1.h3 a\", recursive=False)\n",
    "\n",
    "# Me quedo únicamente con el nombre de los repos, borro los autores\n",
    "\n",
    "reps = [e[\"href\"].split(\"/\")[2] for e in repos]\n",
    "    \n",
    "print(reps)"
   ]
  },
  {
   "cell_type": "markdown",
   "metadata": {},
   "source": [
    "#### Display all the image links from Walt Disney wikipedia page"
   ]
  },
  {
   "cell_type": "code",
   "execution_count": 7,
   "metadata": {},
   "outputs": [],
   "source": [
    "# This is the url you will scrape in this exercise\n",
    "url = 'https://en.wikipedia.org/wiki/Walt_Disney'"
   ]
  },
  {
   "cell_type": "code",
   "execution_count": 9,
   "metadata": {},
   "outputs": [
    {
     "name": "stdout",
     "output_type": "stream",
     "text": [
      "['//upload.wikimedia.org/wikipedia/en/thumb/e/e7/Cscr-featured.svg/20px-Cscr-featured.svg.png', '//upload.wikimedia.org/wikipedia/en/thumb/1/1b/Semi-protection-shackle.svg/20px-Semi-protection-shackle.svg.png', '//upload.wikimedia.org/wikipedia/commons/thumb/d/df/Walt_Disney_1946.JPG/220px-Walt_Disney_1946.JPG', '//upload.wikimedia.org/wikipedia/commons/thumb/8/87/Walt_Disney_1942_signature.svg/150px-Walt_Disney_1942_signature.svg.png', '//upload.wikimedia.org/wikipedia/commons/thumb/c/c4/Walt_Disney_envelope_ca._1921.jpg/220px-Walt_Disney_envelope_ca._1921.jpg', '//upload.wikimedia.org/wikipedia/commons/thumb/4/4d/Newman_Laugh-O-Gram_%281921%29.webm/220px-seek%3D2-Newman_Laugh-O-Gram_%281921%29.webm.jpg', '//upload.wikimedia.org/wikipedia/commons/thumb/0/0d/Trolley_Troubles_poster.jpg/170px-Trolley_Troubles_poster.jpg', '//upload.wikimedia.org/wikipedia/commons/thumb/7/71/Walt_Disney_and_his_cartoon_creation_%22Mickey_Mouse%22_-_National_Board_of_Review_Magazine.jpg/170px-Walt_Disney_and_his_cartoon_creation_%22Mickey_Mouse%22_-_National_Board_of_Review_Magazine.jpg', '//upload.wikimedia.org/wikipedia/en/thumb/4/4e/Steamboat-willie.jpg/170px-Steamboat-willie.jpg', '//upload.wikimedia.org/wikipedia/commons/thumb/5/57/Walt_Disney_1935.jpg/170px-Walt_Disney_1935.jpg', '//upload.wikimedia.org/wikipedia/commons/thumb/c/cd/Walt_Disney_Snow_white_1937_trailer_screenshot_%2813%29.jpg/220px-Walt_Disney_Snow_white_1937_trailer_screenshot_%2813%29.jpg', '//upload.wikimedia.org/wikipedia/commons/thumb/1/15/Disney_drawing_goofy.jpg/170px-Disney_drawing_goofy.jpg', '//upload.wikimedia.org/wikipedia/commons/thumb/1/13/DisneySchiphol1951.jpg/220px-DisneySchiphol1951.jpg', '//upload.wikimedia.org/wikipedia/commons/thumb/8/8c/WaltDisneyplansDisneylandDec1954.jpg/220px-WaltDisneyplansDisneylandDec1954.jpg', '//upload.wikimedia.org/wikipedia/commons/thumb/f/ff/Walt_disney_portrait_right.jpg/170px-Walt_disney_portrait_right.jpg', '//upload.wikimedia.org/wikipedia/commons/thumb/1/1a/Walt_Disney_Grave.JPG/170px-Walt_Disney_Grave.JPG', '//upload.wikimedia.org/wikipedia/commons/thumb/2/2d/Roy_O._Disney_with_Company_at_Press_Conference.jpg/170px-Roy_O._Disney_with_Company_at_Press_Conference.jpg', '//upload.wikimedia.org/wikipedia/commons/thumb/a/a9/Disney_Display_Case.JPG/170px-Disney_Display_Case.JPG', '//upload.wikimedia.org/wikipedia/commons/thumb/6/6c/Disney1968.jpg/170px-Disney1968.jpg', '//upload.wikimedia.org/wikipedia/en/thumb/8/8a/OOjs_UI_icon_edit-ltr-progressive.svg/10px-OOjs_UI_icon_edit-ltr-progressive.svg.png', '//upload.wikimedia.org/wikipedia/commons/thumb/d/da/Animation_disc.svg/30px-Animation_disc.svg.png', '//upload.wikimedia.org/wikipedia/en/thumb/6/69/P_vip.svg/29px-P_vip.svg.png', '//upload.wikimedia.org/wikipedia/commons/thumb/1/1a/Magic_Kingdom_castle.jpg/24px-Magic_Kingdom_castle.jpg', '//upload.wikimedia.org/wikipedia/en/thumb/e/e7/Video-x-generic.svg/30px-Video-x-generic.svg.png', '//upload.wikimedia.org/wikipedia/commons/thumb/a/a3/Flag_of_Los_Angeles_County%2C_California.svg/30px-Flag_of_Los_Angeles_County%2C_California.svg.png', '//upload.wikimedia.org/wikipedia/commons/thumb/a/a3/USA_flag_on_television.svg/30px-USA_flag_on_television.svg.png', '//upload.wikimedia.org/wikipedia/en/thumb/4/4a/Commons-logo.svg/22px-Commons-logo.svg.png', '//upload.wikimedia.org/wikipedia/commons/thumb/f/fa/Wikiquote-logo.svg/25px-Wikiquote-logo.svg.png', '//upload.wikimedia.org/wikipedia/commons/thumb/f/ff/Wikidata-logo.svg/30px-Wikidata-logo.svg.png', '//upload.wikimedia.org/wikipedia/en/thumb/8/8a/OOjs_UI_icon_edit-ltr-progressive.svg/10px-OOjs_UI_icon_edit-ltr-progressive.svg.png', '//en.wikipedia.org/wiki/Special:CentralAutoLogin/start?type=1x1', '/static/images/wikimedia-button.png', '/static/images/poweredby_mediawiki_88x31.png']\n"
     ]
    }
   ],
   "source": [
    "#your code\n",
    "data3 = rq.get(url)\n",
    "\n",
    "disney = BeautifulSoup(data3.text, 'html.parser')\n",
    "\n",
    "dimgs = disney.find_all('img')\n",
    "\n",
    "dimg = [e[\"src\"] for e in dimgs]\n",
    "\n",
    "print(dimg)"
   ]
  },
  {
   "cell_type": "markdown",
   "metadata": {},
   "source": [
    "#### Retrieve an arbitary Wikipedia page of \"Python\" and create a list of links on that page"
   ]
  },
  {
   "cell_type": "code",
   "execution_count": 19,
   "metadata": {},
   "outputs": [],
   "source": [
    "# This is the url you will scrape in this exercise\n",
    "url ='https://en.wikipedia.org/wiki/Python' "
   ]
  },
  {
   "cell_type": "code",
   "execution_count": 36,
   "metadata": {},
   "outputs": [
    {
     "name": "stdout",
     "output_type": "stream",
     "text": [
      "['https://en.wiktionary.org/wiki/Python', 'https://en.wiktionary.org/wiki/python', 'https://en.wikipedia.org/w/index.php?title=Python&action=edit&section=1', 'https://en.wikipedia.org/wiki/Pythonidae', 'https://en.wikipedia.org/wiki/Python_(genus)', 'https://en.wikipedia.org/w/index.php?title=Python&action=edit&section=2', 'https://en.wikipedia.org/wiki/Python_(mythology)', 'https://en.wikipedia.org/wiki/Python_of_Aenus', 'https://en.wikipedia.org/wiki/Python_(painter)', 'https://en.wikipedia.org/wiki/Python_of_Byzantium', 'https://en.wikipedia.org/wiki/Python_of_Catana', 'https://en.wikipedia.org/w/index.php?title=Python&action=edit&section=3', 'https://en.wikipedia.org/wiki/Python_(film)', 'https://en.wikipedia.org/wiki/Pythons_2', 'https://en.wikipedia.org/wiki/Monty_Python', 'https://en.wikipedia.org/wiki/Python_(Monty)_Pictures', 'https://en.wikipedia.org/w/index.php?title=Python&action=edit&section=4', 'https://en.wikipedia.org/wiki/Python_(programming_language)', 'https://en.wikipedia.org/wiki/CPython', 'https://en.wikipedia.org/wiki/CMU_Common_Lisp', 'https://en.wikipedia.org/wiki/PERQ#PERQ_3', 'https://en.wikipedia.org/w/index.php?title=Python&action=edit&section=5', 'https://en.wikipedia.org/w/index.php?title=Python&action=edit&section=6', 'https://en.wikipedia.org/wiki/Python_(Busch_Gardens_Tampa_Bay)', 'https://en.wikipedia.org/wiki/Python_(Coney_Island,_Cincinnati,_Ohio)', 'https://en.wikipedia.org/wiki/Python_(Efteling)', 'https://en.wikipedia.org/w/index.php?title=Python&action=edit&section=7', 'https://en.wikipedia.org/wiki/Python_(automobile_maker)', 'https://en.wikipedia.org/wiki/Python_(Ford_prototype)', 'https://en.wikipedia.org/w/index.php?title=Python&action=edit&section=8', 'https://en.wikipedia.org/wiki/Colt_Python', 'https://en.wikipedia.org/wiki/Python_(missile)', 'https://en.wikipedia.org/wiki/Python_(nuclear_primary)', 'https://en.wikipedia.org/w/index.php?title=Python&action=edit&section=9', 'https://en.wikipedia.org/wiki/Python_Anghelo', 'https://en.wikipedia.org/w/index.php?title=Python&action=edit&section=10', 'https://en.wikipedia.org/wiki/PYTHON', 'https://en.wikipedia.org/w/index.php?title=Python&action=edit&section=11', 'https://en.wikipedia.org/wiki/Cython', 'https://en.wikipedia.org/wiki/Pyton', 'https://en.wikipedia.org/wiki/File:Disambig_gray.svg', 'https://en.wikipedia.org/wiki/Help:Disambiguation', 'https://en.wikipedia.org/w/index.php?title=Special:WhatLinksHere/Python&namespace=0']\n"
     ]
    }
   ],
   "source": [
    "#your code\n",
    "\n",
    "# Decido quedarme solamente los enlaces de la wiki, no la de los menús y columnas\n",
    "\n",
    "data4 = rq.get(url)\n",
    "\n",
    "wikipython = BeautifulSoup(data4.text, 'html.parser')\n",
    "\n",
    "links = wikipython.select('#mw-content-text a')\n",
    "\n",
    "link = [e[\"href\"] for e in links if not e[\"href\"].startswith(\"#\")]\n",
    "\n",
    "# Me fijo que hay rutas relativas y absolutas. Las convierto todas en absolutas\n",
    "\n",
    "link2 = [e if e.startswith(\"http\") else \"{}{}\".format(\"https:\",e) if e.startswith(\"//\") \\\n",
    "         else \"{}{}\".format(\"https://en.wikipedia.org\",e) for e in link]\n",
    "\n",
    "print(link2)"
   ]
  },
  {
   "cell_type": "markdown",
   "metadata": {},
   "source": [
    "#### Number of Titles that have changed in the United States Code since its last release point "
   ]
  },
  {
   "cell_type": "code",
   "execution_count": 37,
   "metadata": {},
   "outputs": [],
   "source": [
    "# This is the url you will scrape in this exercise\n",
    "url = 'http://uscode.house.gov/download/download.shtml'"
   ]
  },
  {
   "cell_type": "code",
   "execution_count": 42,
   "metadata": {},
   "outputs": [
    {
     "name": "stdout",
     "output_type": "stream",
     "text": [
      "['Title 2 - The Congress']\n"
     ]
    }
   ],
   "source": [
    "#your code\n",
    "\n",
    "data5 = rq.get(url)\n",
    "\n",
    "uscode = BeautifulSoup(data5.text, 'html.parser')\n",
    "\n",
    "bolds = uscode.select('.usctitlechanged')\n",
    "\n",
    "bold = [e.text.strip() for e in bolds]\n",
    "\n",
    "print(bold)"
   ]
  },
  {
   "cell_type": "markdown",
   "metadata": {},
   "source": [
    "#### A Python list with the top ten FBI's Most Wanted names "
   ]
  },
  {
   "cell_type": "code",
   "execution_count": 43,
   "metadata": {},
   "outputs": [],
   "source": [
    "# This is the url you will scrape in this exercise\n",
    "url = 'https://www.fbi.gov/wanted/topten'"
   ]
  },
  {
   "cell_type": "code",
   "execution_count": 44,
   "metadata": {},
   "outputs": [
    {
     "name": "stdout",
     "output_type": "stream",
     "text": [
      "['JASON DEREK BROWN', 'RAFAEL CARO-QUINTERO', 'ALEXIS FLORES', 'EUGENE PALMER', 'SANTIAGO VILLALBA MEDEROS', 'ROBERT WILLIAM FISHER', 'BHADRESHKUMAR CHETANBHAI PATEL', 'ARNOLDO JIMENEZ', 'ALEJANDRO ROSALES CASTILLO', 'YASER ABDEL SAID']\n"
     ]
    }
   ],
   "source": [
    "#your code\n",
    "\n",
    "data6 = rq.get(url)\n",
    "\n",
    "fbi = BeautifulSoup(data6.text, 'html.parser')\n",
    "\n",
    "topten = fbi.select('h3.title a')\n",
    "\n",
    "top = [e.text for e in topten]\n",
    "\n",
    "print(top)"
   ]
  },
  {
   "cell_type": "markdown",
   "metadata": {},
   "source": [
    "####  20 latest earthquakes info (date, time, latitude, longitude and region name) by the EMSC as a pandas dataframe"
   ]
  },
  {
   "cell_type": "code",
   "execution_count": 69,
   "metadata": {},
   "outputs": [],
   "source": [
    "# This is the url you will scrape in this exercise\n",
    "url = 'https://www.emsc-csem.org/Earthquake/'"
   ]
  },
  {
   "cell_type": "code",
   "execution_count": 112,
   "metadata": {},
   "outputs": [
    {
     "data": {
      "text/html": [
       "<div>\n",
       "<style scoped>\n",
       "    .dataframe tbody tr th:only-of-type {\n",
       "        vertical-align: middle;\n",
       "    }\n",
       "\n",
       "    .dataframe tbody tr th {\n",
       "        vertical-align: top;\n",
       "    }\n",
       "\n",
       "    .dataframe thead th {\n",
       "        text-align: right;\n",
       "    }\n",
       "</style>\n",
       "<table border=\"1\" class=\"dataframe\">\n",
       "  <thead>\n",
       "    <tr style=\"text-align: right;\">\n",
       "      <th></th>\n",
       "      <th>Date</th>\n",
       "      <th>Time</th>\n",
       "      <th>Lat</th>\n",
       "      <th>Long</th>\n",
       "      <th>Region</th>\n",
       "    </tr>\n",
       "  </thead>\n",
       "  <tbody>\n",
       "    <tr>\n",
       "      <th>0</th>\n",
       "      <td>2019-06-27</td>\n",
       "      <td>16:14:09.0</td>\n",
       "      <td>2.42 S</td>\n",
       "      <td>138.62 E</td>\n",
       "      <td>PAPUA, INDONESIA</td>\n",
       "    </tr>\n",
       "    <tr>\n",
       "      <th>1</th>\n",
       "      <td>2019-06-27</td>\n",
       "      <td>16:12:09.0</td>\n",
       "      <td>18.40 N</td>\n",
       "      <td>105.50 W</td>\n",
       "      <td>OFF COAST OF JALISCO, MEXICO</td>\n",
       "    </tr>\n",
       "    <tr>\n",
       "      <th>2</th>\n",
       "      <td>2019-06-27</td>\n",
       "      <td>15:51:31.8</td>\n",
       "      <td>45.68 N</td>\n",
       "      <td>26.78 E</td>\n",
       "      <td>ROMANIA</td>\n",
       "    </tr>\n",
       "    <tr>\n",
       "      <th>3</th>\n",
       "      <td>2019-06-27</td>\n",
       "      <td>15:51:20.1</td>\n",
       "      <td>39.88 N</td>\n",
       "      <td>15.38 E</td>\n",
       "      <td>SOUTHERN ITALY</td>\n",
       "    </tr>\n",
       "    <tr>\n",
       "      <th>4</th>\n",
       "      <td>2019-06-27</td>\n",
       "      <td>15:44:25.0</td>\n",
       "      <td>2.49 S</td>\n",
       "      <td>138.58 E</td>\n",
       "      <td>PAPUA, INDONESIA</td>\n",
       "    </tr>\n",
       "    <tr>\n",
       "      <th>5</th>\n",
       "      <td>2019-06-27</td>\n",
       "      <td>15:39:30.5</td>\n",
       "      <td>21.89 S</td>\n",
       "      <td>168.71 E</td>\n",
       "      <td>LOYALTY ISLANDS</td>\n",
       "    </tr>\n",
       "    <tr>\n",
       "      <th>6</th>\n",
       "      <td>2019-06-27</td>\n",
       "      <td>15:22:10.6</td>\n",
       "      <td>43.80 N</td>\n",
       "      <td>15.38 E</td>\n",
       "      <td>ADRIATIC SEA</td>\n",
       "    </tr>\n",
       "    <tr>\n",
       "      <th>7</th>\n",
       "      <td>2019-06-27</td>\n",
       "      <td>14:49:19.0</td>\n",
       "      <td>19.12 N</td>\n",
       "      <td>70.47 W</td>\n",
       "      <td>DOMINICAN REPUBLIC</td>\n",
       "    </tr>\n",
       "    <tr>\n",
       "      <th>8</th>\n",
       "      <td>2019-06-27</td>\n",
       "      <td>14:43:00.6</td>\n",
       "      <td>40.71 N</td>\n",
       "      <td>16.56 E</td>\n",
       "      <td>SOUTHERN ITALY</td>\n",
       "    </tr>\n",
       "    <tr>\n",
       "      <th>9</th>\n",
       "      <td>2019-06-27</td>\n",
       "      <td>14:14:03.4</td>\n",
       "      <td>20.74 S</td>\n",
       "      <td>178.02 W</td>\n",
       "      <td>FIJI REGION</td>\n",
       "    </tr>\n",
       "    <tr>\n",
       "      <th>10</th>\n",
       "      <td>2019-06-27</td>\n",
       "      <td>14:05:16.0</td>\n",
       "      <td>2.31 S</td>\n",
       "      <td>138.88 E</td>\n",
       "      <td>PAPUA, INDONESIA</td>\n",
       "    </tr>\n",
       "    <tr>\n",
       "      <th>11</th>\n",
       "      <td>2019-06-27</td>\n",
       "      <td>13:36:30.0</td>\n",
       "      <td>8.37 N</td>\n",
       "      <td>82.85 W</td>\n",
       "      <td>PANAMA-COSTA RICA BORDER REGION</td>\n",
       "    </tr>\n",
       "    <tr>\n",
       "      <th>12</th>\n",
       "      <td>2019-06-27</td>\n",
       "      <td>12:48:35.9</td>\n",
       "      <td>2.72 S</td>\n",
       "      <td>138.36 E</td>\n",
       "      <td>PAPUA, INDONESIA</td>\n",
       "    </tr>\n",
       "    <tr>\n",
       "      <th>13</th>\n",
       "      <td>2019-06-27</td>\n",
       "      <td>12:47:27.4</td>\n",
       "      <td>39.57 N</td>\n",
       "      <td>26.08 E</td>\n",
       "      <td>NEAR THE COAST OF WESTERN TURKEY</td>\n",
       "    </tr>\n",
       "    <tr>\n",
       "      <th>14</th>\n",
       "      <td>2019-06-27</td>\n",
       "      <td>12:45:41.0</td>\n",
       "      <td>2.55 S</td>\n",
       "      <td>138.61 E</td>\n",
       "      <td>PAPUA, INDONESIA</td>\n",
       "    </tr>\n",
       "    <tr>\n",
       "      <th>15</th>\n",
       "      <td>2019-06-27</td>\n",
       "      <td>12:36:35.0</td>\n",
       "      <td>29.65 S</td>\n",
       "      <td>71.28 W</td>\n",
       "      <td>COQUIMBO, CHILE</td>\n",
       "    </tr>\n",
       "    <tr>\n",
       "      <th>16</th>\n",
       "      <td>2019-06-27</td>\n",
       "      <td>11:57:30.0</td>\n",
       "      <td>8.37 N</td>\n",
       "      <td>82.84 W</td>\n",
       "      <td>PANAMA-COSTA RICA BORDER REGION</td>\n",
       "    </tr>\n",
       "    <tr>\n",
       "      <th>17</th>\n",
       "      <td>2019-06-27</td>\n",
       "      <td>11:45:34.0</td>\n",
       "      <td>18.45 S</td>\n",
       "      <td>70.10 W</td>\n",
       "      <td>TARAPACA, CHILE</td>\n",
       "    </tr>\n",
       "    <tr>\n",
       "      <th>18</th>\n",
       "      <td>2019-06-27</td>\n",
       "      <td>11:34:15.8</td>\n",
       "      <td>19.34 N</td>\n",
       "      <td>155.14 W</td>\n",
       "      <td>ISLAND OF HAWAII, HAWAII</td>\n",
       "    </tr>\n",
       "    <tr>\n",
       "      <th>19</th>\n",
       "      <td>2019-06-27</td>\n",
       "      <td>11:24:10.0</td>\n",
       "      <td>2.53 S</td>\n",
       "      <td>138.63 E</td>\n",
       "      <td>PAPUA, INDONESIA</td>\n",
       "    </tr>\n",
       "  </tbody>\n",
       "</table>\n",
       "</div>"
      ],
      "text/plain": [
       "          Date        Time      Lat      Long  \\\n",
       "0   2019-06-27  16:14:09.0   2.42 S  138.62 E   \n",
       "1   2019-06-27  16:12:09.0  18.40 N  105.50 W   \n",
       "2   2019-06-27  15:51:31.8  45.68 N   26.78 E   \n",
       "3   2019-06-27  15:51:20.1  39.88 N   15.38 E   \n",
       "4   2019-06-27  15:44:25.0   2.49 S  138.58 E   \n",
       "5   2019-06-27  15:39:30.5  21.89 S  168.71 E   \n",
       "6   2019-06-27  15:22:10.6  43.80 N   15.38 E   \n",
       "7   2019-06-27  14:49:19.0  19.12 N   70.47 W   \n",
       "8   2019-06-27  14:43:00.6  40.71 N   16.56 E   \n",
       "9   2019-06-27  14:14:03.4  20.74 S  178.02 W   \n",
       "10  2019-06-27  14:05:16.0   2.31 S  138.88 E   \n",
       "11  2019-06-27  13:36:30.0   8.37 N   82.85 W   \n",
       "12  2019-06-27  12:48:35.9   2.72 S  138.36 E   \n",
       "13  2019-06-27  12:47:27.4  39.57 N   26.08 E   \n",
       "14  2019-06-27  12:45:41.0   2.55 S  138.61 E   \n",
       "15  2019-06-27  12:36:35.0  29.65 S   71.28 W   \n",
       "16  2019-06-27  11:57:30.0   8.37 N   82.84 W   \n",
       "17  2019-06-27  11:45:34.0  18.45 S   70.10 W   \n",
       "18  2019-06-27  11:34:15.8  19.34 N  155.14 W   \n",
       "19  2019-06-27  11:24:10.0   2.53 S  138.63 E   \n",
       "\n",
       "                              Region  \n",
       "0                   PAPUA, INDONESIA  \n",
       "1       OFF COAST OF JALISCO, MEXICO  \n",
       "2                            ROMANIA  \n",
       "3                     SOUTHERN ITALY  \n",
       "4                   PAPUA, INDONESIA  \n",
       "5                    LOYALTY ISLANDS  \n",
       "6                       ADRIATIC SEA  \n",
       "7                 DOMINICAN REPUBLIC  \n",
       "8                     SOUTHERN ITALY  \n",
       "9                        FIJI REGION  \n",
       "10                  PAPUA, INDONESIA  \n",
       "11   PANAMA-COSTA RICA BORDER REGION  \n",
       "12                  PAPUA, INDONESIA  \n",
       "13  NEAR THE COAST OF WESTERN TURKEY  \n",
       "14                  PAPUA, INDONESIA  \n",
       "15                   COQUIMBO, CHILE  \n",
       "16   PANAMA-COSTA RICA BORDER REGION  \n",
       "17                   TARAPACA, CHILE  \n",
       "18          ISLAND OF HAWAII, HAWAII  \n",
       "19                  PAPUA, INDONESIA  "
      ]
     },
     "metadata": {},
     "output_type": "display_data"
    }
   ],
   "source": [
    "#your code\n",
    "\n",
    "data7 = rq.get(url)\n",
    "\n",
    "earthquakes = BeautifulSoup(data7.text, 'html.parser')\n",
    "\n",
    "dates = earthquakes.select('td.tabev6 a')\n",
    "latLons1 = earthquakes.select('td.tabev1')\n",
    "latLons2 = earthquakes.select('td.tabev2')\n",
    "regions = earthquakes.select('td.tb_region')\n",
    "\n",
    "date = [e.text.split(\"\\xa0\\xa0\\xa0\") for e in dates]\n",
    "latLon1 = [e.text.strip() for e in latLons1]\n",
    "latLon2 = [e.text.strip() for e in latLons2]\n",
    "region = [e.text.strip() for e in regions]\n",
    "\n",
    "date_final = [date[e][0] for e in range(20)]\n",
    "time_final = [date[e][1] for e in range(20)]\n",
    "lat = [latLon1[e] for e in range(0,40,2)]\n",
    "lon = [latLon1[e] for e in range(1,40,2)]\n",
    "lat_letter = [latLon2[e] for e in range(0,60,3)]\n",
    "lon_letter = [latLon2[e] for e in range(1,60,3)]\n",
    "lat_final = [lat[e] + \" \" + lat_letter[e] for e in range(20)]\n",
    "lon_final = [lon[e] + \" \" + lon_letter[e] for e in range(20)]\n",
    "region_final = [region[e] for e in range(20)]\n",
    "\n",
    "dct = {\n",
    "    \"Date\" : date_final,\n",
    "    \"Time\": time_final,\n",
    "    \"Lat\": lat_final,\n",
    "    \"Long\": lon_final,\n",
    "    \"Region\": region_final\n",
    "}\n",
    "\n",
    "df_eq = pd.DataFrame(dct)\n",
    "\n",
    "display(df_eq)"
   ]
  },
  {
   "cell_type": "markdown",
   "metadata": {},
   "source": [
    "#### Display the date, days, title, city, country of next 25 hackathon events as a Pandas dataframe table"
   ]
  },
  {
   "cell_type": "code",
   "execution_count": 129,
   "metadata": {},
   "outputs": [],
   "source": [
    "# This is the url you will scrape in this exercise\n",
    "url ='https://hackevents.co/hackathons'"
   ]
  },
  {
   "cell_type": "code",
   "execution_count": 131,
   "metadata": {},
   "outputs": [
    {
     "name": "stdout",
     "output_type": "stream",
     "text": [
      "[<div class=\"card-body\" style=\"color:black\"><h5 class=\"card-title\">OSNA HACK 2019</h5><p class=\"card-text\"><i class=\"fas fa-calendar-alt\"></i> 6/27/2019\n",
      "</p></div>, <div class=\"card-body\" style=\"color:black\"><h5 class=\"card-title\">Hackathon | Draper University</h5><p class=\"card-text\"><i class=\"fas fa-calendar-alt\"></i> 7/5/2019\n",
      "</p></div>, <div class=\"card-body\" style=\"color:black\"><h5 class=\"card-title\">Hack-ADA-thon – Inspired by BHS Corrugated</h5><p class=\"card-text\"><i class=\"fas fa-calendar-alt\"></i> 7/12/2019\n",
      "</p></div>, <div class=\"card-body\" style=\"color:black\"><h5 class=\"card-title\">Code Geist Hackathon by SefrWahed</h5><p class=\"card-text\"><i class=\"fas fa-calendar-alt\"></i> 7/29/2019\n",
      "</p></div>, <div class=\"card-body\" style=\"color:black\"><h5 class=\"card-title\">The Code Factor</h5><p class=\"card-text\"><i class=\"fas fa-calendar-alt\"></i> 5/21/2019\n",
      "</p></div>, <div class=\"card-body\" style=\"color:black\"><h5 class=\"card-title\">TECHFEST MUNICH</h5><p class=\"card-text\"><i class=\"fas fa-calendar-alt\"></i> 9/6/2019\n",
      "</p></div>]\n"
     ]
    }
   ],
   "source": [
    "#your code\n",
    "\n",
    "data8 = rq.get(url)\n",
    "\n",
    "hackatons = BeautifulSoup(data8.text, 'html.parser')\n",
    "\n",
    "# La página ha cambiado. No tiene days y solo salen 6 hackatones.\n",
    "\n",
    "titles = hackatons.select('h5.card-title')\n",
    "datas = hackatons.find_all(\"div\", {\"class\": \"card-body\"})\n",
    "\n",
    "title = [e.text for e in titles]\n",
    "date = [e for e in datas]\n",
    "\n",
    "\n",
    "print(date)"
   ]
  },
  {
   "cell_type": "markdown",
   "metadata": {},
   "source": [
    "#### Count number of tweets by a given Twitter account."
   ]
  },
  {
   "cell_type": "markdown",
   "metadata": {},
   "source": [
    "You will need to include a ***try/except block*** for account names not found. \n",
    "<br>***Hint:*** the program should count the number of tweets for any provided account"
   ]
  },
  {
   "cell_type": "code",
   "execution_count": 135,
   "metadata": {},
   "outputs": [],
   "source": [
    "# This is the url you will scrape in this exercise \n",
    "# You will need to add the account credentials to this url\n",
    "url = 'https://twitter.com/'"
   ]
  },
  {
   "cell_type": "code",
   "execution_count": 144,
   "metadata": {},
   "outputs": [
    {
     "name": "stdout",
     "output_type": "stream",
     "text": [
      "La cuenta @barackobama tiene 15643 tweets.\n"
     ]
    }
   ],
   "source": [
    "#your code\n",
    "\n",
    "user = \"barackobama\"\n",
    "\n",
    "try:\n",
    "    data9 = rq.get(url+user)\n",
    "    tuiteres = BeautifulSoup(data9.text, 'html.parser')\n",
    "\n",
    "    tuits = tuiteres.select('span.ProfileNav-value')\n",
    "\n",
    "    print(\"La cuenta @{} tiene {} tweets.\".format(user,tuits[0][\"data-count\"]))\n",
    "    \n",
    "except:\n",
    "    print(\"El usuario no es válido\")"
   ]
  },
  {
   "cell_type": "markdown",
   "metadata": {},
   "source": [
    "#### Number of followers of a given twitter account"
   ]
  },
  {
   "cell_type": "markdown",
   "metadata": {},
   "source": [
    "You will need to include a ***try/except block*** in case account/s name not found. \n",
    "<br>***Hint:*** the program should count the followers for any provided account"
   ]
  },
  {
   "cell_type": "code",
   "execution_count": null,
   "metadata": {},
   "outputs": [],
   "source": [
    "# This is the url you will scrape in this exercise \n",
    "# You will need to add the account credentials to this url\n",
    "url = 'https://twitter.com/'"
   ]
  },
  {
   "cell_type": "code",
   "execution_count": 146,
   "metadata": {},
   "outputs": [
    {
     "name": "stdout",
     "output_type": "stream",
     "text": [
      "La cuenta @barackobama tiene 106769437 de followers.\n"
     ]
    }
   ],
   "source": [
    "#your code\n",
    "\n",
    "user = \"barackobama\"\n",
    "\n",
    "try:\n",
    "    data10 = rq.get(url+user)\n",
    "    tuiteres = BeautifulSoup(data10.text, 'html.parser')\n",
    "\n",
    "    tuits = tuiteres.select('span.ProfileNav-value')\n",
    "\n",
    "    print(\"La cuenta @{} tiene {} de followers.\".format(user,tuits[2][\"data-count\"]))\n",
    "    \n",
    "except:\n",
    "    print(\"El usuario no es válido\")"
   ]
  },
  {
   "cell_type": "markdown",
   "metadata": {},
   "source": [
    "#### List all language names and number of related articles in the order they appear in wikipedia.org"
   ]
  },
  {
   "cell_type": "code",
   "execution_count": 147,
   "metadata": {},
   "outputs": [],
   "source": [
    "# This is the url you will scrape in this exercise\n",
    "url = 'https://www.wikipedia.org/'"
   ]
  },
  {
   "cell_type": "code",
   "execution_count": 174,
   "metadata": {},
   "outputs": [
    {
     "name": "stdout",
     "output_type": "stream",
     "text": [
      "[('English', '5\\xa0878\\xa0000+'), ('æ\\x97¥æ\\x9c¬èª\\x9e', '1\\xa0155\\xa0000+'), ('EspaÃ±ol', '1\\xa0528\\xa0000+'), ('Deutsch', '2\\xa0314\\xa0000+'), ('Ð\\xa0Ñ\\x83Ñ\\x81Ñ\\x81ÐºÐ¸Ð¹', '1\\xa0551\\xa0000+'), ('FranÃ§ais', '2\\xa0116\\xa0000+'), ('Italiano', '1\\xa0535\\xa0000+'), ('ä¸\\xadæ\\x96\\x87', '1\\xa0062\\xa0000+'), ('PortuguÃªs', '1\\xa0008\\xa0000+'), ('Polski', '1\\xa0342\\xa0000+')]\n"
     ]
    }
   ],
   "source": [
    "#your code\n",
    "\n",
    "data11 = rq.get(url)\n",
    "\n",
    "wikipedias = BeautifulSoup(data11.text, 'html.parser')\n",
    "\n",
    "languages = wikipedias.select('div.central-featured-lang strong')\n",
    "articles = wikipedias.select('div.central-featured-lang bdi')\n",
    "\n",
    "language = [e.text.strip() for e in languages]\n",
    "article = [e.text.strip() for e in articles]\n",
    "\n",
    "# Tengo que buscar como decodificarlo\n",
    "\n",
    "langArt = [(language[e],article[e]) for e in range(len(languages))]\n",
    "\n",
    "print(langArt)"
   ]
  },
  {
   "cell_type": "markdown",
   "metadata": {},
   "source": [
    "#### A list with the different kind of datasets available in data.gov.uk "
   ]
  },
  {
   "cell_type": "code",
   "execution_count": 175,
   "metadata": {},
   "outputs": [],
   "source": [
    "# This is the url you will scrape in this exercise\n",
    "url = 'https://data.gov.uk/'"
   ]
  },
  {
   "cell_type": "code",
   "execution_count": 176,
   "metadata": {},
   "outputs": [
    {
     "name": "stdout",
     "output_type": "stream",
     "text": [
      "['Business and economy', 'Crime and justice', 'Defence', 'Education', 'Environment', 'Government', 'Government spending', 'Health', 'Mapping', 'Society', 'Towns and cities', 'Transport']\n"
     ]
    }
   ],
   "source": [
    "data12 = rq.get(url)\n",
    "\n",
    "dataGov = BeautifulSoup(data12.text, 'html.parser')\n",
    "\n",
    "datasets = dataGov.select('main a')\n",
    "\n",
    "types = [e.text.strip() for e in datasets]\n",
    "\n",
    "\n",
    "print(types)"
   ]
  },
  {
   "cell_type": "markdown",
   "metadata": {},
   "source": [
    "#### Top 10 languages by number of native speakers stored in a Pandas Dataframe"
   ]
  },
  {
   "cell_type": "code",
   "execution_count": null,
   "metadata": {},
   "outputs": [],
   "source": [
    "# This is the url you will scrape in this exercise\n",
    "url = 'https://en.wikipedia.org/wiki/List_of_languages_by_number_of_native_speakers'"
   ]
  },
  {
   "cell_type": "code",
   "execution_count": 177,
   "metadata": {},
   "outputs": [],
   "source": [
    "#your code\n"
   ]
  },
  {
   "cell_type": "markdown",
   "metadata": {},
   "source": [
    "### BONUS QUESTIONS"
   ]
  },
  {
   "cell_type": "markdown",
   "metadata": {},
   "source": [
    "#### Scrape a certain number of tweets of a given Twitter account."
   ]
  },
  {
   "cell_type": "code",
   "execution_count": null,
   "metadata": {},
   "outputs": [],
   "source": [
    "# This is the url you will scrape in this exercise \n",
    "# You will need to add the account credentials to this url\n",
    "url = 'https://twitter.com/'"
   ]
  },
  {
   "cell_type": "code",
   "execution_count": null,
   "metadata": {},
   "outputs": [],
   "source": [
    "# your code"
   ]
  },
  {
   "cell_type": "markdown",
   "metadata": {},
   "source": [
    "#### IMDB's Top 250 data (movie name, Initial release, director name and stars) as a pandas dataframe"
   ]
  },
  {
   "cell_type": "code",
   "execution_count": null,
   "metadata": {},
   "outputs": [],
   "source": [
    "# This is the url you will scrape in this exercise \n",
    "url = 'https://www.imdb.com/chart/top'"
   ]
  },
  {
   "cell_type": "code",
   "execution_count": null,
   "metadata": {},
   "outputs": [],
   "source": [
    "# your code"
   ]
  },
  {
   "cell_type": "markdown",
   "metadata": {},
   "source": [
    "#### Movie name, year and a brief summary of the top 10 random movies (IMDB) as a pandas dataframe."
   ]
  },
  {
   "cell_type": "code",
   "execution_count": null,
   "metadata": {},
   "outputs": [],
   "source": [
    "#This is the url you will scrape in this exercise\n",
    "url = 'http://www.imdb.com/chart/top'"
   ]
  },
  {
   "cell_type": "code",
   "execution_count": null,
   "metadata": {},
   "outputs": [],
   "source": [
    "#your code"
   ]
  },
  {
   "cell_type": "markdown",
   "metadata": {},
   "source": [
    "#### Find the live weather report (temperature, wind speed, description and weather) of a given city."
   ]
  },
  {
   "cell_type": "code",
   "execution_count": null,
   "metadata": {},
   "outputs": [],
   "source": [
    "#https://openweathermap.org/current\n",
    "city = city=input('Enter the city:')\n",
    "url = 'http://api.openweathermap.org/data/2.5/weather?'+'q='+city+'&APPID=b35975e18dc93725acb092f7272cc6b8&units=metric'"
   ]
  },
  {
   "cell_type": "code",
   "execution_count": null,
   "metadata": {},
   "outputs": [],
   "source": [
    "# your code"
   ]
  },
  {
   "cell_type": "markdown",
   "metadata": {},
   "source": [
    "#### Book name,price and stock availability as a pandas dataframe."
   ]
  },
  {
   "cell_type": "code",
   "execution_count": null,
   "metadata": {},
   "outputs": [],
   "source": [
    "# This is the url you will scrape in this exercise. \n",
    "# It is a fictional bookstore created to be scraped. \n",
    "url = 'http://books.toscrape.com/'"
   ]
  },
  {
   "cell_type": "code",
   "execution_count": null,
   "metadata": {},
   "outputs": [],
   "source": [
    "#your code"
   ]
  }
 ],
 "metadata": {
  "kernelspec": {
   "display_name": "Python 3",
   "language": "python",
   "name": "python3"
  },
  "language_info": {
   "codemirror_mode": {
    "name": "ipython",
    "version": 3
   },
   "file_extension": ".py",
   "mimetype": "text/x-python",
   "name": "python",
   "nbconvert_exporter": "python",
   "pygments_lexer": "ipython3",
   "version": "3.7.3"
  }
 },
 "nbformat": 4,
 "nbformat_minor": 2
}
