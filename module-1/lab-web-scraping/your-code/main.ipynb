{
 "cells": [
  {
   "cell_type": "markdown",
   "metadata": {},
   "source": [
    "# Web Scraping Lab\n",
    "\n",
    "You will find in this notebook some scrapy exercises to practise your scraping skills.\n",
    "\n",
    "**Tips:**\n",
    "\n",
    "- Check the response status code for each request to ensure you have obtained the intended contennt.\n",
    "- Print the response text in each request to understand the kind of info you are getting and its format.\n",
    "- Check for patterns in the response text to extract the data/info requested in each question.\n",
    "- Visit each url and take a look at its source through Chrome DevTools. You'll need to identify the html tags, special class names etc. used for the html content you are expected to extract."
   ]
  },
  {
   "cell_type": "markdown",
   "metadata": {},
   "source": [
    "- [Requests library](http://docs.python-requests.org/en/master/#the-user-guide) documentation \n",
    "- [Beautiful Soup Doc](https://www.crummy.com/software/BeautifulSoup/bs4/doc/)\n",
    "- [Urllib](https://docs.python.org/3/library/urllib.html#module-urllib)\n",
    "- [re lib](https://docs.python.org/3/library/re.html)\n",
    "- [lxml lib](https://lxml.de/)\n",
    "- [Scrapy](https://scrapy.org/)\n",
    "- [List of HTTP status codes](https://en.wikipedia.org/wiki/List_of_HTTP_status_codes)\n",
    "- [HTML basics](http://www.simplehtmlguide.com/cheatsheet.php)\n",
    "- [CSS basics](https://www.cssbasics.com/#page_start)"
   ]
  },
  {
   "cell_type": "markdown",
   "metadata": {},
   "source": [
    "#### Below are the libraries and modules you may need. `requests`,  `BeautifulSoup` and `pandas` are imported for you. If you prefer to use additional libraries feel free to uncomment them."
   ]
  },
  {
   "cell_type": "code",
   "execution_count": 4,
   "metadata": {},
   "outputs": [],
   "source": [
    "import requests as rq\n",
    "from bs4 import BeautifulSoup\n",
    "import pandas as pd\n",
    "# from pprint import pprint\n",
    "# from lxml import html\n",
    "# from lxml.html import fromstring\n",
    "# import urllib.request\n",
    "# from urllib.request import urlopen\n",
    "# import random\n",
    "# import re\n",
    "# import scrapy"
   ]
  },
  {
   "cell_type": "markdown",
   "metadata": {},
   "source": [
    "#### Download, parse (using BeautifulSoup), and print the content from the Trending Developers page from GitHub:"
   ]
  },
  {
   "cell_type": "code",
   "execution_count": 10,
   "metadata": {},
   "outputs": [],
   "source": [
    "# This is the url you will scrape in this exercise\n",
    "url = 'https://github.com/trending/developers'"
   ]
  },
  {
   "cell_type": "code",
   "execution_count": 11,
   "metadata": {},
   "outputs": [],
   "source": [
    "data = rq.get(url)"
   ]
  },
  {
   "cell_type": "markdown",
   "metadata": {},
   "source": [
    "#### Display the names of the trending developers retrieved in the previous step.\n",
    "\n",
    "Your output should be a Python list of developer names. Each name should not contain any html tag.\n",
    "\n",
    "**Instructions:**\n",
    "\n",
    "1. Find out the html tag and class names used for the developer names. You can achieve this using Chrome DevTools.\n",
    "\n",
    "1. Use BeautifulSoup to extract all the html elements that contain the developer names.\n",
    "\n",
    "1. Use string manipulation techniques to replace whitespaces and linebreaks (i.e. `\\n`) in the *text* of each html element. Use a list to store the clean names.\n",
    "\n",
    "1. Print the list of names.\n",
    "\n",
    "Your output should look like below:\n",
    "\n",
    "```\n",
    "['trimstray (@trimstray)',\n",
    " 'joewalnes (JoeWalnes)',\n",
    " 'charlax (Charles-AxelDein)',\n",
    " 'ForrestKnight (ForrestKnight)',\n",
    " 'revery-ui (revery-ui)',\n",
    " 'alibaba (Alibaba)',\n",
    " 'Microsoft (Microsoft)',\n",
    " 'github (GitHub)',\n",
    " 'facebook (Facebook)',\n",
    " 'boazsegev (Bo)',\n",
    " 'google (Google)',\n",
    " 'cloudfetch',\n",
    " 'sindresorhus (SindreSorhus)',\n",
    " 'tensorflow',\n",
    " 'apache (TheApacheSoftwareFoundation)',\n",
    " 'DevonCrawford (DevonCrawford)',\n",
    " 'ARMmbed (ArmMbed)',\n",
    " 'vuejs (vuejs)',\n",
    " 'fastai (fast.ai)',\n",
    " 'QiShaoXuan (Qi)',\n",
    " 'joelparkerhenderson (JoelParkerHenderson)',\n",
    " 'torvalds (LinusTorvalds)',\n",
    " 'CyC2018',\n",
    " 'komeiji-satori (神楽坂覚々)',\n",
    " 'script-8']\n",
    " ```"
   ]
  },
  {
   "cell_type": "code",
   "execution_count": 18,
   "metadata": {},
   "outputs": [
    {
     "name": "stdout",
     "output_type": "stream",
     "text": [
      "['Peter Bourgon (peterbourgon)', 'Pierre Krieger (tomaka)', 'Carl Lerche (carllerche)', 'Matt Layher (mdlayher)', 'Claudio Sanches (claudiosanches)', 'Jeremy Long (jeremylong)', 'Eddy Verbruggen (EddyVerbruggen)', 'Kyle (kylekatarnls)', 'Jeff Geerling (geerlingguy)', 'Kirk Wight (kwight)', 'Daniel Shiffman (shiffman)', '子骅 (luin)', 'Bastian Köcher (bkchr)', 'Brendan Forster (shiftkey)', 'Benjamin Eberlei (beberlei)', 'Tim Griesser (tgriesser)', 'Sascha Grunert (saschagrunert)', 'Juliette (jrfnl)', 'Carlos Alexandro Becker (caarlos0)', 'John Blackbourn (johnbillion)', 'Harry Wolff (hswolff)', 'Yoni Goldberg (i0natan)', 'Felix Angelov (felangel)', 'Rob Moran (thegecko)', 'Ayrat Badykov (ayrat555)']\n"
     ]
    }
   ],
   "source": [
    "#your code\n",
    "\n",
    "github = BeautifulSoup(data.text, 'html.parser')\n",
    "\n",
    "developers = github.select(\"h1.h3 a\")\n",
    "nick = github.select(\"article a.link-gray\")\n",
    "\n",
    "dev = [e.text for e in developers]\n",
    "nick2 = [e.text for e in nick]\n",
    "\n",
    "output = [\"{} ({})\".format(dev[e],nick2[e]) for e in range(len(dev))]\n",
    "print(output)\n"
   ]
  },
  {
   "cell_type": "markdown",
   "metadata": {},
   "source": [
    "#### Display the trending Python repositories in GitHub\n",
    "\n",
    "The steps to solve this problem is similar to the previous one except that you need to find out the repository names instead of developer names."
   ]
  },
  {
   "cell_type": "code",
   "execution_count": 54,
   "metadata": {},
   "outputs": [],
   "source": [
    "# This is the url you will scrape in this exercise\n",
    "url = 'https://github.com/trending/python?since=daily'"
   ]
  },
  {
   "cell_type": "code",
   "execution_count": 68,
   "metadata": {},
   "outputs": [
    {
     "name": "stdout",
     "output_type": "stream",
     "text": [
      "['bokeh', 'documentation', 'celery', 'nl2sql_baseline', 'airflow', 'dbt', 'tweepy', 'Detectron', 'mlflow', 'USTC-Course', 'tensor2tensor', 'tvm', 'openshift-ansible', 'python-telegram-bot', 'py-faster-rcnn', 'nni', 'locust', 'google-cloud-python', 'sanic', 'edx-platform', 'Mobile-Security-Framework-MobSF', 'django-elasticsearch-dsl', 'jsonschema', 'scrapy', 'sigma']\n"
     ]
    }
   ],
   "source": [
    "data2 = rq.get(url)\n",
    "\n",
    "github_py = BeautifulSoup(data2.text, 'html.parser')\n",
    "\n",
    "repos = github_py.select(\"h1.h3 a\", recursive=False)\n",
    "\n",
    "# Me quedo únicamente con el nombre de los repos, borro los autores\n",
    "\n",
    "reps = [e[\"href\"].split(\"/\")[2] for e in repos]\n",
    "    \n",
    "print(reps)"
   ]
  },
  {
   "cell_type": "markdown",
   "metadata": {},
   "source": [
    "#### Display all the image links from Walt Disney wikipedia page"
   ]
  },
  {
   "cell_type": "code",
   "execution_count": 317,
   "metadata": {},
   "outputs": [],
   "source": [
    "# This is the url you will scrape in this exercise\n",
    "url = 'https://en.wikipedia.org/wiki/Walt_Disney'"
   ]
  },
  {
   "cell_type": "code",
   "execution_count": 335,
   "metadata": {},
   "outputs": [
    {
     "data": {
      "text/html": [
       "<img src=\"https:/upload.wikimedia.org/wikipedia/commons/thumb/d/df/Walt_Disney_1946.JPG/220px-Walt_Disney_1946.JPG\" style=\"display:inline-block\">"
      ],
      "text/plain": [
       "<IPython.core.display.HTML object>"
      ]
     },
     "metadata": {},
     "output_type": "display_data"
    },
    {
     "data": {
      "text/html": [
       "<img src=\"https:/upload.wikimedia.org/wikipedia/commons/thumb/8/87/Walt_Disney_1942_signature.svg/150px-Walt_Disney_1942_signature.svg.png\" style=\"display:inline-block\">"
      ],
      "text/plain": [
       "<IPython.core.display.HTML object>"
      ]
     },
     "metadata": {},
     "output_type": "display_data"
    },
    {
     "data": {
      "text/html": [
       "<img src=\"https:/upload.wikimedia.org/wikipedia/commons/thumb/c/c4/Walt_Disney_envelope_ca._1921.jpg/220px-Walt_Disney_envelope_ca._1921.jpg\" style=\"display:inline-block\">"
      ],
      "text/plain": [
       "<IPython.core.display.HTML object>"
      ]
     },
     "metadata": {},
     "output_type": "display_data"
    },
    {
     "data": {
      "text/html": [
       "<img src=\"https:/upload.wikimedia.org/wikipedia/commons/thumb/4/4d/Newman_Laugh-O-Gram_%281921%29.webm/220px-seek%3D2-Newman_Laugh-O-Gram_%281921%29.webm.jpg\" style=\"display:inline-block\">"
      ],
      "text/plain": [
       "<IPython.core.display.HTML object>"
      ]
     },
     "metadata": {},
     "output_type": "display_data"
    },
    {
     "data": {
      "text/html": [
       "<img src=\"https:/upload.wikimedia.org/wikipedia/commons/thumb/0/0d/Trolley_Troubles_poster.jpg/170px-Trolley_Troubles_poster.jpg\" style=\"display:inline-block\">"
      ],
      "text/plain": [
       "<IPython.core.display.HTML object>"
      ]
     },
     "metadata": {},
     "output_type": "display_data"
    },
    {
     "data": {
      "text/html": [
       "<img src=\"https:/upload.wikimedia.org/wikipedia/commons/thumb/7/71/Walt_Disney_and_his_cartoon_creation_%22Mickey_Mouse%22_-_National_Board_of_Review_Magazine.jpg/170px-Walt_Disney_and_his_cartoon_creation_%22Mickey_Mouse%22_-_National_Board_of_Review_Magazine.jpg\" style=\"display:inline-block\">"
      ],
      "text/plain": [
       "<IPython.core.display.HTML object>"
      ]
     },
     "metadata": {},
     "output_type": "display_data"
    },
    {
     "data": {
      "text/html": [
       "<img src=\"https:/upload.wikimedia.org/wikipedia/en/thumb/4/4e/Steamboat-willie.jpg/170px-Steamboat-willie.jpg\" style=\"display:inline-block\">"
      ],
      "text/plain": [
       "<IPython.core.display.HTML object>"
      ]
     },
     "metadata": {},
     "output_type": "display_data"
    },
    {
     "data": {
      "text/html": [
       "<img src=\"https:/upload.wikimedia.org/wikipedia/commons/thumb/5/57/Walt_Disney_1935.jpg/170px-Walt_Disney_1935.jpg\" style=\"display:inline-block\">"
      ],
      "text/plain": [
       "<IPython.core.display.HTML object>"
      ]
     },
     "metadata": {},
     "output_type": "display_data"
    },
    {
     "data": {
      "text/html": [
       "<img src=\"https:/upload.wikimedia.org/wikipedia/commons/thumb/c/cd/Walt_Disney_Snow_white_1937_trailer_screenshot_%2813%29.jpg/220px-Walt_Disney_Snow_white_1937_trailer_screenshot_%2813%29.jpg\" style=\"display:inline-block\">"
      ],
      "text/plain": [
       "<IPython.core.display.HTML object>"
      ]
     },
     "metadata": {},
     "output_type": "display_data"
    },
    {
     "data": {
      "text/html": [
       "<img src=\"https:/upload.wikimedia.org/wikipedia/commons/thumb/1/15/Disney_drawing_goofy.jpg/170px-Disney_drawing_goofy.jpg\" style=\"display:inline-block\">"
      ],
      "text/plain": [
       "<IPython.core.display.HTML object>"
      ]
     },
     "metadata": {},
     "output_type": "display_data"
    },
    {
     "data": {
      "text/html": [
       "<img src=\"https:/upload.wikimedia.org/wikipedia/commons/thumb/1/13/DisneySchiphol1951.jpg/220px-DisneySchiphol1951.jpg\" style=\"display:inline-block\">"
      ],
      "text/plain": [
       "<IPython.core.display.HTML object>"
      ]
     },
     "metadata": {},
     "output_type": "display_data"
    },
    {
     "data": {
      "text/html": [
       "<img src=\"https:/upload.wikimedia.org/wikipedia/commons/thumb/8/8c/WaltDisneyplansDisneylandDec1954.jpg/220px-WaltDisneyplansDisneylandDec1954.jpg\" style=\"display:inline-block\">"
      ],
      "text/plain": [
       "<IPython.core.display.HTML object>"
      ]
     },
     "metadata": {},
     "output_type": "display_data"
    },
    {
     "data": {
      "text/html": [
       "<img src=\"https:/upload.wikimedia.org/wikipedia/commons/thumb/f/ff/Walt_disney_portrait_right.jpg/170px-Walt_disney_portrait_right.jpg\" style=\"display:inline-block\">"
      ],
      "text/plain": [
       "<IPython.core.display.HTML object>"
      ]
     },
     "metadata": {},
     "output_type": "display_data"
    },
    {
     "data": {
      "text/html": [
       "<img src=\"https:/upload.wikimedia.org/wikipedia/commons/thumb/1/1a/Walt_Disney_Grave.JPG/170px-Walt_Disney_Grave.JPG\" style=\"display:inline-block\">"
      ],
      "text/plain": [
       "<IPython.core.display.HTML object>"
      ]
     },
     "metadata": {},
     "output_type": "display_data"
    },
    {
     "data": {
      "text/html": [
       "<img src=\"https:/upload.wikimedia.org/wikipedia/commons/thumb/2/2d/Roy_O._Disney_with_Company_at_Press_Conference.jpg/170px-Roy_O._Disney_with_Company_at_Press_Conference.jpg\" style=\"display:inline-block\">"
      ],
      "text/plain": [
       "<IPython.core.display.HTML object>"
      ]
     },
     "metadata": {},
     "output_type": "display_data"
    },
    {
     "data": {
      "text/html": [
       "<img src=\"https:/upload.wikimedia.org/wikipedia/commons/thumb/a/a9/Disney_Display_Case.JPG/170px-Disney_Display_Case.JPG\" style=\"display:inline-block\">"
      ],
      "text/plain": [
       "<IPython.core.display.HTML object>"
      ]
     },
     "metadata": {},
     "output_type": "display_data"
    },
    {
     "data": {
      "text/html": [
       "<img src=\"https:/upload.wikimedia.org/wikipedia/commons/thumb/6/6c/Disney1968.jpg/170px-Disney1968.jpg\" style=\"display:inline-block\">"
      ],
      "text/plain": [
       "<IPython.core.display.HTML object>"
      ]
     },
     "metadata": {},
     "output_type": "display_data"
    }
   ],
   "source": [
    "#your code\n",
    "from IPython.core.display import HTML \n",
    "from IPython.display import Image, display_html\n",
    "\n",
    "data3 = rq.get(url)\n",
    "\n",
    "disney = BeautifulSoup(data3.text, 'html.parser')\n",
    "\n",
    "dimgs = disney.select('#bodyContent img')[:-12]\n",
    "\n",
    "dimg = [\"https:\"+e[\"src\"][1:] for e in dimgs]\n",
    "\n",
    "for e in dimg:\n",
    "    display(HTML('<img src=\"{}\" style=\"display:inline-block\">'.format(e)))"
   ]
  },
  {
   "cell_type": "markdown",
   "metadata": {},
   "source": [
    "#### Retrieve an arbitary Wikipedia page of \"Python\" and create a list of links on that page"
   ]
  },
  {
   "cell_type": "code",
   "execution_count": 19,
   "metadata": {},
   "outputs": [],
   "source": [
    "# This is the url you will scrape in this exercise\n",
    "url ='https://en.wikipedia.org/wiki/Python' "
   ]
  },
  {
   "cell_type": "code",
   "execution_count": 36,
   "metadata": {},
   "outputs": [
    {
     "name": "stdout",
     "output_type": "stream",
     "text": [
      "['https://en.wiktionary.org/wiki/Python', 'https://en.wiktionary.org/wiki/python', 'https://en.wikipedia.org/w/index.php?title=Python&action=edit&section=1', 'https://en.wikipedia.org/wiki/Pythonidae', 'https://en.wikipedia.org/wiki/Python_(genus)', 'https://en.wikipedia.org/w/index.php?title=Python&action=edit&section=2', 'https://en.wikipedia.org/wiki/Python_(mythology)', 'https://en.wikipedia.org/wiki/Python_of_Aenus', 'https://en.wikipedia.org/wiki/Python_(painter)', 'https://en.wikipedia.org/wiki/Python_of_Byzantium', 'https://en.wikipedia.org/wiki/Python_of_Catana', 'https://en.wikipedia.org/w/index.php?title=Python&action=edit&section=3', 'https://en.wikipedia.org/wiki/Python_(film)', 'https://en.wikipedia.org/wiki/Pythons_2', 'https://en.wikipedia.org/wiki/Monty_Python', 'https://en.wikipedia.org/wiki/Python_(Monty)_Pictures', 'https://en.wikipedia.org/w/index.php?title=Python&action=edit&section=4', 'https://en.wikipedia.org/wiki/Python_(programming_language)', 'https://en.wikipedia.org/wiki/CPython', 'https://en.wikipedia.org/wiki/CMU_Common_Lisp', 'https://en.wikipedia.org/wiki/PERQ#PERQ_3', 'https://en.wikipedia.org/w/index.php?title=Python&action=edit&section=5', 'https://en.wikipedia.org/w/index.php?title=Python&action=edit&section=6', 'https://en.wikipedia.org/wiki/Python_(Busch_Gardens_Tampa_Bay)', 'https://en.wikipedia.org/wiki/Python_(Coney_Island,_Cincinnati,_Ohio)', 'https://en.wikipedia.org/wiki/Python_(Efteling)', 'https://en.wikipedia.org/w/index.php?title=Python&action=edit&section=7', 'https://en.wikipedia.org/wiki/Python_(automobile_maker)', 'https://en.wikipedia.org/wiki/Python_(Ford_prototype)', 'https://en.wikipedia.org/w/index.php?title=Python&action=edit&section=8', 'https://en.wikipedia.org/wiki/Colt_Python', 'https://en.wikipedia.org/wiki/Python_(missile)', 'https://en.wikipedia.org/wiki/Python_(nuclear_primary)', 'https://en.wikipedia.org/w/index.php?title=Python&action=edit&section=9', 'https://en.wikipedia.org/wiki/Python_Anghelo', 'https://en.wikipedia.org/w/index.php?title=Python&action=edit&section=10', 'https://en.wikipedia.org/wiki/PYTHON', 'https://en.wikipedia.org/w/index.php?title=Python&action=edit&section=11', 'https://en.wikipedia.org/wiki/Cython', 'https://en.wikipedia.org/wiki/Pyton', 'https://en.wikipedia.org/wiki/File:Disambig_gray.svg', 'https://en.wikipedia.org/wiki/Help:Disambiguation', 'https://en.wikipedia.org/w/index.php?title=Special:WhatLinksHere/Python&namespace=0']\n"
     ]
    }
   ],
   "source": [
    "#your code\n",
    "\n",
    "# Decido quedarme solamente los enlaces de la wiki, no la de los menús y columnas\n",
    "\n",
    "data4 = rq.get(url)\n",
    "\n",
    "wikipython = BeautifulSoup(data4.text, 'html.parser')\n",
    "\n",
    "links = wikipython.select('#mw-content-text a')\n",
    "\n",
    "link = [e[\"href\"] for e in links if not e[\"href\"].startswith(\"#\")]\n",
    "\n",
    "# Me fijo que hay rutas relativas y absolutas. Las convierto todas en absolutas\n",
    "\n",
    "link2 = [e if e.startswith(\"http\") else \"{}{}\".format(\"https:\",e) if e.startswith(\"//\") \\\n",
    "         else \"{}{}\".format(\"https://en.wikipedia.org\",e) for e in link]\n",
    "\n",
    "print(link2)"
   ]
  },
  {
   "cell_type": "markdown",
   "metadata": {},
   "source": [
    "#### Number of Titles that have changed in the United States Code since its last release point "
   ]
  },
  {
   "cell_type": "code",
   "execution_count": 37,
   "metadata": {},
   "outputs": [],
   "source": [
    "# This is the url you will scrape in this exercise\n",
    "url = 'http://uscode.house.gov/download/download.shtml'"
   ]
  },
  {
   "cell_type": "code",
   "execution_count": 42,
   "metadata": {},
   "outputs": [
    {
     "name": "stdout",
     "output_type": "stream",
     "text": [
      "['Title 2 - The Congress']\n"
     ]
    }
   ],
   "source": [
    "#your code\n",
    "\n",
    "data5 = rq.get(url)\n",
    "\n",
    "uscode = BeautifulSoup(data5.text, 'html.parser')\n",
    "\n",
    "bolds = uscode.select('.usctitlechanged')\n",
    "\n",
    "bold = [e.text.strip() for e in bolds]\n",
    "\n",
    "print(bold)"
   ]
  },
  {
   "cell_type": "markdown",
   "metadata": {},
   "source": [
    "#### A Python list with the top ten FBI's Most Wanted names "
   ]
  },
  {
   "cell_type": "code",
   "execution_count": 43,
   "metadata": {},
   "outputs": [],
   "source": [
    "# This is the url you will scrape in this exercise\n",
    "url = 'https://www.fbi.gov/wanted/topten'"
   ]
  },
  {
   "cell_type": "code",
   "execution_count": 44,
   "metadata": {},
   "outputs": [
    {
     "name": "stdout",
     "output_type": "stream",
     "text": [
      "['JASON DEREK BROWN', 'RAFAEL CARO-QUINTERO', 'ALEXIS FLORES', 'EUGENE PALMER', 'SANTIAGO VILLALBA MEDEROS', 'ROBERT WILLIAM FISHER', 'BHADRESHKUMAR CHETANBHAI PATEL', 'ARNOLDO JIMENEZ', 'ALEJANDRO ROSALES CASTILLO', 'YASER ABDEL SAID']\n"
     ]
    }
   ],
   "source": [
    "#your code\n",
    "\n",
    "data6 = rq.get(url)\n",
    "\n",
    "fbi = BeautifulSoup(data6.text, 'html.parser')\n",
    "\n",
    "topten = fbi.select('h3.title a')\n",
    "\n",
    "top = [e.text for e in topten]\n",
    "\n",
    "print(top)"
   ]
  },
  {
   "cell_type": "markdown",
   "metadata": {},
   "source": [
    "####  20 latest earthquakes info (date, time, latitude, longitude and region name) by the EMSC as a pandas dataframe"
   ]
  },
  {
   "cell_type": "code",
   "execution_count": 69,
   "metadata": {},
   "outputs": [],
   "source": [
    "# This is the url you will scrape in this exercise\n",
    "url = 'https://www.emsc-csem.org/Earthquake/'"
   ]
  },
  {
   "cell_type": "code",
   "execution_count": 112,
   "metadata": {},
   "outputs": [
    {
     "data": {
      "text/html": [
       "<div>\n",
       "<style scoped>\n",
       "    .dataframe tbody tr th:only-of-type {\n",
       "        vertical-align: middle;\n",
       "    }\n",
       "\n",
       "    .dataframe tbody tr th {\n",
       "        vertical-align: top;\n",
       "    }\n",
       "\n",
       "    .dataframe thead th {\n",
       "        text-align: right;\n",
       "    }\n",
       "</style>\n",
       "<table border=\"1\" class=\"dataframe\">\n",
       "  <thead>\n",
       "    <tr style=\"text-align: right;\">\n",
       "      <th></th>\n",
       "      <th>Date</th>\n",
       "      <th>Time</th>\n",
       "      <th>Lat</th>\n",
       "      <th>Long</th>\n",
       "      <th>Region</th>\n",
       "    </tr>\n",
       "  </thead>\n",
       "  <tbody>\n",
       "    <tr>\n",
       "      <th>0</th>\n",
       "      <td>2019-06-27</td>\n",
       "      <td>16:14:09.0</td>\n",
       "      <td>2.42 S</td>\n",
       "      <td>138.62 E</td>\n",
       "      <td>PAPUA, INDONESIA</td>\n",
       "    </tr>\n",
       "    <tr>\n",
       "      <th>1</th>\n",
       "      <td>2019-06-27</td>\n",
       "      <td>16:12:09.0</td>\n",
       "      <td>18.40 N</td>\n",
       "      <td>105.50 W</td>\n",
       "      <td>OFF COAST OF JALISCO, MEXICO</td>\n",
       "    </tr>\n",
       "    <tr>\n",
       "      <th>2</th>\n",
       "      <td>2019-06-27</td>\n",
       "      <td>15:51:31.8</td>\n",
       "      <td>45.68 N</td>\n",
       "      <td>26.78 E</td>\n",
       "      <td>ROMANIA</td>\n",
       "    </tr>\n",
       "    <tr>\n",
       "      <th>3</th>\n",
       "      <td>2019-06-27</td>\n",
       "      <td>15:51:20.1</td>\n",
       "      <td>39.88 N</td>\n",
       "      <td>15.38 E</td>\n",
       "      <td>SOUTHERN ITALY</td>\n",
       "    </tr>\n",
       "    <tr>\n",
       "      <th>4</th>\n",
       "      <td>2019-06-27</td>\n",
       "      <td>15:44:25.0</td>\n",
       "      <td>2.49 S</td>\n",
       "      <td>138.58 E</td>\n",
       "      <td>PAPUA, INDONESIA</td>\n",
       "    </tr>\n",
       "    <tr>\n",
       "      <th>5</th>\n",
       "      <td>2019-06-27</td>\n",
       "      <td>15:39:30.5</td>\n",
       "      <td>21.89 S</td>\n",
       "      <td>168.71 E</td>\n",
       "      <td>LOYALTY ISLANDS</td>\n",
       "    </tr>\n",
       "    <tr>\n",
       "      <th>6</th>\n",
       "      <td>2019-06-27</td>\n",
       "      <td>15:22:10.6</td>\n",
       "      <td>43.80 N</td>\n",
       "      <td>15.38 E</td>\n",
       "      <td>ADRIATIC SEA</td>\n",
       "    </tr>\n",
       "    <tr>\n",
       "      <th>7</th>\n",
       "      <td>2019-06-27</td>\n",
       "      <td>14:49:19.0</td>\n",
       "      <td>19.12 N</td>\n",
       "      <td>70.47 W</td>\n",
       "      <td>DOMINICAN REPUBLIC</td>\n",
       "    </tr>\n",
       "    <tr>\n",
       "      <th>8</th>\n",
       "      <td>2019-06-27</td>\n",
       "      <td>14:43:00.6</td>\n",
       "      <td>40.71 N</td>\n",
       "      <td>16.56 E</td>\n",
       "      <td>SOUTHERN ITALY</td>\n",
       "    </tr>\n",
       "    <tr>\n",
       "      <th>9</th>\n",
       "      <td>2019-06-27</td>\n",
       "      <td>14:14:03.4</td>\n",
       "      <td>20.74 S</td>\n",
       "      <td>178.02 W</td>\n",
       "      <td>FIJI REGION</td>\n",
       "    </tr>\n",
       "    <tr>\n",
       "      <th>10</th>\n",
       "      <td>2019-06-27</td>\n",
       "      <td>14:05:16.0</td>\n",
       "      <td>2.31 S</td>\n",
       "      <td>138.88 E</td>\n",
       "      <td>PAPUA, INDONESIA</td>\n",
       "    </tr>\n",
       "    <tr>\n",
       "      <th>11</th>\n",
       "      <td>2019-06-27</td>\n",
       "      <td>13:36:30.0</td>\n",
       "      <td>8.37 N</td>\n",
       "      <td>82.85 W</td>\n",
       "      <td>PANAMA-COSTA RICA BORDER REGION</td>\n",
       "    </tr>\n",
       "    <tr>\n",
       "      <th>12</th>\n",
       "      <td>2019-06-27</td>\n",
       "      <td>12:48:35.9</td>\n",
       "      <td>2.72 S</td>\n",
       "      <td>138.36 E</td>\n",
       "      <td>PAPUA, INDONESIA</td>\n",
       "    </tr>\n",
       "    <tr>\n",
       "      <th>13</th>\n",
       "      <td>2019-06-27</td>\n",
       "      <td>12:47:27.4</td>\n",
       "      <td>39.57 N</td>\n",
       "      <td>26.08 E</td>\n",
       "      <td>NEAR THE COAST OF WESTERN TURKEY</td>\n",
       "    </tr>\n",
       "    <tr>\n",
       "      <th>14</th>\n",
       "      <td>2019-06-27</td>\n",
       "      <td>12:45:41.0</td>\n",
       "      <td>2.55 S</td>\n",
       "      <td>138.61 E</td>\n",
       "      <td>PAPUA, INDONESIA</td>\n",
       "    </tr>\n",
       "    <tr>\n",
       "      <th>15</th>\n",
       "      <td>2019-06-27</td>\n",
       "      <td>12:36:35.0</td>\n",
       "      <td>29.65 S</td>\n",
       "      <td>71.28 W</td>\n",
       "      <td>COQUIMBO, CHILE</td>\n",
       "    </tr>\n",
       "    <tr>\n",
       "      <th>16</th>\n",
       "      <td>2019-06-27</td>\n",
       "      <td>11:57:30.0</td>\n",
       "      <td>8.37 N</td>\n",
       "      <td>82.84 W</td>\n",
       "      <td>PANAMA-COSTA RICA BORDER REGION</td>\n",
       "    </tr>\n",
       "    <tr>\n",
       "      <th>17</th>\n",
       "      <td>2019-06-27</td>\n",
       "      <td>11:45:34.0</td>\n",
       "      <td>18.45 S</td>\n",
       "      <td>70.10 W</td>\n",
       "      <td>TARAPACA, CHILE</td>\n",
       "    </tr>\n",
       "    <tr>\n",
       "      <th>18</th>\n",
       "      <td>2019-06-27</td>\n",
       "      <td>11:34:15.8</td>\n",
       "      <td>19.34 N</td>\n",
       "      <td>155.14 W</td>\n",
       "      <td>ISLAND OF HAWAII, HAWAII</td>\n",
       "    </tr>\n",
       "    <tr>\n",
       "      <th>19</th>\n",
       "      <td>2019-06-27</td>\n",
       "      <td>11:24:10.0</td>\n",
       "      <td>2.53 S</td>\n",
       "      <td>138.63 E</td>\n",
       "      <td>PAPUA, INDONESIA</td>\n",
       "    </tr>\n",
       "  </tbody>\n",
       "</table>\n",
       "</div>"
      ],
      "text/plain": [
       "          Date        Time      Lat      Long  \\\n",
       "0   2019-06-27  16:14:09.0   2.42 S  138.62 E   \n",
       "1   2019-06-27  16:12:09.0  18.40 N  105.50 W   \n",
       "2   2019-06-27  15:51:31.8  45.68 N   26.78 E   \n",
       "3   2019-06-27  15:51:20.1  39.88 N   15.38 E   \n",
       "4   2019-06-27  15:44:25.0   2.49 S  138.58 E   \n",
       "5   2019-06-27  15:39:30.5  21.89 S  168.71 E   \n",
       "6   2019-06-27  15:22:10.6  43.80 N   15.38 E   \n",
       "7   2019-06-27  14:49:19.0  19.12 N   70.47 W   \n",
       "8   2019-06-27  14:43:00.6  40.71 N   16.56 E   \n",
       "9   2019-06-27  14:14:03.4  20.74 S  178.02 W   \n",
       "10  2019-06-27  14:05:16.0   2.31 S  138.88 E   \n",
       "11  2019-06-27  13:36:30.0   8.37 N   82.85 W   \n",
       "12  2019-06-27  12:48:35.9   2.72 S  138.36 E   \n",
       "13  2019-06-27  12:47:27.4  39.57 N   26.08 E   \n",
       "14  2019-06-27  12:45:41.0   2.55 S  138.61 E   \n",
       "15  2019-06-27  12:36:35.0  29.65 S   71.28 W   \n",
       "16  2019-06-27  11:57:30.0   8.37 N   82.84 W   \n",
       "17  2019-06-27  11:45:34.0  18.45 S   70.10 W   \n",
       "18  2019-06-27  11:34:15.8  19.34 N  155.14 W   \n",
       "19  2019-06-27  11:24:10.0   2.53 S  138.63 E   \n",
       "\n",
       "                              Region  \n",
       "0                   PAPUA, INDONESIA  \n",
       "1       OFF COAST OF JALISCO, MEXICO  \n",
       "2                            ROMANIA  \n",
       "3                     SOUTHERN ITALY  \n",
       "4                   PAPUA, INDONESIA  \n",
       "5                    LOYALTY ISLANDS  \n",
       "6                       ADRIATIC SEA  \n",
       "7                 DOMINICAN REPUBLIC  \n",
       "8                     SOUTHERN ITALY  \n",
       "9                        FIJI REGION  \n",
       "10                  PAPUA, INDONESIA  \n",
       "11   PANAMA-COSTA RICA BORDER REGION  \n",
       "12                  PAPUA, INDONESIA  \n",
       "13  NEAR THE COAST OF WESTERN TURKEY  \n",
       "14                  PAPUA, INDONESIA  \n",
       "15                   COQUIMBO, CHILE  \n",
       "16   PANAMA-COSTA RICA BORDER REGION  \n",
       "17                   TARAPACA, CHILE  \n",
       "18          ISLAND OF HAWAII, HAWAII  \n",
       "19                  PAPUA, INDONESIA  "
      ]
     },
     "metadata": {},
     "output_type": "display_data"
    }
   ],
   "source": [
    "#your code\n",
    "\n",
    "data7 = rq.get(url)\n",
    "\n",
    "earthquakes = BeautifulSoup(data7.text, 'html.parser')\n",
    "\n",
    "dates = earthquakes.select('td.tabev6 a')\n",
    "latLons1 = earthquakes.select('td.tabev1')\n",
    "latLons2 = earthquakes.select('td.tabev2')\n",
    "regions = earthquakes.select('td.tb_region')\n",
    "\n",
    "date = [e.text.split(\"\\xa0\\xa0\\xa0\") for e in dates]\n",
    "latLon1 = [e.text.strip() for e in latLons1]\n",
    "latLon2 = [e.text.strip() for e in latLons2]\n",
    "region = [e.text.strip() for e in regions]\n",
    "\n",
    "date_final = [date[e][0] for e in range(20)]\n",
    "time_final = [date[e][1] for e in range(20)]\n",
    "lat = [latLon1[e] for e in range(0,40,2)]\n",
    "lon = [latLon1[e] for e in range(1,40,2)]\n",
    "lat_letter = [latLon2[e] for e in range(0,60,3)]\n",
    "lon_letter = [latLon2[e] for e in range(1,60,3)]\n",
    "lat_final = [lat[e] + \" \" + lat_letter[e] for e in range(20)]\n",
    "lon_final = [lon[e] + \" \" + lon_letter[e] for e in range(20)]\n",
    "region_final = [region[e] for e in range(20)]\n",
    "\n",
    "dct = {\n",
    "    \"Date\" : date_final,\n",
    "    \"Time\": time_final,\n",
    "    \"Lat\": lat_final,\n",
    "    \"Long\": lon_final,\n",
    "    \"Region\": region_final\n",
    "}\n",
    "\n",
    "df_eq = pd.DataFrame(dct)\n",
    "\n",
    "display(df_eq)"
   ]
  },
  {
   "cell_type": "markdown",
   "metadata": {},
   "source": [
    "#### Display the date, days, title, city, country of next 25 hackathon events as a Pandas dataframe table"
   ]
  },
  {
   "cell_type": "code",
   "execution_count": 337,
   "metadata": {},
   "outputs": [],
   "source": [
    "# This is the url you will scrape in this exercise\n",
    "url ='https://hackevents.co/hackathons'"
   ]
  },
  {
   "cell_type": "code",
   "execution_count": 342,
   "metadata": {},
   "outputs": [
    {
     "data": {
      "text/html": [
       "<div>\n",
       "<style scoped>\n",
       "    .dataframe tbody tr th:only-of-type {\n",
       "        vertical-align: middle;\n",
       "    }\n",
       "\n",
       "    .dataframe tbody tr th {\n",
       "        vertical-align: top;\n",
       "    }\n",
       "\n",
       "    .dataframe thead th {\n",
       "        text-align: right;\n",
       "    }\n",
       "</style>\n",
       "<table border=\"1\" class=\"dataframe\">\n",
       "  <thead>\n",
       "    <tr style=\"text-align: right;\">\n",
       "      <th></th>\n",
       "      <th>Título</th>\n",
       "      <th>Fecha</th>\n",
       "    </tr>\n",
       "  </thead>\n",
       "  <tbody>\n",
       "    <tr>\n",
       "      <th>0</th>\n",
       "      <td>OSNA HACK 2019</td>\n",
       "      <td>6/27/2019</td>\n",
       "    </tr>\n",
       "    <tr>\n",
       "      <th>1</th>\n",
       "      <td>Hackathon | Draper University</td>\n",
       "      <td>7/5/2019</td>\n",
       "    </tr>\n",
       "    <tr>\n",
       "      <th>2</th>\n",
       "      <td>Hack-ADA-thon – Inspired by BHS Corrugated</td>\n",
       "      <td>7/12/2019</td>\n",
       "    </tr>\n",
       "    <tr>\n",
       "      <th>3</th>\n",
       "      <td>Code Geist Hackathon by SefrWahed</td>\n",
       "      <td>7/29/2019</td>\n",
       "    </tr>\n",
       "    <tr>\n",
       "      <th>4</th>\n",
       "      <td>The Code Factor</td>\n",
       "      <td>5/21/2019</td>\n",
       "    </tr>\n",
       "    <tr>\n",
       "      <th>5</th>\n",
       "      <td>TECHFEST MUNICH</td>\n",
       "      <td>9/6/2019</td>\n",
       "    </tr>\n",
       "  </tbody>\n",
       "</table>\n",
       "</div>"
      ],
      "text/plain": [
       "                                       Título      Fecha\n",
       "0                              OSNA HACK 2019  6/27/2019\n",
       "1               Hackathon | Draper University   7/5/2019\n",
       "2  Hack-ADA-thon – Inspired by BHS Corrugated  7/12/2019\n",
       "3           Code Geist Hackathon by SefrWahed  7/29/2019\n",
       "4                             The Code Factor  5/21/2019\n",
       "5                             TECHFEST MUNICH   9/6/2019"
      ]
     },
     "metadata": {},
     "output_type": "display_data"
    }
   ],
   "source": [
    "#your code\n",
    "\n",
    "data8 = rq.get(url)\n",
    "\n",
    "hackatons = BeautifulSoup(data8.text, 'html.parser')\n",
    "\n",
    "# La página ha cambiado. No tiene days y solo salen 6 hackatones.\n",
    "\n",
    "# TAMPOCO PUEDO COGER EL PAÍS Y CIUDAD\n",
    "\n",
    "titles = hackatons.select('h5.card-title')\n",
    "datas = hackatons.find_all(\"p\", {\"class\": \"card-text\"})\n",
    "\n",
    "title = [e.text for e in titles]\n",
    "date = [e.text.strip() for e in datas]\n",
    "\n",
    "dic_hack = {\n",
    "    \"Título\": title,\n",
    "    \"Fecha\": date\n",
    "}\n",
    "\n",
    "df_hack = pd.DataFrame(dic_hack)\n",
    "\n",
    "display(df_hack)"
   ]
  },
  {
   "cell_type": "markdown",
   "metadata": {},
   "source": [
    "#### Count number of tweets by a given Twitter account."
   ]
  },
  {
   "cell_type": "markdown",
   "metadata": {},
   "source": [
    "You will need to include a ***try/except block*** for account names not found. \n",
    "<br>***Hint:*** the program should count the number of tweets for any provided account"
   ]
  },
  {
   "cell_type": "code",
   "execution_count": 135,
   "metadata": {},
   "outputs": [],
   "source": [
    "# This is the url you will scrape in this exercise \n",
    "# You will need to add the account credentials to this url\n",
    "url = 'https://twitter.com/'"
   ]
  },
  {
   "cell_type": "code",
   "execution_count": 144,
   "metadata": {},
   "outputs": [
    {
     "name": "stdout",
     "output_type": "stream",
     "text": [
      "La cuenta @barackobama tiene 15643 tweets.\n"
     ]
    }
   ],
   "source": [
    "#your code\n",
    "\n",
    "user = \"barackobama\"\n",
    "\n",
    "try:\n",
    "    data9 = rq.get(url+user)\n",
    "    tuiteres = BeautifulSoup(data9.text, 'html.parser')\n",
    "\n",
    "    tuits = tuiteres.select('span.ProfileNav-value')\n",
    "\n",
    "    print(\"La cuenta @{} tiene {} tweets.\".format(user,tuits[0][\"data-count\"]))\n",
    "    \n",
    "except:\n",
    "    print(\"El usuario no es válido\")"
   ]
  },
  {
   "cell_type": "markdown",
   "metadata": {},
   "source": [
    "#### Number of followers of a given twitter account"
   ]
  },
  {
   "cell_type": "markdown",
   "metadata": {},
   "source": [
    "You will need to include a ***try/except block*** in case account/s name not found. \n",
    "<br>***Hint:*** the program should count the followers for any provided account"
   ]
  },
  {
   "cell_type": "code",
   "execution_count": null,
   "metadata": {},
   "outputs": [],
   "source": [
    "# This is the url you will scrape in this exercise \n",
    "# You will need to add the account credentials to this url\n",
    "url = 'https://twitter.com/'"
   ]
  },
  {
   "cell_type": "code",
   "execution_count": 146,
   "metadata": {},
   "outputs": [
    {
     "name": "stdout",
     "output_type": "stream",
     "text": [
      "La cuenta @barackobama tiene 106769437 de followers.\n"
     ]
    }
   ],
   "source": [
    "#your code\n",
    "\n",
    "user = \"barackobama\"\n",
    "\n",
    "try:\n",
    "    data10 = rq.get(url+user)\n",
    "    tuiteres = BeautifulSoup(data10.text, 'html.parser')\n",
    "\n",
    "    tuits = tuiteres.select('span.ProfileNav-value')\n",
    "\n",
    "    print(\"La cuenta @{} tiene {} de followers.\".format(user,tuits[2][\"data-count\"]))\n",
    "    \n",
    "except:\n",
    "    print(\"El usuario no es válido\")"
   ]
  },
  {
   "cell_type": "markdown",
   "metadata": {},
   "source": [
    "#### List all language names and number of related articles in the order they appear in wikipedia.org"
   ]
  },
  {
   "cell_type": "code",
   "execution_count": 24,
   "metadata": {},
   "outputs": [],
   "source": [
    "# This is the url you will scrape in this exercise\n",
    "url = 'https://www.wikipedia.org/'"
   ]
  },
  {
   "cell_type": "code",
   "execution_count": 26,
   "metadata": {},
   "outputs": [
    {
     "name": "stdout",
     "output_type": "stream",
     "text": [
      "[('English', '5878000'), ('日本語', '1155000'), ('Español', '1528000'), ('Deutsch', '2314000'), ('Русский', '1551000'), ('Français', '2116000'), ('Italiano', '1535000'), ('中文', '1062000'), ('Português', '1008000'), ('Polski', '1342000')]\n"
     ]
    }
   ],
   "source": [
    "#your code\n",
    "\n",
    "data11 = rq.get(url)\n",
    "\n",
    "wikipedias = BeautifulSoup(data11.text, 'html.parser')\n",
    "\n",
    "languages = wikipedias.select('div.central-featured-lang strong')\n",
    "articles = wikipedias.select('div.central-featured-lang bdi')\n",
    "\n",
    "language = [e.text.strip().encode('latin1').decode('utf8') for e in languages]\n",
    "article = [e.text.strip().replace(\"\\xa0\",\"\")[:-1] for e in articles]\n",
    "\n",
    "# Tengo que buscar como decodificarlo\n",
    "\n",
    "langArt = [(language[e],article[e]) for e in range(len(languages))]\n",
    "\n",
    "print(langArt)"
   ]
  },
  {
   "cell_type": "markdown",
   "metadata": {},
   "source": [
    "#### A list with the different kind of datasets available in data.gov.uk "
   ]
  },
  {
   "cell_type": "code",
   "execution_count": 175,
   "metadata": {},
   "outputs": [],
   "source": [
    "# This is the url you will scrape in this exercise\n",
    "url = 'https://data.gov.uk/'"
   ]
  },
  {
   "cell_type": "code",
   "execution_count": 176,
   "metadata": {},
   "outputs": [
    {
     "name": "stdout",
     "output_type": "stream",
     "text": [
      "['Business and economy', 'Crime and justice', 'Defence', 'Education', 'Environment', 'Government', 'Government spending', 'Health', 'Mapping', 'Society', 'Towns and cities', 'Transport']\n"
     ]
    }
   ],
   "source": [
    "data12 = rq.get(url)\n",
    "\n",
    "dataGov = BeautifulSoup(data12.text, 'html.parser')\n",
    "\n",
    "datasets = dataGov.select('main a')\n",
    "\n",
    "types = [e.text.strip() for e in datasets]\n",
    "\n",
    "\n",
    "print(types)"
   ]
  },
  {
   "cell_type": "markdown",
   "metadata": {},
   "source": [
    "#### Top 10 languages by number of native speakers stored in a Pandas Dataframe"
   ]
  },
  {
   "cell_type": "code",
   "execution_count": 27,
   "metadata": {},
   "outputs": [],
   "source": [
    "# This is the url you will scrape in this exercise\n",
    "url = 'https://en.wikipedia.org/wiki/List_of_languages_by_number_of_native_speakers'"
   ]
  },
  {
   "cell_type": "code",
   "execution_count": 56,
   "metadata": {},
   "outputs": [
    {
     "data": {
      "text/html": [
       "<div>\n",
       "<style scoped>\n",
       "    .dataframe tbody tr th:only-of-type {\n",
       "        vertical-align: middle;\n",
       "    }\n",
       "\n",
       "    .dataframe tbody tr th {\n",
       "        vertical-align: top;\n",
       "    }\n",
       "\n",
       "    .dataframe thead th {\n",
       "        text-align: right;\n",
       "    }\n",
       "</style>\n",
       "<table border=\"1\" class=\"dataframe\">\n",
       "  <thead>\n",
       "    <tr style=\"text-align: right;\">\n",
       "      <th></th>\n",
       "      <th>Rank</th>\n",
       "      <th>Languages</th>\n",
       "      <th>Speakers (in millions) 2007 (2010)</th>\n",
       "      <th>Percentage</th>\n",
       "    </tr>\n",
       "  </thead>\n",
       "  <tbody>\n",
       "    <tr>\n",
       "      <th>0</th>\n",
       "      <td>1</td>\n",
       "      <td>Mandarin (entire branch)</td>\n",
       "      <td>935 (955)</td>\n",
       "      <td>14.1%</td>\n",
       "    </tr>\n",
       "    <tr>\n",
       "      <th>1</th>\n",
       "      <td>2</td>\n",
       "      <td>Spanish</td>\n",
       "      <td>390 (405)</td>\n",
       "      <td>5.85%</td>\n",
       "    </tr>\n",
       "    <tr>\n",
       "      <th>2</th>\n",
       "      <td>3</td>\n",
       "      <td>English</td>\n",
       "      <td>365 (360)</td>\n",
       "      <td>5.52%</td>\n",
       "    </tr>\n",
       "    <tr>\n",
       "      <th>3</th>\n",
       "      <td>4</td>\n",
       "      <td>Hindi</td>\n",
       "      <td>295 (310)</td>\n",
       "      <td>4.46%</td>\n",
       "    </tr>\n",
       "    <tr>\n",
       "      <th>4</th>\n",
       "      <td>5</td>\n",
       "      <td>Arabic</td>\n",
       "      <td>280 (295)</td>\n",
       "      <td>4.23%</td>\n",
       "    </tr>\n",
       "    <tr>\n",
       "      <th>5</th>\n",
       "      <td>6</td>\n",
       "      <td>Portuguese</td>\n",
       "      <td>205 (215)</td>\n",
       "      <td>3.08%</td>\n",
       "    </tr>\n",
       "    <tr>\n",
       "      <th>6</th>\n",
       "      <td>7</td>\n",
       "      <td>Bengali (Bangla)</td>\n",
       "      <td>200 (205)</td>\n",
       "      <td>3.05%</td>\n",
       "    </tr>\n",
       "    <tr>\n",
       "      <th>7</th>\n",
       "      <td>8</td>\n",
       "      <td>Russian</td>\n",
       "      <td>160 (155)</td>\n",
       "      <td>2.42%</td>\n",
       "    </tr>\n",
       "    <tr>\n",
       "      <th>8</th>\n",
       "      <td>9</td>\n",
       "      <td>Japanese</td>\n",
       "      <td>125 (125)</td>\n",
       "      <td>1.92%</td>\n",
       "    </tr>\n",
       "    <tr>\n",
       "      <th>9</th>\n",
       "      <td>10</td>\n",
       "      <td>Punjabi</td>\n",
       "      <td>95 (100)</td>\n",
       "      <td>1.44%</td>\n",
       "    </tr>\n",
       "    <tr>\n",
       "      <th>10</th>\n",
       "      <td>11</td>\n",
       "      <td>German</td>\n",
       "      <td>92 (95)</td>\n",
       "      <td>1.39%</td>\n",
       "    </tr>\n",
       "    <tr>\n",
       "      <th>11</th>\n",
       "      <td>12</td>\n",
       "      <td>Javanese</td>\n",
       "      <td>82</td>\n",
       "      <td>1.25%</td>\n",
       "    </tr>\n",
       "    <tr>\n",
       "      <th>12</th>\n",
       "      <td>13</td>\n",
       "      <td>Wu (inc. Shanghainese)</td>\n",
       "      <td>80</td>\n",
       "      <td>1.20%</td>\n",
       "    </tr>\n",
       "    <tr>\n",
       "      <th>13</th>\n",
       "      <td>14</td>\n",
       "      <td>Malay (inc. Indonesian and Malaysian)</td>\n",
       "      <td>77</td>\n",
       "      <td>1.16%</td>\n",
       "    </tr>\n",
       "    <tr>\n",
       "      <th>14</th>\n",
       "      <td>15</td>\n",
       "      <td>Telugu</td>\n",
       "      <td>76</td>\n",
       "      <td>1.15%</td>\n",
       "    </tr>\n",
       "    <tr>\n",
       "      <th>15</th>\n",
       "      <td>16</td>\n",
       "      <td>Vietnamese</td>\n",
       "      <td>76</td>\n",
       "      <td>1.14%</td>\n",
       "    </tr>\n",
       "    <tr>\n",
       "      <th>16</th>\n",
       "      <td>17</td>\n",
       "      <td>Korean</td>\n",
       "      <td>76</td>\n",
       "      <td>1.14%</td>\n",
       "    </tr>\n",
       "    <tr>\n",
       "      <th>17</th>\n",
       "      <td>18</td>\n",
       "      <td>French</td>\n",
       "      <td>75</td>\n",
       "      <td>1.12%</td>\n",
       "    </tr>\n",
       "    <tr>\n",
       "      <th>18</th>\n",
       "      <td>19</td>\n",
       "      <td>Marathi</td>\n",
       "      <td>73</td>\n",
       "      <td>1.10%</td>\n",
       "    </tr>\n",
       "    <tr>\n",
       "      <th>19</th>\n",
       "      <td>20</td>\n",
       "      <td>Tamil</td>\n",
       "      <td>70</td>\n",
       "      <td>1.06%</td>\n",
       "    </tr>\n",
       "  </tbody>\n",
       "</table>\n",
       "</div>"
      ],
      "text/plain": [
       "   Rank                              Languages  \\\n",
       "0     1               Mandarin (entire branch)   \n",
       "1     2                                Spanish   \n",
       "2     3                                English   \n",
       "3     4                                  Hindi   \n",
       "4     5                                 Arabic   \n",
       "5     6                             Portuguese   \n",
       "6     7                       Bengali (Bangla)   \n",
       "7     8                                Russian   \n",
       "8     9                               Japanese   \n",
       "9    10                                Punjabi   \n",
       "10   11                                 German   \n",
       "11   12                               Javanese   \n",
       "12   13                 Wu (inc. Shanghainese)   \n",
       "13   14  Malay (inc. Indonesian and Malaysian)   \n",
       "14   15                                 Telugu   \n",
       "15   16                             Vietnamese   \n",
       "16   17                                 Korean   \n",
       "17   18                                 French   \n",
       "18   19                                Marathi   \n",
       "19   20                                  Tamil   \n",
       "\n",
       "   Speakers (in millions) 2007 (2010) Percentage  \n",
       "0                           935 (955)      14.1%  \n",
       "1                           390 (405)      5.85%  \n",
       "2                           365 (360)      5.52%  \n",
       "3                           295 (310)      4.46%  \n",
       "4                           280 (295)      4.23%  \n",
       "5                           205 (215)      3.08%  \n",
       "6                           200 (205)      3.05%  \n",
       "7                           160 (155)      2.42%  \n",
       "8                           125 (125)      1.92%  \n",
       "9                            95 (100)      1.44%  \n",
       "10                            92 (95)      1.39%  \n",
       "11                                 82      1.25%  \n",
       "12                                 80      1.20%  \n",
       "13                                 77      1.16%  \n",
       "14                                 76      1.15%  \n",
       "15                                 76      1.14%  \n",
       "16                                 76      1.14%  \n",
       "17                                 75      1.12%  \n",
       "18                                 73      1.10%  \n",
       "19                                 70      1.06%  "
      ]
     },
     "metadata": {},
     "output_type": "display_data"
    }
   ],
   "source": [
    "#your code\n",
    "data13 = rq.get(url)\n",
    "\n",
    "list_languages = BeautifulSoup(data13.text, 'html.parser')\n",
    "\n",
    "list_language = list_languages.select('table:nth-of-type(3) tr')[1:]\n",
    "\n",
    "d = {\n",
    "    \"Rank\" : [list_language[e].select(\"td:nth-child(1)\")[0].text for e in range(20)],\n",
    "    \"Languages\" : [list_language[e].select(\"td:nth-child(2)\")[0].text if e != 3 else \\\n",
    "                   list_language[e].select(\"td:nth-child(2)\")[0].text[:-3] for e in range(20)],\n",
    "    \"Speakers (in millions) 2007 (2010)\" : [list_language[e].select(\"td:nth-child(3)\")[0].text for e in range(20)],\n",
    "    \"Percentage\" : [list_language[e].select(\"td:nth-child(4)\")[0].text.strip() for e in range(20)]\n",
    "}\n",
    "\n",
    "df_lan = pd.DataFrame(d)\n",
    "\n",
    "display(df_lan)"
   ]
  },
  {
   "cell_type": "markdown",
   "metadata": {},
   "source": [
    "### BONUS QUESTIONS"
   ]
  },
  {
   "cell_type": "markdown",
   "metadata": {},
   "source": [
    "#### Scrape a certain number of tweets of a given Twitter account."
   ]
  },
  {
   "cell_type": "code",
   "execution_count": 216,
   "metadata": {},
   "outputs": [],
   "source": [
    "# This is the url you will scrape in this exercise \n",
    "# You will need to add the account credentials to this url\n",
    "url = 'https://twitter.com/'"
   ]
  },
  {
   "cell_type": "code",
   "execution_count": 220,
   "metadata": {},
   "outputs": [
    {
     "name": "stdout",
     "output_type": "stream",
     "text": [
      "['Now we’re talking! Congrats to Team USA for moving on, and thanks for continuing to make us all proud. #USAhttps://twitter.com/USWNT/status/1141821855898230785\\xa0…', 'On Juneteenth, we celebrate our capacity to make real the promise of our founding, that thing inside each of us that says America is not yet finished, that compels all of us to fight for justice and equality until this country we love more closely aligns with our highest ideals.pic.twitter.com/2XAKRuRrbG', 'Outside the Oval Office, I kept a painting of a small crowd huddled around a pocketwatch, waiting for the moment the Emancipation Proclamation took effect. On Juneteenth, we celebrate the anniversary of that news - freedom - reaching slaves in Texas. And something more:pic.twitter.com/kSkLHbfnc3', 'This is worth a read: a thought-provoking reminder that education reform isn’t a cure-all. As a supporter of education reform, I agree that fixing educational inequality requires doing more to address the broader, systemic sources of economic inequality.https://www.theatlantic.com/magazine/archive/2019/07/education-isnt-enough/590611/\\xa0…', 'Yes we can, Greta. I’m hopeful because of you and all the young people who are fighting to protect the planet. Keep at it.https://twitter.com/GretaThunberg/status/1139894497347813376\\xa0…', 'Happy Father’s Day to Charles, one of our @ObamaFoundation Fellows, and all the dads at Fathers’ Uplift. Today, we’re celebrating fathers like these who provide a powerful example—not only for their kids, but for the rest of us, too.pic.twitter.com/GJsxi8DozY', 'These young people want to take action and make a change. Through the #CommunityLeadership Corps in Chicago and Hartford, we’re going to help them see it through:pic.twitter.com/CWda5O8X4O', \"The @USWNT is something to smile about. It was great to celebrate with them back in 2015 and I'm excited to root them on in their drive to earn their fourth star. Best of luck to these champions for equality, on and off the field. #OneNationOneTeampic.twitter.com/AHcHGATy5S\", \"Six years ago, David Ortiz's spirit and resolve helped us all begin to heal from the Boston Marathon bombing. Today, I want to join many others in wishing him a speedy recovery of his own. Get well soon, Papi.pic.twitter.com/9orpBgnVI5\", \"Last week, it was Virginia Beach. But day after day and year after year, too many families and communities are shattered by senseless gun violence. We can't get numb to this. On National Gun Violence Awareness Day, pledge to speak out, #WearOrange — and vote — to protect lives.\"]\n"
     ]
    }
   ],
   "source": [
    "#your code\n",
    "\n",
    "user = \"barackobama\"\n",
    "n_tuits = 10\n",
    "\n",
    "try:\n",
    "    data14 = rq.get(url+user)\n",
    "    tuiteres = BeautifulSoup(data14.text, 'html.parser')\n",
    "\n",
    "    tuits = tuiteres.select('p.TweetTextSize')\n",
    "\n",
    "    tuit = [tuits[e].text for e in range(n_tuits)]\n",
    "    \n",
    "    print(tuit)\n",
    "    \n",
    "except:\n",
    "    print(\"El usuario no es válido\")"
   ]
  },
  {
   "cell_type": "markdown",
   "metadata": {},
   "source": [
    "#### IMDB's Top 250 data (movie name, Initial release, director name and stars) as a pandas dataframe"
   ]
  },
  {
   "cell_type": "code",
   "execution_count": 348,
   "metadata": {},
   "outputs": [],
   "source": [
    "# This is the url you will scrape in this exercise \n",
    "url = 'https://www.imdb.com/chart/top'"
   ]
  },
  {
   "cell_type": "code",
   "execution_count": 349,
   "metadata": {},
   "outputs": [
    {
     "data": {
      "text/html": [
       "<div>\n",
       "<style scoped>\n",
       "    .dataframe tbody tr th:only-of-type {\n",
       "        vertical-align: middle;\n",
       "    }\n",
       "\n",
       "    .dataframe tbody tr th {\n",
       "        vertical-align: top;\n",
       "    }\n",
       "\n",
       "    .dataframe thead th {\n",
       "        text-align: right;\n",
       "    }\n",
       "</style>\n",
       "<table border=\"1\" class=\"dataframe\">\n",
       "  <thead>\n",
       "    <tr style=\"text-align: right;\">\n",
       "      <th></th>\n",
       "      <th>Movie name</th>\n",
       "      <th>Initial release</th>\n",
       "      <th>Director</th>\n",
       "      <th>Rating (over 10)</th>\n",
       "    </tr>\n",
       "  </thead>\n",
       "  <tbody>\n",
       "    <tr>\n",
       "      <th>0</th>\n",
       "      <td>Cadena perpetua</td>\n",
       "      <td>1994</td>\n",
       "      <td>Frank Darabont</td>\n",
       "      <td>9.2</td>\n",
       "    </tr>\n",
       "    <tr>\n",
       "      <th>1</th>\n",
       "      <td>El padrino</td>\n",
       "      <td>1972</td>\n",
       "      <td>Francis Ford Coppola</td>\n",
       "      <td>9.2</td>\n",
       "    </tr>\n",
       "    <tr>\n",
       "      <th>2</th>\n",
       "      <td>El padrino: Parte II</td>\n",
       "      <td>1974</td>\n",
       "      <td>Francis Ford Coppola</td>\n",
       "      <td>9.0</td>\n",
       "    </tr>\n",
       "    <tr>\n",
       "      <th>3</th>\n",
       "      <td>El caballero oscuro</td>\n",
       "      <td>2008</td>\n",
       "      <td>Christopher Nolan</td>\n",
       "      <td>9.0</td>\n",
       "    </tr>\n",
       "    <tr>\n",
       "      <th>4</th>\n",
       "      <td>12 hombres sin piedad</td>\n",
       "      <td>1957</td>\n",
       "      <td>Sidney Lumet</td>\n",
       "      <td>8.9</td>\n",
       "    </tr>\n",
       "  </tbody>\n",
       "</table>\n",
       "</div>"
      ],
      "text/plain": [
       "              Movie name Initial release              Director  \\\n",
       "0        Cadena perpetua            1994        Frank Darabont   \n",
       "1             El padrino            1972  Francis Ford Coppola   \n",
       "2   El padrino: Parte II            1974  Francis Ford Coppola   \n",
       "3    El caballero oscuro            2008     Christopher Nolan   \n",
       "4  12 hombres sin piedad            1957          Sidney Lumet   \n",
       "\n",
       "  Rating (over 10)  \n",
       "0              9.2  \n",
       "1              9.2  \n",
       "2              9.0  \n",
       "3              9.0  \n",
       "4              8.9  "
      ]
     },
     "metadata": {},
     "output_type": "display_data"
    }
   ],
   "source": [
    "import re\n",
    "\n",
    "data15 = rq.get(url)\n",
    "\n",
    "list_films = BeautifulSoup(data15.text, 'html.parser')\n",
    "\n",
    "film_titles = list_films.select('td.titleColumn a')\n",
    "film_ratings = list_films.select('td.ratingColumn strong')\n",
    "film_releases = list_films.select('td.titleColumn span')\n",
    "\n",
    "film_name = [e.text for e in film_titles]\n",
    "film_director = [re.findall(\".+(?= \\(dir\\.\\))\",e[\"title\"])[0] for e in film_titles]\n",
    "film_rating = [e.text for e in film_ratings]\n",
    "film_release = [e.text[1:-1] for e in film_releases]\n",
    "\n",
    "dfilms = {\n",
    "    \"Movie name\" : film_name,\n",
    "    \"Initial release\": film_release,\n",
    "    \"Director\": film_director,\n",
    "    \"Rating (over 10)\": film_rating\n",
    "}\n",
    "\n",
    "df_films = pd.DataFrame(dfilms)\n",
    "\n",
    "display(df_films.head())\n"
   ]
  },
  {
   "cell_type": "markdown",
   "metadata": {},
   "source": [
    "#### Movie name, year and a brief summary of the top 10 random movies (IMDB) as a pandas dataframe."
   ]
  },
  {
   "cell_type": "code",
   "execution_count": 57,
   "metadata": {},
   "outputs": [],
   "source": [
    "#This is the url you will scrape in this exercise\n",
    "url = 'http://www.imdb.com/chart/top'"
   ]
  },
  {
   "cell_type": "code",
   "execution_count": 59,
   "metadata": {},
   "outputs": [
    {
     "data": {
      "text/html": [
       "<div>\n",
       "<style scoped>\n",
       "    .dataframe tbody tr th:only-of-type {\n",
       "        vertical-align: middle;\n",
       "    }\n",
       "\n",
       "    .dataframe tbody tr th {\n",
       "        vertical-align: top;\n",
       "    }\n",
       "\n",
       "    .dataframe thead th {\n",
       "        text-align: right;\n",
       "    }\n",
       "</style>\n",
       "<table border=\"1\" class=\"dataframe\">\n",
       "  <thead>\n",
       "    <tr style=\"text-align: right;\">\n",
       "      <th></th>\n",
       "      <th>Movie name</th>\n",
       "      <th>Initial release</th>\n",
       "      <th>Description</th>\n",
       "    </tr>\n",
       "  </thead>\n",
       "  <tbody>\n",
       "    <tr>\n",
       "      <th>0</th>\n",
       "      <td>Cadena perpetua</td>\n",
       "      <td>1994</td>\n",
       "      <td>Two imprisoned men bond over a number of years...</td>\n",
       "    </tr>\n",
       "    <tr>\n",
       "      <th>1</th>\n",
       "      <td>El padrino</td>\n",
       "      <td>1972</td>\n",
       "      <td>The aging patriarch of an organized crime dyna...</td>\n",
       "    </tr>\n",
       "    <tr>\n",
       "      <th>2</th>\n",
       "      <td>El padrino: Parte II</td>\n",
       "      <td>1974</td>\n",
       "      <td>The early life and career of Vito Corleone in ...</td>\n",
       "    </tr>\n",
       "    <tr>\n",
       "      <th>3</th>\n",
       "      <td>El caballero oscuro</td>\n",
       "      <td>2008</td>\n",
       "      <td>When the menace known as The Joker emerges fro...</td>\n",
       "    </tr>\n",
       "    <tr>\n",
       "      <th>4</th>\n",
       "      <td>12 hombres sin piedad</td>\n",
       "      <td>1957</td>\n",
       "      <td>A jury holdout attempts to prevent a miscarria...</td>\n",
       "    </tr>\n",
       "  </tbody>\n",
       "</table>\n",
       "</div>"
      ],
      "text/plain": [
       "              Movie name Initial release  \\\n",
       "0        Cadena perpetua            1994   \n",
       "1             El padrino            1972   \n",
       "2   El padrino: Parte II            1974   \n",
       "3    El caballero oscuro            2008   \n",
       "4  12 hombres sin piedad            1957   \n",
       "\n",
       "                                         Description  \n",
       "0  Two imprisoned men bond over a number of years...  \n",
       "1  The aging patriarch of an organized crime dyna...  \n",
       "2  The early life and career of Vito Corleone in ...  \n",
       "3  When the menace known as The Joker emerges fro...  \n",
       "4  A jury holdout attempts to prevent a miscarria...  "
      ]
     },
     "metadata": {},
     "output_type": "display_data"
    }
   ],
   "source": [
    "#your code\n",
    "\n",
    "data16 = rq.get(url)\n",
    "\n",
    "list_films = BeautifulSoup(data16.text, 'html.parser')\n",
    "\n",
    "film_titles = list_films.select('td.titleColumn a')\n",
    "film_releases = list_films.select('td.titleColumn span')\n",
    "\n",
    "'''html = urllib.urlopen(url).read()'''\n",
    "\n",
    "film_name = [film_titles[e].text for e in range(10)]\n",
    "film_release = [film_releases[e].text[1:-1] for e in range(10)]\n",
    "film_href = [\"http://www.imdb.com\" + film_titles[e][\"href\"] for e in range(10)]\n",
    "\n",
    "film_description=[]\n",
    "\n",
    "for e in film_href:\n",
    "    html = rq.get(e)\n",
    "    soup = BeautifulSoup(html.text, 'html.parser')\n",
    "    film_description.append(soup.select('div.summary_text')[0].text.strip()) \n",
    "\n",
    "dfilms2 = {\n",
    "    \"Movie name\" : film_name,\n",
    "    \"Initial release\": film_release,\n",
    "    \"Description\" : film_description\n",
    "}\n",
    "\n",
    "df_films2 = pd.DataFrame(dfilms2)\n",
    "\n",
    "display(df_films2.head())"
   ]
  },
  {
   "cell_type": "markdown",
   "metadata": {},
   "source": [
    "#### Find the live weather report (temperature, wind speed, description and weather) of a given city."
   ]
  },
  {
   "cell_type": "code",
   "execution_count": 2,
   "metadata": {},
   "outputs": [
    {
     "name": "stdout",
     "output_type": "stream",
     "text": [
      "Enter the city:Sevilla\n",
      "http://api.openweathermap.org/data/2.5/weather?q=Sevilla&APPID=b35975e18dc93725acb092f7272cc6b8&units=metric\n"
     ]
    }
   ],
   "source": [
    "#https://openweathermap.org/current\n",
    "city = city=input('Enter the city:')\n",
    "url = 'http://api.openweathermap.org/data/2.5/weather?'+'q='+city+'&APPID=b35975e18dc93725acb092f7272cc6b8&units=metric'\n",
    "\n",
    "print(url)"
   ]
  },
  {
   "cell_type": "code",
   "execution_count": 20,
   "metadata": {},
   "outputs": [
    {
     "name": "stdout",
     "output_type": "stream",
     "text": [
      "City: Sevilla\n",
      "Temperature: 25.58\n",
      "Wind: 0.5\n",
      "Description: clear sky\n",
      "Weather: Clear\n"
     ]
    }
   ],
   "source": [
    "# your code\n",
    "import json\n",
    "\n",
    "data17 = rq.get(url)\n",
    "\n",
    "weather = BeautifulSoup(data17.text, 'html.parser')\n",
    "\n",
    "weather = json.loads(str(weather))\n",
    "\n",
    "report = 'City: {}\\nTemperature: {}\\nWind: {}\\nDescription: {}\\nWeather: {}'.format(city,weather[\"main\"][\"temp\"],\\\n",
    "            weather[\"wind\"][\"speed\"], weather[\"weather\"][0][\"description\"], weather[\"weather\"][0][\"main\"])\n",
    "\n",
    "print(report)"
   ]
  },
  {
   "cell_type": "markdown",
   "metadata": {},
   "source": [
    "#### Book name,price and stock availability as a pandas dataframe."
   ]
  },
  {
   "cell_type": "code",
   "execution_count": 291,
   "metadata": {},
   "outputs": [],
   "source": [
    "# This is the url you will scrape in this exercise. \n",
    "# It is a fictional bookstore created to be scraped. \n",
    "url = 'http://books.toscrape.com/'"
   ]
  },
  {
   "cell_type": "code",
   "execution_count": 300,
   "metadata": {},
   "outputs": [
    {
     "data": {
      "text/html": [
       "<div>\n",
       "<style scoped>\n",
       "    .dataframe tbody tr th:only-of-type {\n",
       "        vertical-align: middle;\n",
       "    }\n",
       "\n",
       "    .dataframe tbody tr th {\n",
       "        vertical-align: top;\n",
       "    }\n",
       "\n",
       "    .dataframe thead th {\n",
       "        text-align: right;\n",
       "    }\n",
       "</style>\n",
       "<table border=\"1\" class=\"dataframe\">\n",
       "  <thead>\n",
       "    <tr style=\"text-align: right;\">\n",
       "      <th></th>\n",
       "      <th>Book name</th>\n",
       "      <th>Price</th>\n",
       "      <th>Availability</th>\n",
       "    </tr>\n",
       "  </thead>\n",
       "  <tbody>\n",
       "    <tr>\n",
       "      <th>0</th>\n",
       "      <td>A Light in the ...</td>\n",
       "      <td>£51.77</td>\n",
       "      <td>In stock</td>\n",
       "    </tr>\n",
       "    <tr>\n",
       "      <th>1</th>\n",
       "      <td>Tipping the Velvet</td>\n",
       "      <td>£53.74</td>\n",
       "      <td>In stock</td>\n",
       "    </tr>\n",
       "    <tr>\n",
       "      <th>2</th>\n",
       "      <td>Soumission</td>\n",
       "      <td>£50.10</td>\n",
       "      <td>In stock</td>\n",
       "    </tr>\n",
       "    <tr>\n",
       "      <th>3</th>\n",
       "      <td>Sharp Objects</td>\n",
       "      <td>£47.82</td>\n",
       "      <td>In stock</td>\n",
       "    </tr>\n",
       "    <tr>\n",
       "      <th>4</th>\n",
       "      <td>Sapiens: A Brief History ...</td>\n",
       "      <td>£54.23</td>\n",
       "      <td>In stock</td>\n",
       "    </tr>\n",
       "    <tr>\n",
       "      <th>5</th>\n",
       "      <td>The Requiem Red</td>\n",
       "      <td>£22.65</td>\n",
       "      <td>In stock</td>\n",
       "    </tr>\n",
       "    <tr>\n",
       "      <th>6</th>\n",
       "      <td>The Dirty Little Secrets ...</td>\n",
       "      <td>£33.34</td>\n",
       "      <td>In stock</td>\n",
       "    </tr>\n",
       "    <tr>\n",
       "      <th>7</th>\n",
       "      <td>The Coming Woman: A ...</td>\n",
       "      <td>£17.93</td>\n",
       "      <td>In stock</td>\n",
       "    </tr>\n",
       "    <tr>\n",
       "      <th>8</th>\n",
       "      <td>The Boys in the ...</td>\n",
       "      <td>£22.60</td>\n",
       "      <td>In stock</td>\n",
       "    </tr>\n",
       "    <tr>\n",
       "      <th>9</th>\n",
       "      <td>The Black Maria</td>\n",
       "      <td>£52.15</td>\n",
       "      <td>In stock</td>\n",
       "    </tr>\n",
       "    <tr>\n",
       "      <th>10</th>\n",
       "      <td>Starving Hearts (Triangular Trade ...</td>\n",
       "      <td>£13.99</td>\n",
       "      <td>In stock</td>\n",
       "    </tr>\n",
       "    <tr>\n",
       "      <th>11</th>\n",
       "      <td>Shakespeare's Sonnets</td>\n",
       "      <td>£20.66</td>\n",
       "      <td>In stock</td>\n",
       "    </tr>\n",
       "    <tr>\n",
       "      <th>12</th>\n",
       "      <td>Set Me Free</td>\n",
       "      <td>£17.46</td>\n",
       "      <td>In stock</td>\n",
       "    </tr>\n",
       "    <tr>\n",
       "      <th>13</th>\n",
       "      <td>Scott Pilgrim's Precious Little ...</td>\n",
       "      <td>£52.29</td>\n",
       "      <td>In stock</td>\n",
       "    </tr>\n",
       "    <tr>\n",
       "      <th>14</th>\n",
       "      <td>Rip it Up and ...</td>\n",
       "      <td>£35.02</td>\n",
       "      <td>In stock</td>\n",
       "    </tr>\n",
       "    <tr>\n",
       "      <th>15</th>\n",
       "      <td>Our Band Could Be ...</td>\n",
       "      <td>£57.25</td>\n",
       "      <td>In stock</td>\n",
       "    </tr>\n",
       "    <tr>\n",
       "      <th>16</th>\n",
       "      <td>Olio</td>\n",
       "      <td>£23.88</td>\n",
       "      <td>In stock</td>\n",
       "    </tr>\n",
       "    <tr>\n",
       "      <th>17</th>\n",
       "      <td>Mesaerion: The Best Science ...</td>\n",
       "      <td>£37.59</td>\n",
       "      <td>In stock</td>\n",
       "    </tr>\n",
       "    <tr>\n",
       "      <th>18</th>\n",
       "      <td>Libertarianism for Beginners</td>\n",
       "      <td>£51.33</td>\n",
       "      <td>In stock</td>\n",
       "    </tr>\n",
       "    <tr>\n",
       "      <th>19</th>\n",
       "      <td>It's Only the Himalayas</td>\n",
       "      <td>£45.17</td>\n",
       "      <td>In stock</td>\n",
       "    </tr>\n",
       "  </tbody>\n",
       "</table>\n",
       "</div>"
      ],
      "text/plain": [
       "                                Book name   Price Availability\n",
       "0                      A Light in the ...  £51.77     In stock\n",
       "1                      Tipping the Velvet  £53.74     In stock\n",
       "2                              Soumission  £50.10     In stock\n",
       "3                           Sharp Objects  £47.82     In stock\n",
       "4            Sapiens: A Brief History ...  £54.23     In stock\n",
       "5                         The Requiem Red  £22.65     In stock\n",
       "6            The Dirty Little Secrets ...  £33.34     In stock\n",
       "7                 The Coming Woman: A ...  £17.93     In stock\n",
       "8                     The Boys in the ...  £22.60     In stock\n",
       "9                         The Black Maria  £52.15     In stock\n",
       "10  Starving Hearts (Triangular Trade ...  £13.99     In stock\n",
       "11                  Shakespeare's Sonnets  £20.66     In stock\n",
       "12                            Set Me Free  £17.46     In stock\n",
       "13    Scott Pilgrim's Precious Little ...  £52.29     In stock\n",
       "14                      Rip it Up and ...  £35.02     In stock\n",
       "15                  Our Band Could Be ...  £57.25     In stock\n",
       "16                                   Olio  £23.88     In stock\n",
       "17        Mesaerion: The Best Science ...  £37.59     In stock\n",
       "18           Libertarianism for Beginners  £51.33     In stock\n",
       "19                It's Only the Himalayas  £45.17     In stock"
      ]
     },
     "metadata": {},
     "output_type": "display_data"
    }
   ],
   "source": [
    "#your code\n",
    "\n",
    "data18 = rq.get(url)\n",
    "\n",
    "list_books = BeautifulSoup(data18.text, 'html.parser')\n",
    "\n",
    "books_name = list_books.select('article h3 a')\n",
    "books_price = list_books.select('article p.price_color')\n",
    "books_stock = list_books.select('article p.availability')\n",
    "\n",
    "book_name = [e.text for e in books_name]\n",
    "book_price = [e.text[1:] for e in books_price]\n",
    "book_stock = [e.text.strip() for e in books_stock]\n",
    "\n",
    "dbooks = {\n",
    "    \"Book name\" : book_name,\n",
    "    \"Price\": book_price,\n",
    "    \"Availability\": book_stock\n",
    "}\n",
    "\n",
    "df_books = pd.DataFrame(dbooks)\n",
    "\n",
    "display(df_books)"
   ]
  },
  {
   "cell_type": "code",
   "execution_count": null,
   "metadata": {},
   "outputs": [],
   "source": []
  }
 ],
 "metadata": {
  "kernelspec": {
   "display_name": "Python 3",
   "language": "python",
   "name": "python3"
  },
  "language_info": {
   "codemirror_mode": {
    "name": "ipython",
    "version": 3
   },
   "file_extension": ".py",
   "mimetype": "text/x-python",
   "name": "python",
   "nbconvert_exporter": "python",
   "pygments_lexer": "ipython3",
   "version": "3.7.3"
  }
 },
 "nbformat": 4,
 "nbformat_minor": 2
}
