{
 "cells": [
  {
   "cell_type": "markdown",
   "metadata": {},
   "source": [
    "# Before your start:\n",
    "- Read the README.md file\n",
    "- Comment as much as you can and use the resources in the README.md file\n",
    "- Happy learning!"
   ]
  },
  {
   "cell_type": "code",
   "execution_count": 1,
   "metadata": {},
   "outputs": [],
   "source": [
    "# import reduce from functools, numpy and pandas\n",
    "\n",
    "from functools import reduce\n",
    "import pandas as pd\n",
    "import numpy as np"
   ]
  },
  {
   "cell_type": "markdown",
   "metadata": {},
   "source": [
    "# Challenge 1 - Mapping\n",
    "\n",
    "#### We will use the map function to clean up a words in a book.\n",
    "\n",
    "In the following cell, we will read a text file containing the book The Prophet by Khalil Gibran."
   ]
  },
  {
   "cell_type": "code",
   "execution_count": 2,
   "metadata": {},
   "outputs": [],
   "source": [
    "# Run this code:\n",
    "\n",
    "location = '../58585-0.txt'\n",
    "with open(location, 'r', encoding=\"utf8\") as f:\n",
    "    prophet = f.read().split(' ')"
   ]
  },
  {
   "cell_type": "markdown",
   "metadata": {},
   "source": [
    "#### Let's remove the first 568 words since they contain information about the book but are not part of the book itself. \n",
    "\n",
    "Do this by removing from `prophet` elements 0 through 567 of the list (you can also do this by keeping elements 568 through the last element)."
   ]
  },
  {
   "cell_type": "code",
   "execution_count": 3,
   "metadata": {},
   "outputs": [
    {
     "name": "stdout",
     "output_type": "stream",
     "text": [
      "Longitud inicial: 13637\n",
      "Longitud final: 13069. Se han eliminado 568 palabras\n"
     ]
    }
   ],
   "source": [
    "# Your code here:\n",
    "l1 =len(prophet)\n",
    "print(\"Longitud inicial: {}\".format(l1))\n",
    "prophet = prophet[568:len(prophet)]\n",
    "l2 =len(prophet)\n",
    "print(\"Longitud final: {}. Se han eliminado {} palabras\".format(l2, l1-l2))"
   ]
  },
  {
   "cell_type": "markdown",
   "metadata": {},
   "source": [
    "If you look through the words, you will find that many words have a reference attached to them. For example, let's look at words 1 through 10."
   ]
  },
  {
   "cell_type": "code",
   "execution_count": 4,
   "metadata": {},
   "outputs": [
    {
     "name": "stdout",
     "output_type": "stream",
     "text": [
      "['PROPHET\\n\\n|Almustafa,', 'the{7}', 'chosen', 'and', 'the\\nbeloved,', 'who', 'was', 'a', 'dawn', 'unto']\n"
     ]
    }
   ],
   "source": [
    "# Your code here:\n",
    "\n",
    "print(prophet[0:10])\n",
    "\n"
   ]
  },
  {
   "cell_type": "markdown",
   "metadata": {},
   "source": [
    "#### The next step is to create a function that will remove references. \n",
    "\n",
    "We will do this by splitting the string on the `{` character and keeping only the part before this character. Write your function below."
   ]
  },
  {
   "cell_type": "code",
   "execution_count": 5,
   "metadata": {},
   "outputs": [
    {
     "name": "stdout",
     "output_type": "stream",
     "text": [
      "['the{7}', '{8}Long\\nwere', 'and\\n{9}the', '{10}And', '{11}Shall', '{12}he\\nhimself', 'spirit,\\n{13}and', '{14}And\\nshe', 'I\\n{15}speak', 'and\\n{16}caresses', '{17}your', '{18}To\\nknow', '*****\\n\\n{19}Then', '{20}Sing', '*****\\n\\n{21}And', '{22}For\\nlife', '*****\\n\\n{23}Then', 'the\\n{24}much', 'for\\n{25}one', 'rend\\n{26}their', '*****\\n\\n{27}Then', 'consumed.\\n{28}For', 'wine,\\n{29}let', 'winepress.\\n\\n*****\\n*****\\n\\n{30}', 'dream,\\n{31}assigned', 'bind\\n{32}yourself', '{33}And', '{34}And', '*****\\n\\n{35}Then', 'in\\n{36}your', '*****\\n\\n{37}Then', 'you\\n{38}might', 'that\\n{39}enters', 'that\\n{40}covers', '*****\\n\\n{41}And', '{42}Forget', '*****\\n\\n{43}And', '{44}And\\nsuffer', '*****\\n\\n{45}Then', 'serpent.\\n{46}But', '{47}So', 'is\\n{48}the', 'the\\n{49}fruitless,', '{50}And', '*****\\n\\n{51}Then', '{52}What', 'what\\n{53}images', '*****\\n\\n{54}And', 'your\\n{55}nights', 'would\\n{56}dethrone,', '*****\\n\\n{57}And', '{58}For', 'the\\n{59}mighty', '*****\\n\\n{60}And', '{61}within', '*****\\n\\n{62}And', 'your\\n{63}knowledge', '*****\\n\\n{64}Then', 'it.\\n{65}And', '*****\\n\\n{66}And', '{67}And', '*****\\n\\n{68}And', 'and\\n{69}without', '*****\\n\\n{70}And', 'space.\\n{71}Who', '*****\\n\\n{72}And', '{73}You', '{74}Even', 'to\\n{75}him', '*****\\n\\n{76}Then', 'very\\n{77}hour,', 'mountains.\\n{78}But', '*****\\n\\n{79}Then', '{80}I', '{81}they', '{82}sweet\\nmusic', '*****\\n\\n{83}And', '{84}Her', '{85}All', 'veil.\\n{86}Beauty', '*****\\n\\n{87}And', '{88}He\\nwho', '{89}For', '*****\\n\\n{90}Then', '{91}Your', 'dance.\\n{92}And', '{93}Even', 'emptiness;\\n{94}And', 'the\\n{95}bending', '{96}His\\nmight', 'offended.\\n{97}Think', 'days.\\n{98}It', '0125]\\n\\n{99}And', '{100}Verily', '{101}Why', 'doubter;\\n{102}For', 'crystal.\\n{103}And', '{104}And', '{105}Now', '{106}You', 'after\\n{107}the']\n"
     ]
    }
   ],
   "source": [
    "# El método que propone el ejercicio elimina palabras del texto, ya que como se ve a continuación, algunas llaves\n",
    "# se encuentran entre palabras o al principio del texto.\n",
    "\n",
    "print([e for e in prophet if \"{\" in e])"
   ]
  },
  {
   "cell_type": "code",
   "execution_count": 6,
   "metadata": {},
   "outputs": [
    {
     "name": "stdout",
     "output_type": "stream",
     "text": [
      "\n",
      "    Input: 'the{7}'\n",
      "    Output: 'the'\n",
      "    \n"
     ]
    }
   ],
   "source": [
    "def reference(x):\n",
    "    '''\n",
    "    Input: A string\n",
    "    Output: The string with references removed\n",
    "    \n",
    "    Example:\n",
    "    Input: 'the{7}'\n",
    "    Output: 'the'\n",
    "    '''\n",
    "    \n",
    "    # Your code here:\n",
    "    \n",
    "    \n",
    "    \n",
    "    return x.split(\"{\")[0]\n",
    "\n",
    "phrase = '''\n",
    "    Input: '{}'\n",
    "    Output: '{}'\n",
    "    '''\n",
    "print(phrase.format(\"the{7}\", reference(\"the{7}\")))"
   ]
  },
  {
   "cell_type": "markdown",
   "metadata": {},
   "source": [
    "Now that we have our function, use the `map()` function to apply this function to our book, The Prophet. Return the resulting list to a new list called `prophet_reference`"
   ]
  },
  {
   "cell_type": "code",
   "execution_count": 7,
   "metadata": {},
   "outputs": [
    {
     "name": "stdout",
     "output_type": "stream",
     "text": [
      "['PROPHET\\n\\n|Almustafa,', 'the', 'chosen', 'and', 'the\\nbeloved,', 'who', 'was', 'a', 'dawn', 'unto', 'his', 'own\\nday,', 'had', 'waited', 'twelve', 'years', 'in', 'the', 'city\\nof', 'Orphalese']\n"
     ]
    }
   ],
   "source": [
    "# Your code here:\n",
    "prophet_reference = list(map(lambda x: x.split(\"{\")[0], prophet))\n",
    "\n",
    "print (prophet_reference[:20])"
   ]
  },
  {
   "cell_type": "markdown",
   "metadata": {},
   "source": [
    "Another thing you may have noticed is that some words contain a line break. Let's write a function to split those words. Our function will return the string split on the character `\\n`. Write your function in the cell below."
   ]
  },
  {
   "cell_type": "code",
   "execution_count": 8,
   "metadata": {},
   "outputs": [
    {
     "name": "stdout",
     "output_type": "stream",
     "text": [
      "\n",
      "    Input: 'the\\nbeloved'\n",
      "    Output: '['the', 'beloved']'\n",
      "    \n"
     ]
    }
   ],
   "source": [
    "def line_break(x):\n",
    "    '''\n",
    "    Input: A string\n",
    "    Output: A list of strings split on the line break (\\n) character\n",
    "        \n",
    "    Example:\n",
    "    Input: 'the\\nbeloved'\n",
    "    Output: ['the', 'beloved']\n",
    "    '''\n",
    "    \n",
    "    # Your code here:\n",
    "    return x.split(\"\\n\")\n",
    "\n",
    "phrase2 = '''\n",
    "    Input: '{}'\n",
    "    Output: '{}'\n",
    "    '''\n",
    "print(phrase2.format(\"the\\\\nbeloved\", line_break(\"the\\nbeloved\")))"
   ]
  },
  {
   "cell_type": "markdown",
   "metadata": {},
   "source": [
    "Apply the `line_break` function to the `prophet_reference` list. Name the new list `prophet_line`."
   ]
  },
  {
   "cell_type": "code",
   "execution_count": 9,
   "metadata": {},
   "outputs": [
    {
     "name": "stdout",
     "output_type": "stream",
     "text": [
      "[['PROPHET', '', '|Almustafa,'], ['the'], ['chosen'], ['and'], ['the', 'beloved,'], ['who'], ['was'], ['a'], ['dawn'], ['unto'], ['his'], ['own', 'day,'], ['had'], ['waited'], ['twelve'], ['years'], ['in'], ['the'], ['city', 'of'], ['Orphalese']]\n"
     ]
    }
   ],
   "source": [
    "# Your code here:\n",
    "prophet_line = list(map(lambda x: x.split(\"\\n\"), prophet_reference))\n",
    "\n",
    "print (prophet_line[:20])"
   ]
  },
  {
   "cell_type": "markdown",
   "metadata": {},
   "source": [
    "If you look at the elements of `prophet_line`, you will see that the function returned lists and not strings. Our list is now a list of lists. Flatten the list using list comprehension. Assign this new list to `prophet_flat`."
   ]
  },
  {
   "cell_type": "code",
   "execution_count": 10,
   "metadata": {},
   "outputs": [
    {
     "name": "stdout",
     "output_type": "stream",
     "text": [
      "['PROPHET', '', '|Almustafa,', 'the', 'chosen', 'and', 'the', 'beloved,', 'who', 'was', 'a', 'dawn', 'unto', 'his', 'own', 'day,', 'had', 'waited', 'twelve', 'years']\n"
     ]
    }
   ],
   "source": [
    "# Your code here:\n",
    "prophet_flat = [i for e in prophet_line for i in e]\n",
    "print (prophet_flat[:20])"
   ]
  },
  {
   "cell_type": "markdown",
   "metadata": {},
   "source": [
    "# Challenge 2 - Filtering\n",
    "\n",
    "When printing out a few words from the book, we see that there are words that we may not want to keep if we choose to analyze the corpus of text. Below is a list of words that we would like to get rid of. Create a function that will return false if it contains a word from the list of words specified and true otherwise."
   ]
  },
  {
   "cell_type": "code",
   "execution_count": 11,
   "metadata": {},
   "outputs": [],
   "source": [
    "def word_filter(x):\n",
    "    '''\n",
    "    Input: A string\n",
    "    Output: true if the word is not in the specified list and false if the word is in the list\n",
    "        \n",
    "    Example:\n",
    "    word list = ['and', 'the']\n",
    "    Input: 'and'\n",
    "    Output: False\n",
    "    \n",
    "    Input: 'John'\n",
    "    Output: True\n",
    "    '''\n",
    "    \n",
    "    word_list = ['and', 'the', 'a', 'an']\n",
    "    \n",
    "    # Your code here:\n",
    "    \n",
    "    return (False if x in word_list else True)\n"
   ]
  },
  {
   "cell_type": "markdown",
   "metadata": {},
   "source": [
    "Use the `filter()` function to filter out the words speficied in the `word_filter()` function. Store the filtered list in the variable `prophet_filter`."
   ]
  },
  {
   "cell_type": "code",
   "execution_count": 12,
   "metadata": {},
   "outputs": [
    {
     "name": "stdout",
     "output_type": "stream",
     "text": [
      "16397\n",
      "14627\n"
     ]
    }
   ],
   "source": [
    "word_list = ['and', 'the', 'a', 'an']\n",
    "print(len(prophet_flat))\n",
    "prophet_filter = list(filter(lambda x: False if x in word_list else True, prophet_flat))\n",
    "print(len(prophet_filter))"
   ]
  },
  {
   "cell_type": "markdown",
   "metadata": {},
   "source": [
    "# Bonus Challenge - Part 1\n",
    "\n",
    "Rewrite the `word_filter` function above to not be case sensitive."
   ]
  },
  {
   "cell_type": "code",
   "execution_count": 13,
   "metadata": {},
   "outputs": [
    {
     "name": "stdout",
     "output_type": "stream",
     "text": [
      "14627\n",
      "14334\n"
     ]
    }
   ],
   "source": [
    "def word_filter_case(x):\n",
    "   \n",
    "    word_list = ['and', 'the', 'a', 'an']\n",
    "    \n",
    "    # Your code here:\n",
    "    \n",
    "    return (False if x.lower() in word_list else True)\n",
    "\n",
    "print(len(prophet_filter))\n",
    "prophet_filter = list(filter(lambda x: False if x.lower() in word_list else True, prophet_flat))\n",
    "print(len(prophet_filter))"
   ]
  },
  {
   "cell_type": "markdown",
   "metadata": {},
   "source": [
    "# Challenge 3 - Reducing\n",
    "\n",
    "#### Now that we have significantly cleaned up our text corpus, let's use the `reduce()` function to put the words back together into one long string separated by spaces. \n",
    "\n",
    "We will start by writing a function that takes two strings and concatenates them together with a space between the two strings."
   ]
  },
  {
   "cell_type": "code",
   "execution_count": 14,
   "metadata": {},
   "outputs": [],
   "source": [
    "def concat_space(a, b):\n",
    "    '''\n",
    "    Input:Two strings\n",
    "    Output: A single string separated by a space\n",
    "        \n",
    "    Example:\n",
    "    Input: 'John', 'Smith'\n",
    "    Output: 'John Smith'\n",
    "    '''\n",
    "    \n",
    "    # Your code here:\n",
    "    return a + \" \" + b\n",
    "    #print(a, b)"
   ]
  },
  {
   "cell_type": "markdown",
   "metadata": {},
   "source": [
    "Use the function above to reduce the text corpus in the list `prophet_filter` into a single string. Assign this new string to the variable `prophet_string`."
   ]
  },
  {
   "cell_type": "code",
   "execution_count": 15,
   "metadata": {},
   "outputs": [
    {
     "name": "stdout",
     "output_type": "stream",
     "text": [
      "PROPHET  |Almustafa, chosen beloved, who was dawn unto his own day, had waited twelve years in city of Orphalese for his ship that was to return bear him back to isle of his birth.  in twelfth year, o\n"
     ]
    }
   ],
   "source": [
    "# Your code here:\n",
    "\n",
    "prophet_string = reduce(lambda a,b: a + \" \" + b, prophet_filter)\n",
    "\n",
    "print(prophet_string[:200])"
   ]
  },
  {
   "cell_type": "markdown",
   "metadata": {},
   "source": [
    "# Challenge 4 - Applying Functions to DataFrames\n",
    "\n",
    "#### Our next step is to use the apply function to a dataframe and transform all cells.\n",
    "\n",
    "To do this, we will load a dataset below and then write a function that will perform the transformation."
   ]
  },
  {
   "cell_type": "code",
   "execution_count": 16,
   "metadata": {},
   "outputs": [],
   "source": [
    "# Run this code:\n",
    "\n",
    "# The dataset below contains information about pollution from PM2.5 particles in Beijing \n",
    "\n",
    "url = \"https://archive.ics.uci.edu/ml/machine-learning-databases/00381/PRSA_data_2010.1.1-2014.12.31.csv\"\n",
    "pm25 = pd.read_csv(url)"
   ]
  },
  {
   "cell_type": "markdown",
   "metadata": {},
   "source": [
    "Let's look at the data using the `head()` function."
   ]
  },
  {
   "cell_type": "code",
   "execution_count": 17,
   "metadata": {},
   "outputs": [
    {
     "data": {
      "text/html": [
       "<div>\n",
       "<style scoped>\n",
       "    .dataframe tbody tr th:only-of-type {\n",
       "        vertical-align: middle;\n",
       "    }\n",
       "\n",
       "    .dataframe tbody tr th {\n",
       "        vertical-align: top;\n",
       "    }\n",
       "\n",
       "    .dataframe thead th {\n",
       "        text-align: right;\n",
       "    }\n",
       "</style>\n",
       "<table border=\"1\" class=\"dataframe\">\n",
       "  <thead>\n",
       "    <tr style=\"text-align: right;\">\n",
       "      <th></th>\n",
       "      <th>No</th>\n",
       "      <th>year</th>\n",
       "      <th>month</th>\n",
       "      <th>day</th>\n",
       "      <th>hour</th>\n",
       "      <th>pm2.5</th>\n",
       "      <th>DEWP</th>\n",
       "      <th>TEMP</th>\n",
       "      <th>PRES</th>\n",
       "      <th>cbwd</th>\n",
       "      <th>Iws</th>\n",
       "      <th>Is</th>\n",
       "      <th>Ir</th>\n",
       "    </tr>\n",
       "  </thead>\n",
       "  <tbody>\n",
       "    <tr>\n",
       "      <th>0</th>\n",
       "      <td>1</td>\n",
       "      <td>2010</td>\n",
       "      <td>1</td>\n",
       "      <td>1</td>\n",
       "      <td>0</td>\n",
       "      <td>NaN</td>\n",
       "      <td>-21</td>\n",
       "      <td>-11.0</td>\n",
       "      <td>1021.0</td>\n",
       "      <td>NW</td>\n",
       "      <td>1.79</td>\n",
       "      <td>0</td>\n",
       "      <td>0</td>\n",
       "    </tr>\n",
       "    <tr>\n",
       "      <th>1</th>\n",
       "      <td>2</td>\n",
       "      <td>2010</td>\n",
       "      <td>1</td>\n",
       "      <td>1</td>\n",
       "      <td>1</td>\n",
       "      <td>NaN</td>\n",
       "      <td>-21</td>\n",
       "      <td>-12.0</td>\n",
       "      <td>1020.0</td>\n",
       "      <td>NW</td>\n",
       "      <td>4.92</td>\n",
       "      <td>0</td>\n",
       "      <td>0</td>\n",
       "    </tr>\n",
       "    <tr>\n",
       "      <th>2</th>\n",
       "      <td>3</td>\n",
       "      <td>2010</td>\n",
       "      <td>1</td>\n",
       "      <td>1</td>\n",
       "      <td>2</td>\n",
       "      <td>NaN</td>\n",
       "      <td>-21</td>\n",
       "      <td>-11.0</td>\n",
       "      <td>1019.0</td>\n",
       "      <td>NW</td>\n",
       "      <td>6.71</td>\n",
       "      <td>0</td>\n",
       "      <td>0</td>\n",
       "    </tr>\n",
       "    <tr>\n",
       "      <th>3</th>\n",
       "      <td>4</td>\n",
       "      <td>2010</td>\n",
       "      <td>1</td>\n",
       "      <td>1</td>\n",
       "      <td>3</td>\n",
       "      <td>NaN</td>\n",
       "      <td>-21</td>\n",
       "      <td>-14.0</td>\n",
       "      <td>1019.0</td>\n",
       "      <td>NW</td>\n",
       "      <td>9.84</td>\n",
       "      <td>0</td>\n",
       "      <td>0</td>\n",
       "    </tr>\n",
       "    <tr>\n",
       "      <th>4</th>\n",
       "      <td>5</td>\n",
       "      <td>2010</td>\n",
       "      <td>1</td>\n",
       "      <td>1</td>\n",
       "      <td>4</td>\n",
       "      <td>NaN</td>\n",
       "      <td>-20</td>\n",
       "      <td>-12.0</td>\n",
       "      <td>1018.0</td>\n",
       "      <td>NW</td>\n",
       "      <td>12.97</td>\n",
       "      <td>0</td>\n",
       "      <td>0</td>\n",
       "    </tr>\n",
       "  </tbody>\n",
       "</table>\n",
       "</div>"
      ],
      "text/plain": [
       "   No  year  month  day  hour  pm2.5  DEWP  TEMP    PRES cbwd    Iws  Is  Ir\n",
       "0   1  2010      1    1     0    NaN   -21 -11.0  1021.0   NW   1.79   0   0\n",
       "1   2  2010      1    1     1    NaN   -21 -12.0  1020.0   NW   4.92   0   0\n",
       "2   3  2010      1    1     2    NaN   -21 -11.0  1019.0   NW   6.71   0   0\n",
       "3   4  2010      1    1     3    NaN   -21 -14.0  1019.0   NW   9.84   0   0\n",
       "4   5  2010      1    1     4    NaN   -20 -12.0  1018.0   NW  12.97   0   0"
      ]
     },
     "metadata": {},
     "output_type": "display_data"
    }
   ],
   "source": [
    "# Your code here:\n",
    "\n",
    "display(pm25.head())"
   ]
  },
  {
   "cell_type": "markdown",
   "metadata": {},
   "source": [
    "The next step is to create a function that divides a cell by 24 to produce an hourly figure. Write the function below."
   ]
  },
  {
   "cell_type": "code",
   "execution_count": 18,
   "metadata": {},
   "outputs": [],
   "source": [
    "def hourly(x):\n",
    "    '''\n",
    "    Input: A numerical value\n",
    "    Output: The value divided by 24\n",
    "        \n",
    "    Example:\n",
    "    Input: 48\n",
    "    Output: 2.0\n",
    "    '''\n",
    "    return x/24\n",
    "    # Your code here:\n",
    "    "
   ]
  },
  {
   "cell_type": "markdown",
   "metadata": {},
   "source": [
    "Apply this function to the columns `Iws`, `Is`, and `Ir`. Store this new dataframe in the variable `pm25_hourly`."
   ]
  },
  {
   "cell_type": "code",
   "execution_count": 19,
   "metadata": {},
   "outputs": [
    {
     "data": {
      "text/html": [
       "<div>\n",
       "<style scoped>\n",
       "    .dataframe tbody tr th:only-of-type {\n",
       "        vertical-align: middle;\n",
       "    }\n",
       "\n",
       "    .dataframe tbody tr th {\n",
       "        vertical-align: top;\n",
       "    }\n",
       "\n",
       "    .dataframe thead th {\n",
       "        text-align: right;\n",
       "    }\n",
       "</style>\n",
       "<table border=\"1\" class=\"dataframe\">\n",
       "  <thead>\n",
       "    <tr style=\"text-align: right;\">\n",
       "      <th></th>\n",
       "      <th>Iws</th>\n",
       "      <th>Is</th>\n",
       "      <th>Ir</th>\n",
       "    </tr>\n",
       "  </thead>\n",
       "  <tbody>\n",
       "    <tr>\n",
       "      <th>0</th>\n",
       "      <td>0.07</td>\n",
       "      <td>0.0</td>\n",
       "      <td>0.0</td>\n",
       "    </tr>\n",
       "    <tr>\n",
       "      <th>1</th>\n",
       "      <td>0.20</td>\n",
       "      <td>0.0</td>\n",
       "      <td>0.0</td>\n",
       "    </tr>\n",
       "    <tr>\n",
       "      <th>2</th>\n",
       "      <td>0.28</td>\n",
       "      <td>0.0</td>\n",
       "      <td>0.0</td>\n",
       "    </tr>\n",
       "    <tr>\n",
       "      <th>3</th>\n",
       "      <td>0.41</td>\n",
       "      <td>0.0</td>\n",
       "      <td>0.0</td>\n",
       "    </tr>\n",
       "    <tr>\n",
       "      <th>4</th>\n",
       "      <td>0.54</td>\n",
       "      <td>0.0</td>\n",
       "      <td>0.0</td>\n",
       "    </tr>\n",
       "  </tbody>\n",
       "</table>\n",
       "</div>"
      ],
      "text/plain": [
       "    Iws   Is   Ir\n",
       "0  0.07  0.0  0.0\n",
       "1  0.20  0.0  0.0\n",
       "2  0.28  0.0  0.0\n",
       "3  0.41  0.0  0.0\n",
       "4  0.54  0.0  0.0"
      ]
     },
     "metadata": {},
     "output_type": "display_data"
    }
   ],
   "source": [
    "# Your code here:\n",
    "pm25_hourly = pd.DataFrame()\n",
    "\n",
    "for col in [\"Iws\", \"Is\", \"Ir\"]:\n",
    "    pm25_hourly[col]=pm25[col].apply(lambda x: round(x/24,2))\n",
    "                             \n",
    "display(pm25_hourly.head())"
   ]
  },
  {
   "cell_type": "markdown",
   "metadata": {},
   "source": [
    "#### Our last challenge will be to create an aggregate function and apply it to a select group of columns in our dataframe.\n",
    "\n",
    "Write a function that returns the standard deviation of a column divided by the length of a column minus 1. Since we are using pandas, do not use the `len()` function. One alternative is to use `count()`. Also, use the numpy version of standard deviation."
   ]
  },
  {
   "cell_type": "code",
   "execution_count": 20,
   "metadata": {},
   "outputs": [],
   "source": [
    "def sample_sd(x):\n",
    "    '''\n",
    "    Input: A Pandas series of values\n",
    "    Output: the standard deviation divided by the number of elements in the series\n",
    "        \n",
    "    Example:\n",
    "    Input: pd.Series([1,2,3,4])\n",
    "    Output: 0.3726779962\n",
    "    '''\n",
    "    \n",
    "    # Your code here:\n",
    "    \n",
    "    return np.std(x.values, axis=0)/(x.count()-1)\n",
    "    "
   ]
  },
  {
   "cell_type": "code",
   "execution_count": 21,
   "metadata": {},
   "outputs": [
    {
     "name": "stdout",
     "output_type": "stream",
     "text": [
      "No       0.288682\n",
      "year     0.000032\n",
      "month    0.000079\n",
      "day      0.000201\n",
      "hour     0.000158\n",
      "pm2.5    0.002204\n",
      "DEWP     0.000329\n",
      "TEMP     0.000278\n",
      "PRES     0.000234\n",
      "Iws      0.001141\n",
      "Is       0.000017\n",
      "Ir       0.000032\n",
      "dtype: float64\n"
     ]
    }
   ],
   "source": [
    "print(pm25._get_numeric_data().apply(lambda x: np.std(x, axis=0)/(x.count()-1)))"
   ]
  },
  {
   "cell_type": "markdown",
   "metadata": {},
   "source": [
    "# Bonus: Limpieza de `prophet`\n",
    "\n",
    "La limpieza propuesta tiene muchos fallos. Vamos a mejorar el código desde `prophet`"
   ]
  },
  {
   "cell_type": "code",
   "execution_count": 22,
   "metadata": {},
   "outputs": [
    {
     "name": "stdout",
     "output_type": "stream",
     "text": [
      "['prophet  |almustafa,', 'the ', 'chosen', 'and', 'the beloved,', 'who', 'was', 'a', 'dawn', 'unto', 'his', 'own day,', 'had', 'waited', 'twelve', 'years', 'in', 'the', 'city of', 'orphalese']\n",
      "[['prophet', '', '|almustafa,'], ['the', ''], ['chosen'], ['and'], ['the', 'beloved,'], ['who'], ['was'], ['a'], ['dawn'], ['unto'], ['his'], ['own', 'day,'], ['had'], ['waited'], ['twelve'], ['years'], ['in'], ['the'], ['city', 'of'], ['orphalese']]\n",
      "['prophet', '', '|almustafa,', 'the', '', 'chosen', 'and', 'the', 'beloved,', 'who', 'was', 'a', 'dawn', 'unto', 'his', 'own', 'day,', 'had', 'waited', 'twelve']\n",
      "['prophet', '', 'almustafa', 'the', '', 'chosen', 'and', 'the', 'beloved', 'who', 'was', 'a', 'dawn', 'unto', 'his', 'own', 'day', 'had', 'waited', 'twelve']\n",
      "['prophet', 'almustafa', 'the', 'chosen', 'and', 'the', 'beloved', 'who', 'was', 'a', 'dawn', 'unto', 'his', 'own', 'day', 'had', 'waited', 'twelve', 'years', 'in']\n",
      "['prophet', 'almustafa', 'chosen', 'beloved', 'who', 'was', 'dawn', 'unto', 'his', 'own', 'day', 'had', 'waited', 'twelve', 'years', 'in', 'city', 'of', 'orphalese', 'for']\n"
     ]
    }
   ],
   "source": [
    "import re\n",
    "\n",
    "# CONVERTIRMOS EN MINÚSCULAS LA PALABRA\n",
    "prophet_lower = list(map(lambda x: x.lower(), prophet))\n",
    "\n",
    "# SUSTITUIMOS \\n Y LAS REFERENCIAS POR ESPACIOS\n",
    "prophet_reference_2 = list(map(lambda x: re.sub(\"{.+}|\\n\", \" \", x), prophet_lower))\n",
    "print(prophet_reference_2[:20])\n",
    "\n",
    "# COMO HAY SALTOS DE LÍNEA DUPLICADOS Y REFERENCIAS ENTRE PALABRAS, HABRÁ ELEMENTOS QUE SON PALABRAS CON ESPACIOS.\n",
    "# HACEMOS UN SPLIT Y TENDREMOS UNA LISTA DE LISTA (ALGUNOS ESPACIOS ESTARÁN VACÍOS)\n",
    "prophet_line_2 = list(map(lambda x: x.split(\" \"), prophet_reference_2))\n",
    "print(prophet_line_2[:20])\n",
    "\n",
    "# DESHACEMOS LA LISTA DE LISTAS\n",
    "prophet_flat_2 = [i for e in prophet_line_2 for i in e]\n",
    "print(prophet_flat_2[:20])\n",
    "\n",
    "# SUSTITUIMOS LOS SÍMBOLOS RAROS COMO PUNTOS, COMAS, |, ETC...\n",
    "prophet_symbols = list(map(lambda x: re.sub(\"[^\\w]\", \"\", x), prophet_flat_2))\n",
    "print(prophet_symbols[:20])\n",
    "\n",
    "# ELIMINAMOS LOS ELEMENTOS DE LA LISTA QUE ESTÁN VACÍOS\n",
    "prophet_spaces = [e for e in prophet_symbols if not e == '']\n",
    "print(prophet_spaces[:20])\n",
    "\n",
    "# APLICAMOS EL FILTRO PARA ELIMINAR word_list\n",
    "prophet_filter_2 = list(filter(lambda x: False if x in word_list else True, prophet_spaces))\n",
    "print(prophet_filter_2[:20])"
   ]
  },
  {
   "cell_type": "code",
   "execution_count": null,
   "metadata": {},
   "outputs": [],
   "source": []
  }
 ],
 "metadata": {
  "kernelspec": {
   "display_name": "Python 3",
   "language": "python",
   "name": "python3"
  },
  "language_info": {
   "codemirror_mode": {
    "name": "ipython",
    "version": 3
   },
   "file_extension": ".py",
   "mimetype": "text/x-python",
   "name": "python",
   "nbconvert_exporter": "python",
   "pygments_lexer": "ipython3",
   "version": "3.7.3"
  }
 },
 "nbformat": 4,
 "nbformat_minor": 2
}
