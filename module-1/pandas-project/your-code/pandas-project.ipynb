{
 "cells": [
  {
   "cell_type": "markdown",
   "metadata": {},
   "source": [
    "# Pandas Project\n",
    "\n",
    "<p style=\"background-color:#e6e6e6;font-style:italic;padding:15px;\">Este repositorio es un proyecto sobre la librería pandas de Python que he realizado como tarea durante el bootcamp de Data Analytics de <a href=\"https://www.ironhack.com/\" title=\"Ironhack\">Ironhack</a>. Se trata del primer proyecto que realizamos.</p>\n",
    "\n",
    "Para el proyecto de pandas hemos recibido el dataset *Global Shark Attack Incidents* disponible en [kaagle.com](https://www.kaggle.com/teajay/global-shark-attacks/version/1/kernels). Se trata de un archivo csv con datos sobre ataques de tiburones alrededor de todo el mundo.\n",
    "\n",
    "El objetivo del proyecto es plantear una hipótesis y confirmarla con los datos del dataset. Sin embargo, los datos de la bbdd son muy caóticos, por lo que es necesario filtrar y limpiar los datos para poder confirmarla.\n",
    "\n",
    "Así que... ¡Vamos a ello!\n",
    "\n",
    "<br/>\n",
    "<br/>\n",
    "<br/>\n",
    "<br/>\n",
    "\n",
    "\n",
    "![Baby shark](baby-shark.gif)\n",
    "\n",
    "## Cargando el dataset\n",
    "\n",
    "Cargamos el dataset con un encoding adecuado.\n",
    "\n",
    "Además de añadir la librería pandas, cargamos el archivo `myfunctions` donde hay algunas funciones que utilizaremos más tarde en el proyecto y el archivo `drawplots` que nos servirá para dibujar gráficos."
   ]
  },
  {
   "cell_type": "code",
   "execution_count": 1,
   "metadata": {},
   "outputs": [
    {
     "data": {
      "text/html": [
       "<div>\n",
       "<style scoped>\n",
       "    .dataframe tbody tr th:only-of-type {\n",
       "        vertical-align: middle;\n",
       "    }\n",
       "\n",
       "    .dataframe tbody tr th {\n",
       "        vertical-align: top;\n",
       "    }\n",
       "\n",
       "    .dataframe thead th {\n",
       "        text-align: right;\n",
       "    }\n",
       "</style>\n",
       "<table border=\"1\" class=\"dataframe\">\n",
       "  <thead>\n",
       "    <tr style=\"text-align: right;\">\n",
       "      <th></th>\n",
       "      <th>Case Number</th>\n",
       "      <th>Date</th>\n",
       "      <th>Year</th>\n",
       "      <th>Type</th>\n",
       "      <th>Country</th>\n",
       "      <th>Area</th>\n",
       "      <th>Location</th>\n",
       "      <th>Activity</th>\n",
       "      <th>Name</th>\n",
       "      <th>Sex</th>\n",
       "      <th>...</th>\n",
       "      <th>Species</th>\n",
       "      <th>Investigator or Source</th>\n",
       "      <th>pdf</th>\n",
       "      <th>href formula</th>\n",
       "      <th>href</th>\n",
       "      <th>Case Number.1</th>\n",
       "      <th>Case Number.2</th>\n",
       "      <th>original order</th>\n",
       "      <th>Unnamed: 22</th>\n",
       "      <th>Unnamed: 23</th>\n",
       "    </tr>\n",
       "  </thead>\n",
       "  <tbody>\n",
       "    <tr>\n",
       "      <th>0</th>\n",
       "      <td>2016.09.18.c</td>\n",
       "      <td>18-Sep-16</td>\n",
       "      <td>2016</td>\n",
       "      <td>Unprovoked</td>\n",
       "      <td>USA</td>\n",
       "      <td>Florida</td>\n",
       "      <td>New Smyrna Beach, Volusia County</td>\n",
       "      <td>Surfing</td>\n",
       "      <td>male</td>\n",
       "      <td>M</td>\n",
       "      <td>...</td>\n",
       "      <td>NaN</td>\n",
       "      <td>Orlando Sentinel, 9/19/2016</td>\n",
       "      <td>2016.09.18.c-NSB.pdf</td>\n",
       "      <td>http://sharkattackfile.net/spreadsheets/pdf_di...</td>\n",
       "      <td>http://sharkattackfile.net/spreadsheets/pdf_di...</td>\n",
       "      <td>2016.09.18.c</td>\n",
       "      <td>2016.09.18.c</td>\n",
       "      <td>5993</td>\n",
       "      <td>NaN</td>\n",
       "      <td>NaN</td>\n",
       "    </tr>\n",
       "    <tr>\n",
       "      <th>1</th>\n",
       "      <td>2016.09.18.b</td>\n",
       "      <td>18-Sep-16</td>\n",
       "      <td>2016</td>\n",
       "      <td>Unprovoked</td>\n",
       "      <td>USA</td>\n",
       "      <td>Florida</td>\n",
       "      <td>New Smyrna Beach, Volusia County</td>\n",
       "      <td>Surfing</td>\n",
       "      <td>Chucky Luciano</td>\n",
       "      <td>M</td>\n",
       "      <td>...</td>\n",
       "      <td>NaN</td>\n",
       "      <td>Orlando Sentinel, 9/19/2016</td>\n",
       "      <td>2016.09.18.b-Luciano.pdf</td>\n",
       "      <td>http://sharkattackfile.net/spreadsheets/pdf_di...</td>\n",
       "      <td>http://sharkattackfile.net/spreadsheets/pdf_di...</td>\n",
       "      <td>2016.09.18.b</td>\n",
       "      <td>2016.09.18.b</td>\n",
       "      <td>5992</td>\n",
       "      <td>NaN</td>\n",
       "      <td>NaN</td>\n",
       "    </tr>\n",
       "    <tr>\n",
       "      <th>2</th>\n",
       "      <td>2016.09.18.a</td>\n",
       "      <td>18-Sep-16</td>\n",
       "      <td>2016</td>\n",
       "      <td>Unprovoked</td>\n",
       "      <td>USA</td>\n",
       "      <td>Florida</td>\n",
       "      <td>New Smyrna Beach, Volusia County</td>\n",
       "      <td>Surfing</td>\n",
       "      <td>male</td>\n",
       "      <td>M</td>\n",
       "      <td>...</td>\n",
       "      <td>NaN</td>\n",
       "      <td>Orlando Sentinel, 9/19/2016</td>\n",
       "      <td>2016.09.18.a-NSB.pdf</td>\n",
       "      <td>http://sharkattackfile.net/spreadsheets/pdf_di...</td>\n",
       "      <td>http://sharkattackfile.net/spreadsheets/pdf_di...</td>\n",
       "      <td>2016.09.18.a</td>\n",
       "      <td>2016.09.18.a</td>\n",
       "      <td>5991</td>\n",
       "      <td>NaN</td>\n",
       "      <td>NaN</td>\n",
       "    </tr>\n",
       "    <tr>\n",
       "      <th>3</th>\n",
       "      <td>2016.09.17</td>\n",
       "      <td>17-Sep-16</td>\n",
       "      <td>2016</td>\n",
       "      <td>Unprovoked</td>\n",
       "      <td>AUSTRALIA</td>\n",
       "      <td>Victoria</td>\n",
       "      <td>Thirteenth Beach</td>\n",
       "      <td>Surfing</td>\n",
       "      <td>Rory Angiolella</td>\n",
       "      <td>M</td>\n",
       "      <td>...</td>\n",
       "      <td>NaN</td>\n",
       "      <td>The Age, 9/18/2016</td>\n",
       "      <td>2016.09.17-Angiolella.pdf</td>\n",
       "      <td>http://sharkattackfile.net/spreadsheets/pdf_di...</td>\n",
       "      <td>http://sharkattackfile.net/spreadsheets/pdf_di...</td>\n",
       "      <td>2016.09.17</td>\n",
       "      <td>2016.09.17</td>\n",
       "      <td>5990</td>\n",
       "      <td>NaN</td>\n",
       "      <td>NaN</td>\n",
       "    </tr>\n",
       "    <tr>\n",
       "      <th>4</th>\n",
       "      <td>2016.09.15</td>\n",
       "      <td>16-Sep-16</td>\n",
       "      <td>2016</td>\n",
       "      <td>Unprovoked</td>\n",
       "      <td>AUSTRALIA</td>\n",
       "      <td>Victoria</td>\n",
       "      <td>Bells Beach</td>\n",
       "      <td>Surfing</td>\n",
       "      <td>male</td>\n",
       "      <td>M</td>\n",
       "      <td>...</td>\n",
       "      <td>2 m shark</td>\n",
       "      <td>The Age, 9/16/2016</td>\n",
       "      <td>2016.09.16-BellsBeach.pdf</td>\n",
       "      <td>http://sharkattackfile.net/spreadsheets/pdf_di...</td>\n",
       "      <td>http://sharkattackfile.net/spreadsheets/pdf_di...</td>\n",
       "      <td>2016.09.16</td>\n",
       "      <td>2016.09.15</td>\n",
       "      <td>5989</td>\n",
       "      <td>NaN</td>\n",
       "      <td>NaN</td>\n",
       "    </tr>\n",
       "  </tbody>\n",
       "</table>\n",
       "<p>5 rows × 24 columns</p>\n",
       "</div>"
      ],
      "text/plain": [
       "    Case Number       Date  Year        Type    Country      Area  \\\n",
       "0  2016.09.18.c  18-Sep-16  2016  Unprovoked        USA   Florida   \n",
       "1  2016.09.18.b  18-Sep-16  2016  Unprovoked        USA   Florida   \n",
       "2  2016.09.18.a  18-Sep-16  2016  Unprovoked        USA   Florida   \n",
       "3    2016.09.17  17-Sep-16  2016  Unprovoked  AUSTRALIA  Victoria   \n",
       "4    2016.09.15  16-Sep-16  2016  Unprovoked  AUSTRALIA  Victoria   \n",
       "\n",
       "                           Location Activity             Name Sex   ...  \\\n",
       "0  New Smyrna Beach, Volusia County  Surfing             male    M  ...   \n",
       "1  New Smyrna Beach, Volusia County  Surfing   Chucky Luciano    M  ...   \n",
       "2  New Smyrna Beach, Volusia County  Surfing             male    M  ...   \n",
       "3                  Thirteenth Beach  Surfing  Rory Angiolella    M  ...   \n",
       "4                       Bells Beach  Surfing             male    M  ...   \n",
       "\n",
       "    Species        Investigator or Source                        pdf  \\\n",
       "0        NaN  Orlando Sentinel, 9/19/2016       2016.09.18.c-NSB.pdf   \n",
       "1        NaN  Orlando Sentinel, 9/19/2016   2016.09.18.b-Luciano.pdf   \n",
       "2        NaN  Orlando Sentinel, 9/19/2016       2016.09.18.a-NSB.pdf   \n",
       "3        NaN           The Age, 9/18/2016  2016.09.17-Angiolella.pdf   \n",
       "4  2 m shark           The Age, 9/16/2016  2016.09.16-BellsBeach.pdf   \n",
       "\n",
       "                                        href formula  \\\n",
       "0  http://sharkattackfile.net/spreadsheets/pdf_di...   \n",
       "1  http://sharkattackfile.net/spreadsheets/pdf_di...   \n",
       "2  http://sharkattackfile.net/spreadsheets/pdf_di...   \n",
       "3  http://sharkattackfile.net/spreadsheets/pdf_di...   \n",
       "4  http://sharkattackfile.net/spreadsheets/pdf_di...   \n",
       "\n",
       "                                                href Case Number.1  \\\n",
       "0  http://sharkattackfile.net/spreadsheets/pdf_di...  2016.09.18.c   \n",
       "1  http://sharkattackfile.net/spreadsheets/pdf_di...  2016.09.18.b   \n",
       "2  http://sharkattackfile.net/spreadsheets/pdf_di...  2016.09.18.a   \n",
       "3  http://sharkattackfile.net/spreadsheets/pdf_di...    2016.09.17   \n",
       "4  http://sharkattackfile.net/spreadsheets/pdf_di...    2016.09.16   \n",
       "\n",
       "  Case Number.2 original order Unnamed: 22 Unnamed: 23  \n",
       "0  2016.09.18.c           5993         NaN         NaN  \n",
       "1  2016.09.18.b           5992         NaN         NaN  \n",
       "2  2016.09.18.a           5991         NaN         NaN  \n",
       "3    2016.09.17           5990         NaN         NaN  \n",
       "4    2016.09.15           5989         NaN         NaN  \n",
       "\n",
       "[5 rows x 24 columns]"
      ]
     },
     "metadata": {},
     "output_type": "display_data"
    },
    {
     "name": "stdout",
     "output_type": "stream",
     "text": [
      "Index(['Case Number', 'Date', 'Year', 'Type', 'Country', 'Area', 'Location',\n",
      "       'Activity', 'Name', 'Sex ', 'Age', 'Injury', 'Fatal (Y/N)', 'Time',\n",
      "       'Species ', 'Investigator or Source', 'pdf', 'href formula', 'href',\n",
      "       'Case Number.1', 'Case Number.2', 'original order', 'Unnamed: 22',\n",
      "       'Unnamed: 23'],\n",
      "      dtype='object')\n",
      "(5992, 24)\n"
     ]
    }
   ],
   "source": [
    "import pandas as pd\n",
    "import myfunctions as mf\n",
    "import drawplots as dp\n",
    "from IPython.display import display_html # Lo utilizo para representar algunas tablas de manera más visual\n",
    "\n",
    "\n",
    "df = pd.read_csv(\"./GSAF5.csv\", encoding=\"latin1\").copy()\n",
    "display(df.head())\n",
    "\n",
    "print(df.columns)\n",
    "print(df.shape)"
   ]
  },
  {
   "cell_type": "markdown",
   "metadata": {},
   "source": [
    "La base de datos contiene 5992 valores y 24 columnas. No obstante, muchos de las columnas contienen información poco útil (como las dos últimas, 'Unnamed: 22', 'Unnamed: 23') y la tabla contiene muchos valores nulos en algunas columnas."
   ]
  },
  {
   "cell_type": "code",
   "execution_count": 2,
   "metadata": {},
   "outputs": [
    {
     "name": "stdout",
     "output_type": "stream",
     "text": [
      "Case Number                  0\n",
      "Date                         0\n",
      "Year                         0\n",
      "Type                         0\n",
      "Country                     43\n",
      "Area                       402\n",
      "Location                   496\n",
      "Activity                   527\n",
      "Name                       200\n",
      "Sex                        567\n",
      "Age                       2681\n",
      "Injury                      27\n",
      "Fatal (Y/N)                 19\n",
      "Time                      3213\n",
      "Species                   2934\n",
      "Investigator or Source      15\n",
      "pdf                          0\n",
      "href formula                 1\n",
      "href                         3\n",
      "Case Number.1                0\n",
      "Case Number.2                0\n",
      "original order               0\n",
      "Unnamed: 22               5991\n",
      "Unnamed: 23               5990\n",
      "dtype: int64\n"
     ]
    }
   ],
   "source": [
    "null_cols = df.copy().isnull().sum()\n",
    "print(null_cols)"
   ]
  },
  {
   "cell_type": "markdown",
   "metadata": {},
   "source": [
    "## Mi hipótesis\n",
    "\n",
    "La hipótesis que quiero comprobar es:\n",
    "\n",
    "<p style=\"background-color: #e6e6e6;font-size: 25px;padding: 30px 0;font-weight: bold;text-align:center\">Los tiburones pequeños son más peligrosos<p>\n",
    "\n",
    "La base de datos no tiene una columna de tamaño. Sin embargo, la columna `Species` contiene en muchas filas información sobre el tamaño del tiburón que ha mordido.\n",
    "\n",
    "La columna `Species` contiene muchos valores nulos y los no nulos a lo mejor no contienen datos sobre el tamaño. Por tanto, los resultados me darán una muestra que a lo mejor no es representativa de la población. Sin embargo, se trata de un ejercicio de clase y he elegido dicha hipótesis porque:\n",
    "\n",
    "- Me parece un ejercicio interesante de regex\n",
    "- Contiene datos numéricos, a los que le puedo aplicar más fácilmente las funciones estadísticas que hemos visto en clase.\n",
    "\n",
    "\n",
    "## Limpieza del dataset\n",
    "\n",
    "Crearé una nueva columna `Sizes` donde guardaré los tamaños. Compararé el número de ataques y su mortalidad con los tamaños. Por lo tanto, la limpieza es sencilla: Para verificar mi hipótesis únicamente necesito las columnas tamaño y `Fatal (Y/N)`.\n",
    "\n",
    "Para empezar, consultado el método `.columns` se observa que las columnas `Species` y `Sex` tienen un espacio después de la palabra. Normalizamos las columnas:"
   ]
  },
  {
   "cell_type": "code",
   "execution_count": 3,
   "metadata": {},
   "outputs": [
    {
     "name": "stdout",
     "output_type": "stream",
     "text": [
      "Index(['Case Number', 'Date', 'Year', 'Type', 'Country', 'Area', 'Location',\n",
      "       'Activity', 'Name', 'Sex ', 'Age', 'Injury', 'Fatal (Y/N)', 'Time',\n",
      "       'Species ', 'Investigator or Source', 'pdf', 'href formula', 'href',\n",
      "       'Case Number.1', 'Case Number.2', 'original order', 'Unnamed: 22',\n",
      "       'Unnamed: 23'],\n",
      "      dtype='object')\n",
      "Index(['Case Number', 'Date', 'Year', 'Type', 'Country', 'Area', 'Location',\n",
      "       'Activity', 'Name', 'Sex', 'Age', 'Injury', 'Fatal (Y/N)', 'Time',\n",
      "       'Species', 'Investigator or Source', 'pdf', 'href formula', 'href',\n",
      "       'Case Number.1', 'Case Number.2', 'original order', 'Unnamed: 22',\n",
      "       'Unnamed: 23'],\n",
      "      dtype='object')\n"
     ]
    }
   ],
   "source": [
    "print(df.columns)\n",
    "clean_cols = list(map(lambda x: x.strip(), df.columns.copy()))\n",
    "df.columns = pd.DataFrame(columns=clean_cols).columns\n",
    "print(df.columns)"
   ]
  },
  {
   "cell_type": "markdown",
   "metadata": {},
   "source": [
    "Por otra parte, en la columna `Type` hay columnas con el valor *Invalid*. Consultando varios PDFs adjuntos en la columna `href`, se observa que dichos ataques son avisos falsos, mordeduras post-mortem o casos muy muy dudosos.\n",
    "\n",
    "Por tanto, decido borrar todos dichos datos."
   ]
  },
  {
   "cell_type": "code",
   "execution_count": 4,
   "metadata": {},
   "outputs": [],
   "source": [
    "df=df[df[\"Type\"] != \"Invalid\"].copy()"
   ]
  },
  {
   "cell_type": "code",
   "execution_count": 5,
   "metadata": {},
   "outputs": [
    {
     "name": "stdout",
     "output_type": "stream",
     "text": [
      "Case Number                  0\n",
      "Date                         0\n",
      "Year                         0\n",
      "Type                         0\n",
      "Country                     38\n",
      "Area                       358\n",
      "Location                   445\n",
      "Activity                   407\n",
      "Name                       147\n",
      "Sex                        494\n",
      "Age                       2383\n",
      "Injury                      20\n",
      "Fatal (Y/N)                  5\n",
      "Time                      2837\n",
      "Species                   2655\n",
      "Investigator or Source      12\n",
      "pdf                          0\n",
      "href formula                 1\n",
      "href                         2\n",
      "Case Number.1                0\n",
      "Case Number.2                0\n",
      "original order               0\n",
      "Unnamed: 22               5472\n",
      "Unnamed: 23               5472\n",
      "dtype: int64\n",
      "(5473, 24)\n"
     ]
    }
   ],
   "source": [
    "null_cols = df.copy().isnull().sum()\n",
    "print(null_cols)\n",
    "print(df.shape)"
   ]
  },
  {
   "cell_type": "markdown",
   "metadata": {},
   "source": [
    "### Limpiando duplicados\n",
    "\n",
    "Antes de limpiar las celdas, comprobaremos si nuestro df tiene duplicados. Como se observa en la siguiente operación, **no existen filas duplicadas**."
   ]
  },
  {
   "cell_type": "code",
   "execution_count": 6,
   "metadata": {},
   "outputs": [
    {
     "name": "stdout",
     "output_type": "stream",
     "text": [
      "Duplicados eliminados 0: \n"
     ]
    }
   ],
   "source": [
    "before = len(df)\n",
    "df = df.drop_duplicates()\n",
    "after = len(df)\n",
    "print('Duplicados eliminados {}: '.format(str(before - after)))"
   ]
  },
  {
   "cell_type": "markdown",
   "metadata": {},
   "source": [
    "### Limpieza de la columna `Species`\n",
    "\n",
    "Por otra parte, observo que hay algunos datos en la columna `Species` que recogen, en una sola fila, tiburones de varios tamaños. Como por ejemplo, las siguientes:\n",
    "\n",
    "> A partir de ahora, para mantener la variables `df` con los valores iniciales, todas las operaciones las haremos sobre una copia, `wdf`(*working dataframe*). Las únicas acciones sobre la df original han sido el *rename* de las columnas y la eliminación de los datos catalogados como *Inválidos*"
   ]
  },
  {
   "cell_type": "code",
   "execution_count": 7,
   "metadata": {},
   "outputs": [
    {
     "name": "stdout",
     "output_type": "stream",
     "text": [
      "(5, 24)\n"
     ]
    },
    {
     "data": {
      "text/plain": [
       "2 scalloped hammerhead sharks, 1.5 m & 1.8 m [5' & 6']        1\n",
       "4.5 m & 5 m white shark                                       1\n",
       "2 sharks, 4.5 m & 3 m                                         1\n",
       "Said to involve 2 sharks: 5.2 m & 6 m [17' & 20']             1\n",
       "Two sharks seen in vicinity: 2.4 m & 4.25 m  [8' & 14'] TL    1\n",
       "Name: Species, dtype: int64"
      ]
     },
     "execution_count": 7,
     "metadata": {},
     "output_type": "execute_result"
    }
   ],
   "source": [
    "wdf = df.copy()\n",
    "\n",
    "aux = wdf[(wdf[\"Species\"].str.contains(\"[\\d\\.]+\\sm\\s&\\s[\\d\\.]+\\sm|[\\d\\.]+\\s'\\s&\\s[\\d\\.]+\\s'\")==True)].copy()\n",
    "print(aux.shape)\n",
    "aux[\"Species\"].value_counts()"
   ]
  },
  {
   "cell_type": "markdown",
   "metadata": {},
   "source": [
    "Para poder contabilizar dichos ataques como 2, en vez de como uno solo, decido hacer los siguiente:\n",
    "\n",
    "* Añado dos filas al final de mi dataframe que son copias de la fila con dos ataques.\n",
    "* Les cambio el valor de la fila `Species` por los dos tamaños diferentes.\n",
    "* Borro de mi dataset la fila con el valor duplicado.\n",
    "\n",
    "Esto lo he hecho con una función al que le enviamos el dataframe a modificar, las columnas afectadas y una expresión regular que saca por grupos los valores que queremos duplicar."
   ]
  },
  {
   "cell_type": "code",
   "execution_count": 8,
   "metadata": {},
   "outputs": [
    {
     "name": "stdout",
     "output_type": "stream",
     "text": [
      "(5473, 25)\n"
     ]
    },
    {
     "name": "stderr",
     "output_type": "stream",
     "text": [
      "/home/alfonso/ironhack/datamad0619/module-1/pandas-project/your-code/myfunctions.py:17: SettingWithCopyWarning: \n",
      "A value is trying to be set on a copy of a slice from a DataFrame\n",
      "\n",
      "See the caveats in the documentation: http://pandas.pydata.org/pandas-docs/stable/indexing.html#indexing-view-versus-copy\n",
      "  aux_fdf[col][aux_fdf.index.max()] = i\n"
     ]
    },
    {
     "name": "stdout",
     "output_type": "stream",
     "text": [
      "(5476, 25)\n",
      "(5478, 25)\n"
     ]
    },
    {
     "data": {
      "text/html": [
       "<div>\n",
       "<style scoped>\n",
       "    .dataframe tbody tr th:only-of-type {\n",
       "        vertical-align: middle;\n",
       "    }\n",
       "\n",
       "    .dataframe tbody tr th {\n",
       "        vertical-align: top;\n",
       "    }\n",
       "\n",
       "    .dataframe thead th {\n",
       "        text-align: right;\n",
       "    }\n",
       "</style>\n",
       "<table border=\"1\" class=\"dataframe\">\n",
       "  <thead>\n",
       "    <tr style=\"text-align: right;\">\n",
       "      <th></th>\n",
       "      <th>Case Number</th>\n",
       "      <th>Date</th>\n",
       "      <th>Year</th>\n",
       "      <th>Type</th>\n",
       "      <th>Country</th>\n",
       "      <th>Area</th>\n",
       "      <th>Location</th>\n",
       "      <th>Activity</th>\n",
       "      <th>Name</th>\n",
       "      <th>Sex</th>\n",
       "      <th>...</th>\n",
       "      <th>Investigator or Source</th>\n",
       "      <th>pdf</th>\n",
       "      <th>href formula</th>\n",
       "      <th>href</th>\n",
       "      <th>Case Number.1</th>\n",
       "      <th>Case Number.2</th>\n",
       "      <th>original order</th>\n",
       "      <th>Unnamed: 22</th>\n",
       "      <th>Unnamed: 23</th>\n",
       "      <th>Sizes</th>\n",
       "    </tr>\n",
       "  </thead>\n",
       "  <tbody>\n",
       "    <tr>\n",
       "      <th>5474</th>\n",
       "      <td>1959.01.17.b</td>\n",
       "      <td>17-Jan-59</td>\n",
       "      <td>1959</td>\n",
       "      <td>Unprovoked</td>\n",
       "      <td>AUSTRALIA</td>\n",
       "      <td>Tasmania</td>\n",
       "      <td>Safety Cove</td>\n",
       "      <td>In deep water about 100 yards from his ship</td>\n",
       "      <td>Brian Derry, a Naval Rating</td>\n",
       "      <td>M</td>\n",
       "      <td>...</td>\n",
       "      <td>Odessa American, 1/19/1959; G.P. Whitley, ref ...</td>\n",
       "      <td>1959.01.17.b-Derry.pdf</td>\n",
       "      <td>http://sharkattackfile.net/spreadsheets/pdf_di...</td>\n",
       "      <td>http://sharkattackfile.net/spreadsheets/pdf_di...</td>\n",
       "      <td>1959.01.17.b</td>\n",
       "      <td>1959.01.17.b</td>\n",
       "      <td>2105</td>\n",
       "      <td>NaN</td>\n",
       "      <td>NaN</td>\n",
       "      <td>20'</td>\n",
       "    </tr>\n",
       "    <tr>\n",
       "      <th>5475</th>\n",
       "      <td>2004.12.16</td>\n",
       "      <td>16-Dec-04</td>\n",
       "      <td>2004</td>\n",
       "      <td>Unprovoked</td>\n",
       "      <td>AUSTRALIA</td>\n",
       "      <td>South Australia</td>\n",
       "      <td>West Beach, Adelaide</td>\n",
       "      <td>Scurfing (surfboard being  towed behind a boat)</td>\n",
       "      <td>Nick Peterson</td>\n",
       "      <td>M</td>\n",
       "      <td>...</td>\n",
       "      <td>P. Kemp &amp; T. Peake, GSAF</td>\n",
       "      <td>2004.12.16-Peterson-draft.pdf</td>\n",
       "      <td>http://sharkattackfile.net/spreadsheets/pdf_di...</td>\n",
       "      <td>http://sharkattackfile.net/spreadsheets/pdf_di...</td>\n",
       "      <td>2004.12.16</td>\n",
       "      <td>2004.12.16</td>\n",
       "      <td>4598</td>\n",
       "      <td>NaN</td>\n",
       "      <td>NaN</td>\n",
       "      <td>4.5 m</td>\n",
       "    </tr>\n",
       "    <tr>\n",
       "      <th>5476</th>\n",
       "      <td>2004.12.16</td>\n",
       "      <td>16-Dec-04</td>\n",
       "      <td>2004</td>\n",
       "      <td>Unprovoked</td>\n",
       "      <td>AUSTRALIA</td>\n",
       "      <td>South Australia</td>\n",
       "      <td>West Beach, Adelaide</td>\n",
       "      <td>Scurfing (surfboard being  towed behind a boat)</td>\n",
       "      <td>Nick Peterson</td>\n",
       "      <td>M</td>\n",
       "      <td>...</td>\n",
       "      <td>P. Kemp &amp; T. Peake, GSAF</td>\n",
       "      <td>2004.12.16-Peterson-draft.pdf</td>\n",
       "      <td>http://sharkattackfile.net/spreadsheets/pdf_di...</td>\n",
       "      <td>http://sharkattackfile.net/spreadsheets/pdf_di...</td>\n",
       "      <td>2004.12.16</td>\n",
       "      <td>2004.12.16</td>\n",
       "      <td>4598</td>\n",
       "      <td>NaN</td>\n",
       "      <td>NaN</td>\n",
       "      <td>5 m</td>\n",
       "    </tr>\n",
       "    <tr>\n",
       "      <th>5477</th>\n",
       "      <td>2004.07.10</td>\n",
       "      <td>10-Jul-04</td>\n",
       "      <td>2004</td>\n",
       "      <td>Unprovoked</td>\n",
       "      <td>AUSTRALIA</td>\n",
       "      <td>Western Australia</td>\n",
       "      <td>Lefthanders Beach, Margaret River</td>\n",
       "      <td>Surfing</td>\n",
       "      <td>Bradley Adrian Smith</td>\n",
       "      <td>M</td>\n",
       "      <td>...</td>\n",
       "      <td>T. Peake, GSAF</td>\n",
       "      <td>2004.07.10-BradSmith.pdf</td>\n",
       "      <td>http://sharkattackfile.net/spreadsheets/pdf_di...</td>\n",
       "      <td>http://sharkattackfile.net/spreadsheets/pdf_di...</td>\n",
       "      <td>2004.07.10</td>\n",
       "      <td>2004.07.10</td>\n",
       "      <td>4560</td>\n",
       "      <td>NaN</td>\n",
       "      <td>NaN</td>\n",
       "      <td>4.5 m</td>\n",
       "    </tr>\n",
       "    <tr>\n",
       "      <th>5478</th>\n",
       "      <td>2004.07.10</td>\n",
       "      <td>10-Jul-04</td>\n",
       "      <td>2004</td>\n",
       "      <td>Unprovoked</td>\n",
       "      <td>AUSTRALIA</td>\n",
       "      <td>Western Australia</td>\n",
       "      <td>Lefthanders Beach, Margaret River</td>\n",
       "      <td>Surfing</td>\n",
       "      <td>Bradley Adrian Smith</td>\n",
       "      <td>M</td>\n",
       "      <td>...</td>\n",
       "      <td>T. Peake, GSAF</td>\n",
       "      <td>2004.07.10-BradSmith.pdf</td>\n",
       "      <td>http://sharkattackfile.net/spreadsheets/pdf_di...</td>\n",
       "      <td>http://sharkattackfile.net/spreadsheets/pdf_di...</td>\n",
       "      <td>2004.07.10</td>\n",
       "      <td>2004.07.10</td>\n",
       "      <td>4560</td>\n",
       "      <td>NaN</td>\n",
       "      <td>NaN</td>\n",
       "      <td>3 m</td>\n",
       "    </tr>\n",
       "  </tbody>\n",
       "</table>\n",
       "<p>5 rows × 25 columns</p>\n",
       "</div>"
      ],
      "text/plain": [
       "       Case Number       Date  Year        Type    Country               Area  \\\n",
       "5474  1959.01.17.b  17-Jan-59  1959  Unprovoked  AUSTRALIA           Tasmania   \n",
       "5475    2004.12.16  16-Dec-04  2004  Unprovoked  AUSTRALIA    South Australia   \n",
       "5476    2004.12.16  16-Dec-04  2004  Unprovoked  AUSTRALIA    South Australia   \n",
       "5477    2004.07.10  10-Jul-04  2004  Unprovoked  AUSTRALIA  Western Australia   \n",
       "5478    2004.07.10  10-Jul-04  2004  Unprovoked  AUSTRALIA  Western Australia   \n",
       "\n",
       "                               Location  \\\n",
       "5474                        Safety Cove   \n",
       "5475               West Beach, Adelaide   \n",
       "5476               West Beach, Adelaide   \n",
       "5477  Lefthanders Beach, Margaret River   \n",
       "5478  Lefthanders Beach, Margaret River   \n",
       "\n",
       "                                             Activity  \\\n",
       "5474      In deep water about 100 yards from his ship   \n",
       "5475  Scurfing (surfboard being  towed behind a boat)   \n",
       "5476  Scurfing (surfboard being  towed behind a boat)   \n",
       "5477                                          Surfing   \n",
       "5478                                          Surfing   \n",
       "\n",
       "                             Name Sex  ...  \\\n",
       "5474  Brian Derry, a Naval Rating   M  ...   \n",
       "5475                Nick Peterson   M  ...   \n",
       "5476                Nick Peterson   M  ...   \n",
       "5477         Bradley Adrian Smith   M  ...   \n",
       "5478         Bradley Adrian Smith   M  ...   \n",
       "\n",
       "                                 Investigator or Source  \\\n",
       "5474  Odessa American, 1/19/1959; G.P. Whitley, ref ...   \n",
       "5475                           P. Kemp & T. Peake, GSAF   \n",
       "5476                           P. Kemp & T. Peake, GSAF   \n",
       "5477                                     T. Peake, GSAF   \n",
       "5478                                     T. Peake, GSAF   \n",
       "\n",
       "                                pdf  \\\n",
       "5474         1959.01.17.b-Derry.pdf   \n",
       "5475  2004.12.16-Peterson-draft.pdf   \n",
       "5476  2004.12.16-Peterson-draft.pdf   \n",
       "5477       2004.07.10-BradSmith.pdf   \n",
       "5478       2004.07.10-BradSmith.pdf   \n",
       "\n",
       "                                           href formula  \\\n",
       "5474  http://sharkattackfile.net/spreadsheets/pdf_di...   \n",
       "5475  http://sharkattackfile.net/spreadsheets/pdf_di...   \n",
       "5476  http://sharkattackfile.net/spreadsheets/pdf_di...   \n",
       "5477  http://sharkattackfile.net/spreadsheets/pdf_di...   \n",
       "5478  http://sharkattackfile.net/spreadsheets/pdf_di...   \n",
       "\n",
       "                                                   href Case Number.1  \\\n",
       "5474  http://sharkattackfile.net/spreadsheets/pdf_di...  1959.01.17.b   \n",
       "5475  http://sharkattackfile.net/spreadsheets/pdf_di...    2004.12.16   \n",
       "5476  http://sharkattackfile.net/spreadsheets/pdf_di...    2004.12.16   \n",
       "5477  http://sharkattackfile.net/spreadsheets/pdf_di...    2004.07.10   \n",
       "5478  http://sharkattackfile.net/spreadsheets/pdf_di...    2004.07.10   \n",
       "\n",
       "     Case Number.2 original order Unnamed: 22 Unnamed: 23  Sizes  \n",
       "5474  1959.01.17.b           2105         NaN         NaN    20'  \n",
       "5475    2004.12.16           4598         NaN         NaN  4.5 m  \n",
       "5476    2004.12.16           4598         NaN         NaN    5 m  \n",
       "5477    2004.07.10           4560         NaN         NaN  4.5 m  \n",
       "5478    2004.07.10           4560         NaN         NaN    3 m  \n",
       "\n",
       "[5 rows x 25 columns]"
      ]
     },
     "metadata": {},
     "output_type": "display_data"
    }
   ],
   "source": [
    "wdf[\"Sizes\"] = wdf[\"Species\"].copy()\n",
    "print(wdf.shape)\n",
    "\n",
    "# FUNCIÓN CON REGEX PARA PIES\n",
    "\n",
    "wdf = mf.quitarDuplicados(wdf.copy(), \"Sizes\", \"([\\d\\.]+')\\s&\\s([\\d\\.]+')\").copy()\n",
    "print(wdf.shape)\n",
    "\n",
    "# FUNCIÓN CON REGEX PARA METROS\n",
    "\n",
    "wdf = mf.quitarDuplicados(wdf.copy(), \"Sizes\", \"([\\d\\.]+\\sm)\\s&\\s([\\d\\.]+\\sm)\").copy()\n",
    "print(wdf.shape)\n",
    "display(wdf.iloc[-5:])"
   ]
  },
  {
   "cell_type": "markdown",
   "metadata": {},
   "source": [
    "Como se observa, antes de aplicar la función, el dataframe tenía 5473 filas y después 5478. Es decir hemos agregado (*10 filas nuevas - 5 filas eliminadas*) **5 filas nuevas**.\n",
    "\n",
    "Las últimas filas mostradas están duplicadas a excepción de los tamaños, que son los que estaban recogidos anteriormente, es decir:\n",
    "\n",
    "<pre>\n",
    "Two sharks seen in vicinity: 2.4 m & 4.25 m  [8' & 14'] TL\n",
    "Said to involve 2 sharks: 5.2 m & 6 m [17' & 20']\n",
    "<b style=\"color:red;\">4.5 m</b> & <b style=\"color:red;\">5 m</b> white shark\n",
    "2 scalloped hammerhead sharks, 1.5 m & 1.8 m [5' & 6']\n",
    "2 sharks, <b style=\"color:red;\">4.5 m</b> & <b style=\"color:red;\">3 m</b>\n",
    "</pre>\n",
    "\n",
    "A continuación, limpiamos la columna `Species` para quedarnos solo con los tamaños. Para ello, creo una nueva columna que llamaremos `Sizes` donde guardaremos los datos limpios.\n",
    "\n",
    "La columna la limpieza a través de una función y mediante *regex*. Además, utilizamos la librería `statistics` para utilizar la función `mean`."
   ]
  },
  {
   "cell_type": "code",
   "execution_count": 9,
   "metadata": {},
   "outputs": [
    {
     "data": {
      "text/plain": [
       "UNKNOWN    3592\n",
       "6           236\n",
       "4           223\n",
       "7           180\n",
       "10          171\n",
       "5           168\n",
       "8           164\n",
       "12          111\n",
       "3            90\n",
       "13           84\n",
       "16           75\n",
       "15           66\n",
       "9            66\n",
       "2            48\n",
       "14           48\n",
       "11           45\n",
       "20           42\n",
       "18           31\n",
       "19           12\n",
       "17            7\n",
       "22            6\n",
       "23            4\n",
       "1             2\n",
       "21            2\n",
       "25            2\n",
       "59            1\n",
       "3819          1\n",
       "Name: Sizes, dtype: int64"
      ]
     },
     "execution_count": 9,
     "metadata": {},
     "output_type": "execute_result"
    }
   ],
   "source": [
    "wdf['Sizes'].fillna(\"UNKNOWN\",inplace=True)\n",
    "wdf['Sizes'] = wdf[\"Sizes\"].apply(mf.create_sizes)\n",
    "wdf['Sizes'].value_counts()"
   ]
  },
  {
   "cell_type": "markdown",
   "metadata": {},
   "source": [
    "### Limpieza de la columna `Fatal (Y/N)`\n",
    "\n",
    "Por último, limpio la columna `Fatal (Y/N)`. Esto es bastante más sencillo, ya que únicamente tiene algunos datos con espacios delante o hay diferencias entre mayúsculas y minúsculas.\n",
    "\n",
    "Aprovechamos y guardamos las variables como `boolean`."
   ]
  },
  {
   "cell_type": "code",
   "execution_count": 10,
   "metadata": {},
   "outputs": [
    {
     "name": "stdout",
     "output_type": "stream",
     "text": [
      "N          4082\n",
      "Y          1312\n",
      "UNKNOWN      70\n",
      " N            7\n",
      "n             1\n",
      "N             1\n",
      "Name: Fatal (Y/N), dtype: int64\n",
      "False      4091\n",
      "True       1312\n",
      "UNKNOWN      75\n",
      "Name: Fatal (Y/N), dtype: int64\n"
     ]
    }
   ],
   "source": [
    "print(wdf[\"Fatal (Y/N)\"].value_counts())\n",
    "wdf['Fatal (Y/N)'].fillna(\"UNKNOWN\",inplace=True)\n",
    "wdf[\"Fatal (Y/N)\"] = wdf[\"Fatal (Y/N)\"].apply(lambda x: x.upper().strip())\n",
    "wdf[\"Fatal (Y/N)\"] = wdf[\"Fatal (Y/N)\"].apply(lambda x: True if x == \"Y\" else (\"UNKNOWN\" if x == \"UNKNOWN\"\\\n",
    "                                                                               else False))\n",
    "print(wdf[\"Fatal (Y/N)\"].value_counts())"
   ]
  },
  {
   "cell_type": "markdown",
   "metadata": {},
   "source": [
    "### Valores incorrectos\n",
    "\n",
    "Parece que hay un par de valores raros en la columna `Sizes`. En concreto 59 y 3819 pulgadas. Decido mostrarlo y buscar el error. Como se ve a continuación, se debe a que el *regex* ha considerado los mm como m. Además, uno de ellos es inválido, ya que habla de un *diente de tiburón de 18 mm* y no del tamaños del tiburón.\n",
    "\n",
    "Hay otro valor también en la tabla que contiene la cadena *mm*.\n",
    "\n",
    "Finalmente lo corrijo."
   ]
  },
  {
   "cell_type": "code",
   "execution_count": 11,
   "metadata": {},
   "outputs": [
    {
     "data": {
      "text/html": [
       "<div>\n",
       "<style scoped>\n",
       "    .dataframe tbody tr th:only-of-type {\n",
       "        vertical-align: middle;\n",
       "    }\n",
       "\n",
       "    .dataframe tbody tr th {\n",
       "        vertical-align: top;\n",
       "    }\n",
       "\n",
       "    .dataframe thead th {\n",
       "        text-align: right;\n",
       "    }\n",
       "</style>\n",
       "<table border=\"1\" class=\"dataframe\">\n",
       "  <thead>\n",
       "    <tr style=\"text-align: right;\">\n",
       "      <th></th>\n",
       "      <th>Species</th>\n",
       "      <th>Sizes</th>\n",
       "    </tr>\n",
       "  </thead>\n",
       "  <tbody>\n",
       "    <tr>\n",
       "      <th>3420</th>\n",
       "      <td>White shark, 18 mm tooth fragment  recovered f...</td>\n",
       "      <td>59</td>\n",
       "    </tr>\n",
       "  </tbody>\n",
       "</table>\n",
       "</div>"
      ],
      "text/plain": [
       "                                                Species Sizes\n",
       "3420  White shark, 18 mm tooth fragment  recovered f...    59"
      ]
     },
     "metadata": {},
     "output_type": "display_data"
    },
    {
     "data": {
      "text/html": [
       "<div>\n",
       "<style scoped>\n",
       "    .dataframe tbody tr th:only-of-type {\n",
       "        vertical-align: middle;\n",
       "    }\n",
       "\n",
       "    .dataframe tbody tr th {\n",
       "        vertical-align: top;\n",
       "    }\n",
       "\n",
       "    .dataframe thead th {\n",
       "        text-align: right;\n",
       "    }\n",
       "</style>\n",
       "<table border=\"1\" class=\"dataframe\">\n",
       "  <thead>\n",
       "    <tr style=\"text-align: right;\">\n",
       "      <th></th>\n",
       "      <th>Species</th>\n",
       "      <th>Sizes</th>\n",
       "    </tr>\n",
       "  </thead>\n",
       "  <tbody>\n",
       "    <tr>\n",
       "      <th>3430</th>\n",
       "      <td>Lemon shark, 1164 mm, immature male, identifie...</td>\n",
       "      <td>3819</td>\n",
       "    </tr>\n",
       "  </tbody>\n",
       "</table>\n",
       "</div>"
      ],
      "text/plain": [
       "                                                Species Sizes\n",
       "3430  Lemon shark, 1164 mm, immature male, identifie...  3819"
      ]
     },
     "metadata": {},
     "output_type": "display_data"
    },
    {
     "data": {
      "text/html": [
       "<div>\n",
       "<style scoped>\n",
       "    .dataframe tbody tr th:only-of-type {\n",
       "        vertical-align: middle;\n",
       "    }\n",
       "\n",
       "    .dataframe tbody tr th {\n",
       "        vertical-align: top;\n",
       "    }\n",
       "\n",
       "    .dataframe thead th {\n",
       "        text-align: right;\n",
       "    }\n",
       "</style>\n",
       "<table border=\"1\" class=\"dataframe\">\n",
       "  <thead>\n",
       "    <tr style=\"text-align: right;\">\n",
       "      <th></th>\n",
       "      <th>Species</th>\n",
       "      <th>Sizes</th>\n",
       "    </tr>\n",
       "  </thead>\n",
       "  <tbody>\n",
       "    <tr>\n",
       "      <th>3420</th>\n",
       "      <td>White shark, 18 mm tooth fragment  recovered f...</td>\n",
       "      <td>59</td>\n",
       "    </tr>\n",
       "    <tr>\n",
       "      <th>3430</th>\n",
       "      <td>Lemon shark, 1164 mm, immature male, identifie...</td>\n",
       "      <td>3819</td>\n",
       "    </tr>\n",
       "    <tr>\n",
       "      <th>5010</th>\n",
       "      <td>5 mm 3500 kg female shark</td>\n",
       "      <td>16</td>\n",
       "    </tr>\n",
       "  </tbody>\n",
       "</table>\n",
       "</div>"
      ],
      "text/plain": [
       "                                                Species Sizes\n",
       "3420  White shark, 18 mm tooth fragment  recovered f...    59\n",
       "3430  Lemon shark, 1164 mm, immature male, identifie...  3819\n",
       "5010                          5 mm 3500 kg female shark    16"
      ]
     },
     "metadata": {},
     "output_type": "display_data"
    }
   ],
   "source": [
    "aux = wdf[(wdf[\"Sizes\"]==59)].copy()\n",
    "display(aux[[\"Species\", \"Sizes\"]])\n",
    "aux = wdf[(wdf[\"Sizes\"]==3819)].copy()\n",
    "display(aux[[\"Species\", \"Sizes\"]])\n",
    "aux = wdf[((wdf[\"Species\"].str.contains(\"mm \"))==True) | ((wdf[\"Species\"].str.contains(\" mm\"))==True)].copy()\n",
    "display(aux[[\"Species\", \"Sizes\"]])"
   ]
  },
  {
   "cell_type": "code",
   "execution_count": 12,
   "metadata": {},
   "outputs": [
    {
     "name": "stderr",
     "output_type": "stream",
     "text": [
      "/usr/lib/python3/dist-packages/ipykernel_launcher.py:1: SettingWithCopyWarning: \n",
      "A value is trying to be set on a copy of a slice from a DataFrame\n",
      "\n",
      "See the caveats in the documentation: http://pandas.pydata.org/pandas-docs/stable/indexing.html#indexing-view-versus-copy\n",
      "  \"\"\"Entry point for launching an IPython kernel.\n",
      "/usr/lib/python3/dist-packages/ipykernel_launcher.py:2: SettingWithCopyWarning: \n",
      "A value is trying to be set on a copy of a slice from a DataFrame\n",
      "\n",
      "See the caveats in the documentation: http://pandas.pydata.org/pandas-docs/stable/indexing.html#indexing-view-versus-copy\n",
      "  \n",
      "/usr/lib/python3/dist-packages/ipykernel_launcher.py:3: SettingWithCopyWarning: \n",
      "A value is trying to be set on a copy of a slice from a DataFrame\n",
      "\n",
      "See the caveats in the documentation: http://pandas.pydata.org/pandas-docs/stable/indexing.html#indexing-view-versus-copy\n",
      "  This is separate from the ipykernel package so we can avoid doing imports until\n"
     ]
    }
   ],
   "source": [
    "wdf[\"Sizes\"][(wdf[\"Species\"].str.contains(\"1164 mm\"))==True] = round(1164/304.8)\n",
    "wdf[\"Sizes\"][(wdf[\"Species\"].str.contains(\"5 mm 3500 kg\"))==True] = round(5*3.281)\n",
    "wdf[\"Sizes\"][(wdf[\"Species\"].str.contains(\"18 mm tooth\"))==True] = \"UNKNOWN\""
   ]
  },
  {
   "cell_type": "code",
   "execution_count": 13,
   "metadata": {},
   "outputs": [
    {
     "data": {
      "text/html": [
       "<div>\n",
       "<style scoped>\n",
       "    .dataframe tbody tr th:only-of-type {\n",
       "        vertical-align: middle;\n",
       "    }\n",
       "\n",
       "    .dataframe tbody tr th {\n",
       "        vertical-align: top;\n",
       "    }\n",
       "\n",
       "    .dataframe thead th {\n",
       "        text-align: right;\n",
       "    }\n",
       "</style>\n",
       "<table border=\"1\" class=\"dataframe\">\n",
       "  <thead>\n",
       "    <tr style=\"text-align: right;\">\n",
       "      <th></th>\n",
       "      <th>Species</th>\n",
       "      <th>Sizes</th>\n",
       "    </tr>\n",
       "  </thead>\n",
       "  <tbody>\n",
       "    <tr>\n",
       "      <th>3420</th>\n",
       "      <td>White shark, 18 mm tooth fragment  recovered f...</td>\n",
       "      <td>UNKNOWN</td>\n",
       "    </tr>\n",
       "    <tr>\n",
       "      <th>3430</th>\n",
       "      <td>Lemon shark, 1164 mm, immature male, identifie...</td>\n",
       "      <td>4</td>\n",
       "    </tr>\n",
       "    <tr>\n",
       "      <th>5010</th>\n",
       "      <td>5 mm 3500 kg female shark</td>\n",
       "      <td>16</td>\n",
       "    </tr>\n",
       "  </tbody>\n",
       "</table>\n",
       "</div>"
      ],
      "text/plain": [
       "                                                Species    Sizes\n",
       "3420  White shark, 18 mm tooth fragment  recovered f...  UNKNOWN\n",
       "3430  Lemon shark, 1164 mm, immature male, identifie...        4\n",
       "5010                          5 mm 3500 kg female shark       16"
      ]
     },
     "metadata": {},
     "output_type": "display_data"
    }
   ],
   "source": [
    "aux = wdf[((wdf[\"Species\"].str.contains(\"mm \"))==True) | ((wdf[\"Species\"].str.contains(\" mm\"))==True)]\n",
    "display(aux[[\"Species\", \"Sizes\"]])"
   ]
  },
  {
   "cell_type": "markdown",
   "metadata": {},
   "source": [
    "### Limpieza de tipos\n",
    "\n",
    "Nuestras columnas tienen los valores \"UNKNOWN\", así que, aunque guardemos enteros y booleanos, deben ser strings."
   ]
  },
  {
   "cell_type": "code",
   "execution_count": 14,
   "metadata": {},
   "outputs": [
    {
     "name": "stdout",
     "output_type": "stream",
     "text": [
      "object object\n"
     ]
    }
   ],
   "source": [
    "print(wdf[\"Sizes\"].dtype, wdf[\"Fatal (Y/N)\"].dtype )"
   ]
  },
  {
   "cell_type": "markdown",
   "metadata": {},
   "source": [
    "### Valores extremos y *outliers*\n",
    "\n",
    "Calculamos los valores extremos de nuestra columna numérica `Sizes`. Trabajamos con una df auxiliar donde eliminamos los valores \"UNKNOWN\" y transformamos correctamente los tipos."
   ]
  },
  {
   "cell_type": "code",
   "execution_count": 15,
   "metadata": {},
   "outputs": [
    {
     "data": {
      "text/html": [
       "<div>\n",
       "<style scoped>\n",
       "    .dataframe tbody tr th:only-of-type {\n",
       "        vertical-align: middle;\n",
       "    }\n",
       "\n",
       "    .dataframe tbody tr th {\n",
       "        vertical-align: top;\n",
       "    }\n",
       "\n",
       "    .dataframe thead th {\n",
       "        text-align: right;\n",
       "    }\n",
       "</style>\n",
       "<table border=\"1\" class=\"dataframe\">\n",
       "  <thead>\n",
       "    <tr style=\"text-align: right;\">\n",
       "      <th></th>\n",
       "      <th>count</th>\n",
       "      <th>mean</th>\n",
       "      <th>std</th>\n",
       "      <th>min</th>\n",
       "      <th>25%</th>\n",
       "      <th>50%</th>\n",
       "      <th>75%</th>\n",
       "      <th>max</th>\n",
       "      <th>IQR</th>\n",
       "    </tr>\n",
       "  </thead>\n",
       "  <tbody>\n",
       "    <tr>\n",
       "      <th>Sizes</th>\n",
       "      <td>1874.0</td>\n",
       "      <td>8.59445</td>\n",
       "      <td>4.498192</td>\n",
       "      <td>1.0</td>\n",
       "      <td>5.0</td>\n",
       "      <td>7.0</td>\n",
       "      <td>12.0</td>\n",
       "      <td>25.0</td>\n",
       "      <td>7.0</td>\n",
       "    </tr>\n",
       "  </tbody>\n",
       "</table>\n",
       "</div>"
      ],
      "text/plain": [
       "        count     mean       std  min  25%  50%   75%   max  IQR\n",
       "Sizes  1874.0  8.59445  4.498192  1.0  5.0  7.0  12.0  25.0  7.0"
      ]
     },
     "metadata": {},
     "output_type": "display_data"
    },
    {
     "name": "stderr",
     "output_type": "stream",
     "text": [
      "/home/alfonso/.local/lib/python3.7/site-packages/pandas/core/frame.py:6692: FutureWarning: Sorting because non-concatenation axis is not aligned. A future version\n",
      "of pandas will change to not sort by default.\n",
      "\n",
      "To accept the future behavior, pass 'sort=False'.\n",
      "\n",
      "To retain the current behavior and silence the warning, pass 'sort=True'.\n",
      "\n",
      "  sort=sort)\n"
     ]
    },
    {
     "data": {
      "text/html": [
       "<div>\n",
       "<style scoped>\n",
       "    .dataframe tbody tr th:only-of-type {\n",
       "        vertical-align: middle;\n",
       "    }\n",
       "\n",
       "    .dataframe tbody tr th {\n",
       "        vertical-align: top;\n",
       "    }\n",
       "\n",
       "    .dataframe thead th {\n",
       "        text-align: right;\n",
       "    }\n",
       "</style>\n",
       "<table border=\"1\" class=\"dataframe\">\n",
       "  <thead>\n",
       "    <tr style=\"text-align: right;\">\n",
       "      <th></th>\n",
       "      <th>Fatal (Y/N)</th>\n",
       "      <th>Outlier</th>\n",
       "      <th>Sizes</th>\n",
       "    </tr>\n",
       "  </thead>\n",
       "  <tbody>\n",
       "    <tr>\n",
       "      <th>551</th>\n",
       "      <td>False</td>\n",
       "      <td>Sizes</td>\n",
       "      <td>23</td>\n",
       "    </tr>\n",
       "    <tr>\n",
       "      <th>1722</th>\n",
       "      <td>False</td>\n",
       "      <td>Sizes</td>\n",
       "      <td>23</td>\n",
       "    </tr>\n",
       "    <tr>\n",
       "      <th>2551</th>\n",
       "      <td>True</td>\n",
       "      <td>Sizes</td>\n",
       "      <td>23</td>\n",
       "    </tr>\n",
       "    <tr>\n",
       "      <th>3084</th>\n",
       "      <td>False</td>\n",
       "      <td>Sizes</td>\n",
       "      <td>25</td>\n",
       "    </tr>\n",
       "    <tr>\n",
       "      <th>5276</th>\n",
       "      <td>True</td>\n",
       "      <td>Sizes</td>\n",
       "      <td>25</td>\n",
       "    </tr>\n",
       "  </tbody>\n",
       "</table>\n",
       "</div>"
      ],
      "text/plain": [
       "     Fatal (Y/N) Outlier Sizes\n",
       "551        False   Sizes    23\n",
       "1722       False   Sizes    23\n",
       "2551        True   Sizes    23\n",
       "3084       False   Sizes    25\n",
       "5276        True   Sizes    25"
      ]
     },
     "metadata": {},
     "output_type": "display_data"
    }
   ],
   "source": [
    "aux_fatal = wdf[[\"Sizes\", \"Fatal (Y/N)\"]][(wdf[\"Sizes\"] != \"UNKNOWN\") & (wdf[\"Fatal (Y/N)\"] != \"UNKNOWN\")\\\n",
    "                                          & (wdf[\"Sizes\"].isnull() != True)].copy()\n",
    "\n",
    "aux_fatal[\"Sizes\"]=aux_fatal[\"Sizes\"].apply(int)\n",
    "\n",
    "stats = aux_fatal.describe().transpose()\n",
    "stats['IQR'] = stats['75%'] - stats['25%']\n",
    "display(stats)\n",
    "\n",
    "outliers = pd.DataFrame(columns=aux_fatal.columns)\n",
    "\n",
    "for col in stats.index:\n",
    "    iqr = stats.at[col,'IQR']\n",
    "    cutoff = iqr * 1.5\n",
    "    lower = stats.at[col,'25%'] - cutoff\n",
    "    upper = stats.at[col,'75%'] + cutoff\n",
    "    results = aux_fatal[(aux_fatal[col] < lower) | \n",
    "                   (aux_fatal[col] > upper)].copy()\n",
    "    results['Outlier'] = col\n",
    "    outliers = outliers.append(results)\n",
    "    \n",
    "display(outliers)"
   ]
  },
  {
   "cell_type": "markdown",
   "metadata": {},
   "source": [
    "El resultado es que los tiburones de entre 23 y 25 pies (7-7.5 metros) son *outliers*.\n",
    "\n",
    "No soy experto en tiburones, pero no me extrañaría que existieran algunos ejemplares así. Decido dejarlos tras comprobar que no son valores erróneos."
   ]
  },
  {
   "cell_type": "code",
   "execution_count": 16,
   "metadata": {},
   "outputs": [
    {
     "data": {
      "text/html": [
       "<div>\n",
       "<style scoped>\n",
       "    .dataframe tbody tr th:only-of-type {\n",
       "        vertical-align: middle;\n",
       "    }\n",
       "\n",
       "    .dataframe tbody tr th {\n",
       "        vertical-align: top;\n",
       "    }\n",
       "\n",
       "    .dataframe thead th {\n",
       "        text-align: right;\n",
       "    }\n",
       "</style>\n",
       "<table border=\"1\" class=\"dataframe\">\n",
       "  <thead>\n",
       "    <tr style=\"text-align: right;\">\n",
       "      <th></th>\n",
       "      <th>Sizes</th>\n",
       "      <th>Species</th>\n",
       "    </tr>\n",
       "  </thead>\n",
       "  <tbody>\n",
       "    <tr>\n",
       "      <th>551</th>\n",
       "      <td>23</td>\n",
       "      <td>White shark, 7m</td>\n",
       "    </tr>\n",
       "    <tr>\n",
       "      <th>1722</th>\n",
       "      <td>23</td>\n",
       "      <td>Said to involve a 7 m [23'] white shark</td>\n",
       "    </tr>\n",
       "    <tr>\n",
       "      <th>2551</th>\n",
       "      <td>23</td>\n",
       "      <td>7 m [23'] white shark</td>\n",
       "    </tr>\n",
       "    <tr>\n",
       "      <th>3084</th>\n",
       "      <td>25</td>\n",
       "      <td>Alleged to involve a White shark, 7.6 m [25']</td>\n",
       "    </tr>\n",
       "    <tr>\n",
       "      <th>5276</th>\n",
       "      <td>25</td>\n",
       "      <td>Said to be a 7.6 m [25'] shark</td>\n",
       "    </tr>\n",
       "  </tbody>\n",
       "</table>\n",
       "</div>"
      ],
      "text/plain": [
       "     Sizes                                         Species\n",
       "551     23                                 White shark, 7m\n",
       "1722    23         Said to involve a 7 m [23'] white shark\n",
       "2551    23                           7 m [23'] white shark\n",
       "3084    25  Alleged to involve a White shark, 7.6 m [25'] \n",
       "5276    25                  Said to be a 7.6 m [25'] shark"
      ]
     },
     "metadata": {},
     "output_type": "display_data"
    }
   ],
   "source": [
    "aux = wdf[(wdf[\"Sizes\"] != \"UNKNOWN\") & (wdf[\"Fatal (Y/N)\"] != \"UNKNOWN\") & (wdf[\"Sizes\"].isnull() != True)].copy()\n",
    "display(aux[[\"Sizes\", \"Species\"]][aux[\"Sizes\"] >= 23])"
   ]
  },
  {
   "cell_type": "code",
   "execution_count": 17,
   "metadata": {},
   "outputs": [],
   "source": [
    "aux_fatal.reset_index(inplace=True)"
   ]
  },
  {
   "cell_type": "markdown",
   "metadata": {},
   "source": [
    "## Comprobación de hipótesis\n",
    "\n",
    "Representamos el número de ataques de tiburones por tamaños, observando claramente que el mayor número de ataques es ocasionado por tiburones pequeños."
   ]
  },
  {
   "cell_type": "code",
   "execution_count": 18,
   "metadata": {},
   "outputs": [
    {
     "data": {
      "text/plain": [
       "<matplotlib.axes._subplots.AxesSubplot at 0x7f6126803f28>"
      ]
     },
     "execution_count": 18,
     "metadata": {},
     "output_type": "execute_result"
    },
    {
     "data": {
      "image/png": "[encoded data removed]",
      "text/plain": [
       "<Figure size 432x288 with 1 Axes>"
      ]
     },
     "metadata": {
      "needs_background": "light"
     },
     "output_type": "display_data"
    }
   ],
   "source": [
    "aux_fatal.groupby(\"Sizes\").count()[\"index\"].plot.bar(rot=0)"
   ]
  },
  {
   "cell_type": "markdown",
   "metadata": {},
   "source": [
    "A continuación representamos la mortalidad de los ataques en función de su tamaño."
   ]
  },
  {
   "cell_type": "code",
   "execution_count": 19,
   "metadata": {},
   "outputs": [
    {
     "data": {
      "text/plain": [
       "<matplotlib.axes._subplots.AxesSubplot at 0x7f6126683400>"
      ]
     },
     "execution_count": 19,
     "metadata": {},
     "output_type": "execute_result"
    },
    {
     "data": {
      "image/png": "[encoded data removed]",
      "text/plain": [
       "<Figure size 432x288 with 1 Axes>"
      ]
     },
     "metadata": {
      "needs_background": "light"
     },
     "output_type": "display_data"
    }
   ],
   "source": [
    "aux_yes = aux_fatal[aux_fatal[\"Fatal (Y/N)\"]==True].fillna(0).copy()\n",
    "\n",
    "#aux_yes.rename(columns={\"Fatal (Y/N)\": \"Fatal\"}, inplace = True)\n",
    "aux_yes.groupby(\"Sizes\").count()[\"index\"].plot.bar(rot=0)"
   ]
  },
  {
   "cell_type": "markdown",
   "metadata": {},
   "source": [
    "Esta gráfica parece tener una similitud con una gráfica simétrica, lo que puede indicar que son más mortales los tiburones de tamaño medio. Sin embargo, el gráfico no parece muy representativo, por lo que decido calcular y representar **el porcentaje de mortalidad para cada tamaño de tiburón**."
   ]
  },
  {
   "cell_type": "code",
   "execution_count": 20,
   "metadata": {},
   "outputs": [
    {
     "data": {
      "text/html": [
       "<style  type=\"text/css\" >\n",
       "</style><table id=\"T_56ec494c_9600_11e9_b435_d8f2cace35b0\" style='display:inline'><caption>Fatal</caption><thead>    <tr>        <th class=\"blank level0\" ></th>        <th class=\"col_heading level0 col0\" >index</th>        <th class=\"col_heading level0 col1\" >Fatal (Y/N)</th>    </tr>    <tr>        <th class=\"index_name level0\" >Sizes</th>        <th class=\"blank\" ></th>        <th class=\"blank\" ></th>    </tr></thead><tbody>\n",
       "                <tr>\n",
       "                        <th id=\"T_56ec494c_9600_11e9_b435_d8f2cace35b0level0_row0\" class=\"row_heading level0 row0\" >2</th>\n",
       "                        <td id=\"T_56ec494c_9600_11e9_b435_d8f2cace35b0row0_col0\" class=\"data row0 col0\" >1</td>\n",
       "                        <td id=\"T_56ec494c_9600_11e9_b435_d8f2cace35b0row0_col1\" class=\"data row0 col1\" >1</td>\n",
       "            </tr>\n",
       "            <tr>\n",
       "                        <th id=\"T_56ec494c_9600_11e9_b435_d8f2cace35b0level0_row1\" class=\"row_heading level0 row1\" >4</th>\n",
       "                        <td id=\"T_56ec494c_9600_11e9_b435_d8f2cace35b0row1_col0\" class=\"data row1 col0\" >2</td>\n",
       "                        <td id=\"T_56ec494c_9600_11e9_b435_d8f2cace35b0row1_col1\" class=\"data row1 col1\" >2</td>\n",
       "            </tr>\n",
       "            <tr>\n",
       "                        <th id=\"T_56ec494c_9600_11e9_b435_d8f2cace35b0level0_row2\" class=\"row_heading level0 row2\" >5</th>\n",
       "                        <td id=\"T_56ec494c_9600_11e9_b435_d8f2cace35b0row2_col0\" class=\"data row2 col0\" >2</td>\n",
       "                        <td id=\"T_56ec494c_9600_11e9_b435_d8f2cace35b0row2_col1\" class=\"data row2 col1\" >2</td>\n",
       "            </tr>\n",
       "            <tr>\n",
       "                        <th id=\"T_56ec494c_9600_11e9_b435_d8f2cace35b0level0_row3\" class=\"row_heading level0 row3\" >6</th>\n",
       "                        <td id=\"T_56ec494c_9600_11e9_b435_d8f2cace35b0row3_col0\" class=\"data row3 col0\" >15</td>\n",
       "                        <td id=\"T_56ec494c_9600_11e9_b435_d8f2cace35b0row3_col1\" class=\"data row3 col1\" >15</td>\n",
       "            </tr>\n",
       "            <tr>\n",
       "                        <th id=\"T_56ec494c_9600_11e9_b435_d8f2cace35b0level0_row4\" class=\"row_heading level0 row4\" >7</th>\n",
       "                        <td id=\"T_56ec494c_9600_11e9_b435_d8f2cace35b0row4_col0\" class=\"data row4 col0\" >12</td>\n",
       "                        <td id=\"T_56ec494c_9600_11e9_b435_d8f2cace35b0row4_col1\" class=\"data row4 col1\" >12</td>\n",
       "            </tr>\n",
       "            <tr>\n",
       "                        <th id=\"T_56ec494c_9600_11e9_b435_d8f2cace35b0level0_row5\" class=\"row_heading level0 row5\" >8</th>\n",
       "                        <td id=\"T_56ec494c_9600_11e9_b435_d8f2cace35b0row5_col0\" class=\"data row5 col0\" >25</td>\n",
       "                        <td id=\"T_56ec494c_9600_11e9_b435_d8f2cace35b0row5_col1\" class=\"data row5 col1\" >25</td>\n",
       "            </tr>\n",
       "            <tr>\n",
       "                        <th id=\"T_56ec494c_9600_11e9_b435_d8f2cace35b0level0_row6\" class=\"row_heading level0 row6\" >9</th>\n",
       "                        <td id=\"T_56ec494c_9600_11e9_b435_d8f2cace35b0row6_col0\" class=\"data row6 col0\" >9</td>\n",
       "                        <td id=\"T_56ec494c_9600_11e9_b435_d8f2cace35b0row6_col1\" class=\"data row6 col1\" >9</td>\n",
       "            </tr>\n",
       "            <tr>\n",
       "                        <th id=\"T_56ec494c_9600_11e9_b435_d8f2cace35b0level0_row7\" class=\"row_heading level0 row7\" >10</th>\n",
       "                        <td id=\"T_56ec494c_9600_11e9_b435_d8f2cace35b0row7_col0\" class=\"data row7 col0\" >31</td>\n",
       "                        <td id=\"T_56ec494c_9600_11e9_b435_d8f2cace35b0row7_col1\" class=\"data row7 col1\" >31</td>\n",
       "            </tr>\n",
       "            <tr>\n",
       "                        <th id=\"T_56ec494c_9600_11e9_b435_d8f2cace35b0level0_row8\" class=\"row_heading level0 row8\" >11</th>\n",
       "                        <td id=\"T_56ec494c_9600_11e9_b435_d8f2cace35b0row8_col0\" class=\"data row8 col0\" >10</td>\n",
       "                        <td id=\"T_56ec494c_9600_11e9_b435_d8f2cace35b0row8_col1\" class=\"data row8 col1\" >10</td>\n",
       "            </tr>\n",
       "            <tr>\n",
       "                        <th id=\"T_56ec494c_9600_11e9_b435_d8f2cace35b0level0_row9\" class=\"row_heading level0 row9\" >12</th>\n",
       "                        <td id=\"T_56ec494c_9600_11e9_b435_d8f2cace35b0row9_col0\" class=\"data row9 col0\" >29</td>\n",
       "                        <td id=\"T_56ec494c_9600_11e9_b435_d8f2cace35b0row9_col1\" class=\"data row9 col1\" >29</td>\n",
       "            </tr>\n",
       "            <tr>\n",
       "                        <th id=\"T_56ec494c_9600_11e9_b435_d8f2cace35b0level0_row10\" class=\"row_heading level0 row10\" >13</th>\n",
       "                        <td id=\"T_56ec494c_9600_11e9_b435_d8f2cace35b0row10_col0\" class=\"data row10 col0\" >15</td>\n",
       "                        <td id=\"T_56ec494c_9600_11e9_b435_d8f2cace35b0row10_col1\" class=\"data row10 col1\" >15</td>\n",
       "            </tr>\n",
       "            <tr>\n",
       "                        <th id=\"T_56ec494c_9600_11e9_b435_d8f2cace35b0level0_row11\" class=\"row_heading level0 row11\" >14</th>\n",
       "                        <td id=\"T_56ec494c_9600_11e9_b435_d8f2cace35b0row11_col0\" class=\"data row11 col0\" >13</td>\n",
       "                        <td id=\"T_56ec494c_9600_11e9_b435_d8f2cace35b0row11_col1\" class=\"data row11 col1\" >13</td>\n",
       "            </tr>\n",
       "            <tr>\n",
       "                        <th id=\"T_56ec494c_9600_11e9_b435_d8f2cace35b0level0_row12\" class=\"row_heading level0 row12\" >15</th>\n",
       "                        <td id=\"T_56ec494c_9600_11e9_b435_d8f2cace35b0row12_col0\" class=\"data row12 col0\" >11</td>\n",
       "                        <td id=\"T_56ec494c_9600_11e9_b435_d8f2cace35b0row12_col1\" class=\"data row12 col1\" >11</td>\n",
       "            </tr>\n",
       "            <tr>\n",
       "                        <th id=\"T_56ec494c_9600_11e9_b435_d8f2cace35b0level0_row13\" class=\"row_heading level0 row13\" >16</th>\n",
       "                        <td id=\"T_56ec494c_9600_11e9_b435_d8f2cace35b0row13_col0\" class=\"data row13 col0\" >25</td>\n",
       "                        <td id=\"T_56ec494c_9600_11e9_b435_d8f2cace35b0row13_col1\" class=\"data row13 col1\" >25</td>\n",
       "            </tr>\n",
       "            <tr>\n",
       "                        <th id=\"T_56ec494c_9600_11e9_b435_d8f2cace35b0level0_row14\" class=\"row_heading level0 row14\" >17</th>\n",
       "                        <td id=\"T_56ec494c_9600_11e9_b435_d8f2cace35b0row14_col0\" class=\"data row14 col0\" >4</td>\n",
       "                        <td id=\"T_56ec494c_9600_11e9_b435_d8f2cace35b0row14_col1\" class=\"data row14 col1\" >4</td>\n",
       "            </tr>\n",
       "            <tr>\n",
       "                        <th id=\"T_56ec494c_9600_11e9_b435_d8f2cace35b0level0_row15\" class=\"row_heading level0 row15\" >18</th>\n",
       "                        <td id=\"T_56ec494c_9600_11e9_b435_d8f2cace35b0row15_col0\" class=\"data row15 col0\" >4</td>\n",
       "                        <td id=\"T_56ec494c_9600_11e9_b435_d8f2cace35b0row15_col1\" class=\"data row15 col1\" >4</td>\n",
       "            </tr>\n",
       "            <tr>\n",
       "                        <th id=\"T_56ec494c_9600_11e9_b435_d8f2cace35b0level0_row16\" class=\"row_heading level0 row16\" >20</th>\n",
       "                        <td id=\"T_56ec494c_9600_11e9_b435_d8f2cace35b0row16_col0\" class=\"data row16 col0\" >13</td>\n",
       "                        <td id=\"T_56ec494c_9600_11e9_b435_d8f2cace35b0row16_col1\" class=\"data row16 col1\" >13</td>\n",
       "            </tr>\n",
       "            <tr>\n",
       "                        <th id=\"T_56ec494c_9600_11e9_b435_d8f2cace35b0level0_row17\" class=\"row_heading level0 row17\" >21</th>\n",
       "                        <td id=\"T_56ec494c_9600_11e9_b435_d8f2cace35b0row17_col0\" class=\"data row17 col0\" >2</td>\n",
       "                        <td id=\"T_56ec494c_9600_11e9_b435_d8f2cace35b0row17_col1\" class=\"data row17 col1\" >2</td>\n",
       "            </tr>\n",
       "            <tr>\n",
       "                        <th id=\"T_56ec494c_9600_11e9_b435_d8f2cace35b0level0_row18\" class=\"row_heading level0 row18\" >22</th>\n",
       "                        <td id=\"T_56ec494c_9600_11e9_b435_d8f2cace35b0row18_col0\" class=\"data row18 col0\" >4</td>\n",
       "                        <td id=\"T_56ec494c_9600_11e9_b435_d8f2cace35b0row18_col1\" class=\"data row18 col1\" >4</td>\n",
       "            </tr>\n",
       "            <tr>\n",
       "                        <th id=\"T_56ec494c_9600_11e9_b435_d8f2cace35b0level0_row19\" class=\"row_heading level0 row19\" >23</th>\n",
       "                        <td id=\"T_56ec494c_9600_11e9_b435_d8f2cace35b0row19_col0\" class=\"data row19 col0\" >1</td>\n",
       "                        <td id=\"T_56ec494c_9600_11e9_b435_d8f2cace35b0row19_col1\" class=\"data row19 col1\" >1</td>\n",
       "            </tr>\n",
       "            <tr>\n",
       "                        <th id=\"T_56ec494c_9600_11e9_b435_d8f2cace35b0level0_row20\" class=\"row_heading level0 row20\" >25</th>\n",
       "                        <td id=\"T_56ec494c_9600_11e9_b435_d8f2cace35b0row20_col0\" class=\"data row20 col0\" >1</td>\n",
       "                        <td id=\"T_56ec494c_9600_11e9_b435_d8f2cace35b0row20_col1\" class=\"data row20 col1\" >1</td>\n",
       "            </tr>\n",
       "    </tbody></table><style  type=\"text/css\" >\n",
       "</style><table id=\"T_56ec494d_9600_11e9_b435_d8f2cace35b0\" style='display:inline;margin-left:60px'><caption>Not Fatal</caption><thead>    <tr>        <th class=\"blank level0\" ></th>        <th class=\"col_heading level0 col0\" >index</th>        <th class=\"col_heading level0 col1\" >Fatal (Y/N)</th>    </tr>    <tr>        <th class=\"index_name level0\" >Sizes</th>        <th class=\"blank\" ></th>        <th class=\"blank\" ></th>    </tr></thead><tbody>\n",
       "                <tr>\n",
       "                        <th id=\"T_56ec494d_9600_11e9_b435_d8f2cace35b0level0_row0\" class=\"row_heading level0 row0\" >1</th>\n",
       "                        <td id=\"T_56ec494d_9600_11e9_b435_d8f2cace35b0row0_col0\" class=\"data row0 col0\" >2</td>\n",
       "                        <td id=\"T_56ec494d_9600_11e9_b435_d8f2cace35b0row0_col1\" class=\"data row0 col1\" >2</td>\n",
       "            </tr>\n",
       "            <tr>\n",
       "                        <th id=\"T_56ec494d_9600_11e9_b435_d8f2cace35b0level0_row1\" class=\"row_heading level0 row1\" >2</th>\n",
       "                        <td id=\"T_56ec494d_9600_11e9_b435_d8f2cace35b0row1_col0\" class=\"data row1 col0\" >47</td>\n",
       "                        <td id=\"T_56ec494d_9600_11e9_b435_d8f2cace35b0row1_col1\" class=\"data row1 col1\" >47</td>\n",
       "            </tr>\n",
       "            <tr>\n",
       "                        <th id=\"T_56ec494d_9600_11e9_b435_d8f2cace35b0level0_row2\" class=\"row_heading level0 row2\" >3</th>\n",
       "                        <td id=\"T_56ec494d_9600_11e9_b435_d8f2cace35b0row2_col0\" class=\"data row2 col0\" >90</td>\n",
       "                        <td id=\"T_56ec494d_9600_11e9_b435_d8f2cace35b0row2_col1\" class=\"data row2 col1\" >90</td>\n",
       "            </tr>\n",
       "            <tr>\n",
       "                        <th id=\"T_56ec494d_9600_11e9_b435_d8f2cace35b0level0_row3\" class=\"row_heading level0 row3\" >4</th>\n",
       "                        <td id=\"T_56ec494d_9600_11e9_b435_d8f2cace35b0row3_col0\" class=\"data row3 col0\" >222</td>\n",
       "                        <td id=\"T_56ec494d_9600_11e9_b435_d8f2cace35b0row3_col1\" class=\"data row3 col1\" >222</td>\n",
       "            </tr>\n",
       "            <tr>\n",
       "                        <th id=\"T_56ec494d_9600_11e9_b435_d8f2cace35b0level0_row4\" class=\"row_heading level0 row4\" >5</th>\n",
       "                        <td id=\"T_56ec494d_9600_11e9_b435_d8f2cace35b0row4_col0\" class=\"data row4 col0\" >165</td>\n",
       "                        <td id=\"T_56ec494d_9600_11e9_b435_d8f2cace35b0row4_col1\" class=\"data row4 col1\" >165</td>\n",
       "            </tr>\n",
       "            <tr>\n",
       "                        <th id=\"T_56ec494d_9600_11e9_b435_d8f2cace35b0level0_row5\" class=\"row_heading level0 row5\" >6</th>\n",
       "                        <td id=\"T_56ec494d_9600_11e9_b435_d8f2cace35b0row5_col0\" class=\"data row5 col0\" >221</td>\n",
       "                        <td id=\"T_56ec494d_9600_11e9_b435_d8f2cace35b0row5_col1\" class=\"data row5 col1\" >221</td>\n",
       "            </tr>\n",
       "            <tr>\n",
       "                        <th id=\"T_56ec494d_9600_11e9_b435_d8f2cace35b0level0_row6\" class=\"row_heading level0 row6\" >7</th>\n",
       "                        <td id=\"T_56ec494d_9600_11e9_b435_d8f2cace35b0row6_col0\" class=\"data row6 col0\" >166</td>\n",
       "                        <td id=\"T_56ec494d_9600_11e9_b435_d8f2cace35b0row6_col1\" class=\"data row6 col1\" >166</td>\n",
       "            </tr>\n",
       "            <tr>\n",
       "                        <th id=\"T_56ec494d_9600_11e9_b435_d8f2cace35b0level0_row7\" class=\"row_heading level0 row7\" >8</th>\n",
       "                        <td id=\"T_56ec494d_9600_11e9_b435_d8f2cace35b0row7_col0\" class=\"data row7 col0\" >137</td>\n",
       "                        <td id=\"T_56ec494d_9600_11e9_b435_d8f2cace35b0row7_col1\" class=\"data row7 col1\" >137</td>\n",
       "            </tr>\n",
       "            <tr>\n",
       "                        <th id=\"T_56ec494d_9600_11e9_b435_d8f2cace35b0level0_row8\" class=\"row_heading level0 row8\" >9</th>\n",
       "                        <td id=\"T_56ec494d_9600_11e9_b435_d8f2cace35b0row8_col0\" class=\"data row8 col0\" >57</td>\n",
       "                        <td id=\"T_56ec494d_9600_11e9_b435_d8f2cace35b0row8_col1\" class=\"data row8 col1\" >57</td>\n",
       "            </tr>\n",
       "            <tr>\n",
       "                        <th id=\"T_56ec494d_9600_11e9_b435_d8f2cace35b0level0_row9\" class=\"row_heading level0 row9\" >10</th>\n",
       "                        <td id=\"T_56ec494d_9600_11e9_b435_d8f2cace35b0row9_col0\" class=\"data row9 col0\" >140</td>\n",
       "                        <td id=\"T_56ec494d_9600_11e9_b435_d8f2cace35b0row9_col1\" class=\"data row9 col1\" >140</td>\n",
       "            </tr>\n",
       "            <tr>\n",
       "                        <th id=\"T_56ec494d_9600_11e9_b435_d8f2cace35b0level0_row10\" class=\"row_heading level0 row10\" >11</th>\n",
       "                        <td id=\"T_56ec494d_9600_11e9_b435_d8f2cace35b0row10_col0\" class=\"data row10 col0\" >35</td>\n",
       "                        <td id=\"T_56ec494d_9600_11e9_b435_d8f2cace35b0row10_col1\" class=\"data row10 col1\" >35</td>\n",
       "            </tr>\n",
       "            <tr>\n",
       "                        <th id=\"T_56ec494d_9600_11e9_b435_d8f2cace35b0level0_row11\" class=\"row_heading level0 row11\" >12</th>\n",
       "                        <td id=\"T_56ec494d_9600_11e9_b435_d8f2cace35b0row11_col0\" class=\"data row11 col0\" >82</td>\n",
       "                        <td id=\"T_56ec494d_9600_11e9_b435_d8f2cace35b0row11_col1\" class=\"data row11 col1\" >82</td>\n",
       "            </tr>\n",
       "            <tr>\n",
       "                        <th id=\"T_56ec494d_9600_11e9_b435_d8f2cace35b0level0_row12\" class=\"row_heading level0 row12\" >13</th>\n",
       "                        <td id=\"T_56ec494d_9600_11e9_b435_d8f2cace35b0row12_col0\" class=\"data row12 col0\" >69</td>\n",
       "                        <td id=\"T_56ec494d_9600_11e9_b435_d8f2cace35b0row12_col1\" class=\"data row12 col1\" >69</td>\n",
       "            </tr>\n",
       "            <tr>\n",
       "                        <th id=\"T_56ec494d_9600_11e9_b435_d8f2cace35b0level0_row13\" class=\"row_heading level0 row13\" >14</th>\n",
       "                        <td id=\"T_56ec494d_9600_11e9_b435_d8f2cace35b0row13_col0\" class=\"data row13 col0\" >35</td>\n",
       "                        <td id=\"T_56ec494d_9600_11e9_b435_d8f2cace35b0row13_col1\" class=\"data row13 col1\" >35</td>\n",
       "            </tr>\n",
       "            <tr>\n",
       "                        <th id=\"T_56ec494d_9600_11e9_b435_d8f2cace35b0level0_row14\" class=\"row_heading level0 row14\" >15</th>\n",
       "                        <td id=\"T_56ec494d_9600_11e9_b435_d8f2cace35b0row14_col0\" class=\"data row14 col0\" >55</td>\n",
       "                        <td id=\"T_56ec494d_9600_11e9_b435_d8f2cace35b0row14_col1\" class=\"data row14 col1\" >55</td>\n",
       "            </tr>\n",
       "            <tr>\n",
       "                        <th id=\"T_56ec494d_9600_11e9_b435_d8f2cace35b0level0_row15\" class=\"row_heading level0 row15\" >16</th>\n",
       "                        <td id=\"T_56ec494d_9600_11e9_b435_d8f2cace35b0row15_col0\" class=\"data row15 col0\" >49</td>\n",
       "                        <td id=\"T_56ec494d_9600_11e9_b435_d8f2cace35b0row15_col1\" class=\"data row15 col1\" >49</td>\n",
       "            </tr>\n",
       "            <tr>\n",
       "                        <th id=\"T_56ec494d_9600_11e9_b435_d8f2cace35b0level0_row16\" class=\"row_heading level0 row16\" >17</th>\n",
       "                        <td id=\"T_56ec494d_9600_11e9_b435_d8f2cace35b0row16_col0\" class=\"data row16 col0\" >3</td>\n",
       "                        <td id=\"T_56ec494d_9600_11e9_b435_d8f2cace35b0row16_col1\" class=\"data row16 col1\" >3</td>\n",
       "            </tr>\n",
       "            <tr>\n",
       "                        <th id=\"T_56ec494d_9600_11e9_b435_d8f2cace35b0level0_row17\" class=\"row_heading level0 row17\" >18</th>\n",
       "                        <td id=\"T_56ec494d_9600_11e9_b435_d8f2cace35b0row17_col0\" class=\"data row17 col0\" >26</td>\n",
       "                        <td id=\"T_56ec494d_9600_11e9_b435_d8f2cace35b0row17_col1\" class=\"data row17 col1\" >26</td>\n",
       "            </tr>\n",
       "            <tr>\n",
       "                        <th id=\"T_56ec494d_9600_11e9_b435_d8f2cace35b0level0_row18\" class=\"row_heading level0 row18\" >19</th>\n",
       "                        <td id=\"T_56ec494d_9600_11e9_b435_d8f2cace35b0row18_col0\" class=\"data row18 col0\" >12</td>\n",
       "                        <td id=\"T_56ec494d_9600_11e9_b435_d8f2cace35b0row18_col1\" class=\"data row18 col1\" >12</td>\n",
       "            </tr>\n",
       "            <tr>\n",
       "                        <th id=\"T_56ec494d_9600_11e9_b435_d8f2cace35b0level0_row19\" class=\"row_heading level0 row19\" >20</th>\n",
       "                        <td id=\"T_56ec494d_9600_11e9_b435_d8f2cace35b0row19_col0\" class=\"data row19 col0\" >27</td>\n",
       "                        <td id=\"T_56ec494d_9600_11e9_b435_d8f2cace35b0row19_col1\" class=\"data row19 col1\" >27</td>\n",
       "            </tr>\n",
       "            <tr>\n",
       "                        <th id=\"T_56ec494d_9600_11e9_b435_d8f2cace35b0level0_row20\" class=\"row_heading level0 row20\" >22</th>\n",
       "                        <td id=\"T_56ec494d_9600_11e9_b435_d8f2cace35b0row20_col0\" class=\"data row20 col0\" >2</td>\n",
       "                        <td id=\"T_56ec494d_9600_11e9_b435_d8f2cace35b0row20_col1\" class=\"data row20 col1\" >2</td>\n",
       "            </tr>\n",
       "            <tr>\n",
       "                        <th id=\"T_56ec494d_9600_11e9_b435_d8f2cace35b0level0_row21\" class=\"row_heading level0 row21\" >23</th>\n",
       "                        <td id=\"T_56ec494d_9600_11e9_b435_d8f2cace35b0row21_col0\" class=\"data row21 col0\" >2</td>\n",
       "                        <td id=\"T_56ec494d_9600_11e9_b435_d8f2cace35b0row21_col1\" class=\"data row21 col1\" >2</td>\n",
       "            </tr>\n",
       "            <tr>\n",
       "                        <th id=\"T_56ec494d_9600_11e9_b435_d8f2cace35b0level0_row22\" class=\"row_heading level0 row22\" >25</th>\n",
       "                        <td id=\"T_56ec494d_9600_11e9_b435_d8f2cace35b0row22_col0\" class=\"data row22 col0\" >1</td>\n",
       "                        <td id=\"T_56ec494d_9600_11e9_b435_d8f2cace35b0row22_col1\" class=\"data row22 col1\" >1</td>\n",
       "            </tr>\n",
       "    </tbody></table>"
      ]
     },
     "metadata": {},
     "output_type": "display_data"
    }
   ],
   "source": [
    "aux_no = aux_fatal[aux_fatal[\"Fatal (Y/N)\"]==False].copy()\n",
    "\n",
    "display_html(aux_yes.groupby(\"Sizes\").count()\\\n",
    "             .style.set_table_attributes(\"style='display:inline'\").set_caption('Fatal')._repr_html_()+\\\n",
    "\n",
    "             aux_no.groupby(\"Sizes\").count()\\\n",
    "             .style.set_table_attributes(\"style='display:inline;margin-left:60px'\").set_caption('Not Fatal')\\\n",
    "             ._repr_html_(), raw=True)"
   ]
  },
  {
   "cell_type": "code",
   "execution_count": 21,
   "metadata": {},
   "outputs": [
    {
     "data": {
      "text/plain": [
       "<matplotlib.axes._subplots.AxesSubplot at 0x7f6125bc2470>"
      ]
     },
     "execution_count": 21,
     "metadata": {},
     "output_type": "execute_result"
    },
    {
     "data": {
      "image/png": "[encoded data removed]",
      "text/plain": [
       "<Figure size 432x288 with 1 Axes>"
      ]
     },
     "metadata": {
      "needs_background": "light"
     },
     "output_type": "display_data"
    }
   ],
   "source": [
    "p_fatality = (aux_yes.groupby(\"Sizes\").count().div(\\\n",
    "aux_yes.groupby(\"Sizes\").count().add(aux_no.groupby(\"Sizes\").count(), fill_value=0), fill_value=0)*100)\n",
    "p_fatality[\"Fatal (Y/N)\"].plot.bar(rot=0)"
   ]
  },
  {
   "cell_type": "code",
   "execution_count": 22,
   "metadata": {},
   "outputs": [
    {
     "data": {
      "text/html": [
       "<div>\n",
       "<style scoped>\n",
       "    .dataframe tbody tr th:only-of-type {\n",
       "        vertical-align: middle;\n",
       "    }\n",
       "\n",
       "    .dataframe tbody tr th {\n",
       "        vertical-align: top;\n",
       "    }\n",
       "\n",
       "    .dataframe thead th {\n",
       "        text-align: right;\n",
       "    }\n",
       "</style>\n",
       "<table border=\"1\" class=\"dataframe\">\n",
       "  <thead>\n",
       "    <tr style=\"text-align: right;\">\n",
       "      <th></th>\n",
       "      <th>index</th>\n",
       "      <th>Fatal (Y/N)</th>\n",
       "    </tr>\n",
       "    <tr>\n",
       "      <th>Sizes</th>\n",
       "      <th></th>\n",
       "      <th></th>\n",
       "    </tr>\n",
       "  </thead>\n",
       "  <tbody>\n",
       "    <tr>\n",
       "      <th>1</th>\n",
       "      <td>0.000000</td>\n",
       "      <td>0.000000</td>\n",
       "    </tr>\n",
       "    <tr>\n",
       "      <th>2</th>\n",
       "      <td>2.083333</td>\n",
       "      <td>2.083333</td>\n",
       "    </tr>\n",
       "    <tr>\n",
       "      <th>3</th>\n",
       "      <td>0.000000</td>\n",
       "      <td>0.000000</td>\n",
       "    </tr>\n",
       "    <tr>\n",
       "      <th>4</th>\n",
       "      <td>0.892857</td>\n",
       "      <td>0.892857</td>\n",
       "    </tr>\n",
       "    <tr>\n",
       "      <th>5</th>\n",
       "      <td>1.197605</td>\n",
       "      <td>1.197605</td>\n",
       "    </tr>\n",
       "  </tbody>\n",
       "</table>\n",
       "</div>"
      ],
      "text/plain": [
       "          index  Fatal (Y/N)\n",
       "Sizes                       \n",
       "1      0.000000     0.000000\n",
       "2      2.083333     2.083333\n",
       "3      0.000000     0.000000\n",
       "4      0.892857     0.892857\n",
       "5      1.197605     1.197605"
      ]
     },
     "metadata": {},
     "output_type": "display_data"
    }
   ],
   "source": [
    "display(p_fatality.head())"
   ]
  },
  {
   "cell_type": "markdown",
   "metadata": {},
   "source": [
    "## Conclusiones\n",
    "\n",
    "Para hablar de las conclusiones, a parte de los gráficos que acabamos de ver, es interesante recordar los stats de la columna `Size`. También considero interesante representar algunos cuartiles más."
   ]
  },
  {
   "cell_type": "code",
   "execution_count": 23,
   "metadata": {},
   "outputs": [
    {
     "data": {
      "text/html": [
       "<div>\n",
       "<style scoped>\n",
       "    .dataframe tbody tr th:only-of-type {\n",
       "        vertical-align: middle;\n",
       "    }\n",
       "\n",
       "    .dataframe tbody tr th {\n",
       "        vertical-align: top;\n",
       "    }\n",
       "\n",
       "    .dataframe thead th {\n",
       "        text-align: right;\n",
       "    }\n",
       "</style>\n",
       "<table border=\"1\" class=\"dataframe\">\n",
       "  <thead>\n",
       "    <tr style=\"text-align: right;\">\n",
       "      <th></th>\n",
       "      <th>count</th>\n",
       "      <th>mean</th>\n",
       "      <th>std</th>\n",
       "      <th>min</th>\n",
       "      <th>25%</th>\n",
       "      <th>50%</th>\n",
       "      <th>75%</th>\n",
       "      <th>max</th>\n",
       "      <th>IQR</th>\n",
       "    </tr>\n",
       "  </thead>\n",
       "  <tbody>\n",
       "    <tr>\n",
       "      <th>Sizes</th>\n",
       "      <td>1874.0</td>\n",
       "      <td>8.59445</td>\n",
       "      <td>4.498192</td>\n",
       "      <td>1.0</td>\n",
       "      <td>5.0</td>\n",
       "      <td>7.0</td>\n",
       "      <td>12.0</td>\n",
       "      <td>25.0</td>\n",
       "      <td>7.0</td>\n",
       "    </tr>\n",
       "  </tbody>\n",
       "</table>\n",
       "</div>"
      ],
      "text/plain": [
       "        count     mean       std  min  25%  50%   75%   max  IQR\n",
       "Sizes  1874.0  8.59445  4.498192  1.0  5.0  7.0  12.0  25.0  7.0"
      ]
     },
     "metadata": {},
     "output_type": "display_data"
    },
    {
     "data": {
      "text/plain": [
       "0.1     4.0\n",
       "0.2     5.0\n",
       "0.3     6.0\n",
       "0.4     6.0\n",
       "0.5     7.0\n",
       "0.6     9.0\n",
       "0.7    10.0\n",
       "0.8    12.0\n",
       "0.9    15.0\n",
       "Name: Sizes, dtype: float64"
      ]
     },
     "metadata": {},
     "output_type": "display_data"
    }
   ],
   "source": [
    "display(stats)\n",
    "\n",
    "display(aux_fatal[\"Sizes\"].quantile([.1, .2, .3, .4, .5, .6, .7, .8, .9]))"
   ]
  },
  {
   "cell_type": "markdown",
   "metadata": {},
   "source": [
    "Como se observa, el 50% de los ataques se producen por tiburones de 7' (2 m) o menos y el 75% por individuos de 12' (3.6 m) o menos. El tiburón de mayor tamaño cuyo ataque ha sido registrado ha sido de 25' (7.6 m).\n",
    "\n",
    "No hay datos registrados de \"tiburones gigantes\", como el tiburón ballena (12 m) o el tiburón peregrino (8 m), que por otra parte, son inofensivos para los humanos.\n",
    "\n",
    "Tal vez, el más temido de ellos sea el tiburón blanco que alcanza de 5 a 8 m. Pero como se observa, los ataques de tiburones de estos tamaños son poco frecuentes. **Tan solo el 10% de los ataques es producido por tiburones de más de 15' (4,5 m)**. Por tanto, el miedo al tiburón blanco (tal vez debido al cine) es totalmente infundado.\n",
    "\n",
    "En cambio, como hemos mencionado, el 75% de los ataques es realizado por tiburones de menos de 3.6 m, lo que recogerá a especies menos conocidas como el tiburón tigre, el tiburón azul o el tiburón toro.\n",
    "\n",
    "No obstante, es importante destacar la última gráfica. Aunque los tiburones \"pequeños\" son más peligrosos, debido a que sus ataques son más frecuentes, la mortalidad de sus ataques es mucho menor que la de los tiburones grandes. Es posible afirmar que que **la mortalidad de los ataques de tiburón es mayor según aumenta su tamaño**."
   ]
  },
  {
   "cell_type": "code",
   "execution_count": 24,
   "metadata": {},
   "outputs": [
    {
     "data": {
      "text/plain": [
       "<matplotlib.axes._subplots.AxesSubplot at 0x7f6125f3ea58>"
      ]
     },
     "execution_count": 24,
     "metadata": {},
     "output_type": "execute_result"
    },
    {
     "data": {
      "image/png": "[encoded data removed]",
      "text/plain": [
       "<Figure size 432x288 with 1 Axes>"
      ]
     },
     "metadata": {
      "needs_background": "light"
     },
     "output_type": "display_data"
    }
   ],
   "source": [
    "p_fatality[\"Fatal (Y/N)\"].plot.bar(rot=0)"
   ]
  },
  {
   "cell_type": "markdown",
   "metadata": {},
   "source": [
    "Es curiosa la gráfica en las columnas 19 (12 ataques y ninguno mortal) y en la columna 21. Aunque, en esta última, el pico se debe a que solo existen 2 ataques registrados de tiburones de 21'.\n",
    "\n",
    "Por último, destacar una cosa: De los 1312 ataques mortales, únicamente se tienen datos de tamaño de 229 (el 17,5%). Por tanto, **serían necesarios más datos como para considerar estas conclusiones como definitivas**."
   ]
  },
  {
   "cell_type": "code",
   "execution_count": 25,
   "metadata": {},
   "outputs": [
    {
     "data": {
      "text/plain": [
       "False      4091\n",
       "True       1312\n",
       "UNKNOWN      75\n",
       "Name: Fatal (Y/N), dtype: int64"
      ]
     },
     "metadata": {},
     "output_type": "display_data"
    },
    {
     "data": {
      "text/plain": [
       "False    1645\n",
       "True      229\n",
       "Name: Fatal (Y/N), dtype: int64"
      ]
     },
     "metadata": {},
     "output_type": "display_data"
    }
   ],
   "source": [
    "display(wdf[\"Fatal (Y/N)\"].value_counts())\n",
    "display(aux_fatal[\"Fatal (Y/N)\"].value_counts())"
   ]
  },
  {
   "cell_type": "markdown",
   "metadata": {},
   "source": [
    "# Bonus\n",
    "\n",
    "## Limpiamos otras columnas"
   ]
  },
  {
   "cell_type": "markdown",
   "metadata": {},
   "source": [
    "Otras columnas que veo interesante para comparar con los tamaños son la columna `Injuries`, para saber las heridas que causan los tiburones según su talla; la columna `Species`, para saber si hay alguna relación entre la especie, el tamaño y los ataques; e incluso la columna `Type`, para ver si los ataques de tiburones grande son provocados por el hombre.\n",
    "\n",
    "### Limpieza columna `Species`\n",
    "\n",
    "Para la limpieza de `Species` se han añadido las especies que la fuente de los datos recoge en su web y se han añadido otros que aparecen en dicha columna. Además, se ha ido consultando información en internet para agruparlos (por ejemplo, el tiburón *bull* y el *zambezi*, son el mismo)."
   ]
  },
  {
   "cell_type": "code",
   "execution_count": 26,
   "metadata": {},
   "outputs": [
    {
     "data": {
      "text/plain": [
       "UNKNOWN                3591\n",
       "White                   597\n",
       "Tiger                   244\n",
       "Zambezi                 197\n",
       "Blacktip                 92\n",
       "Nurse                    91\n",
       "Bronze whaler            69\n",
       "Small                    62\n",
       "Shortfin mako            55\n",
       "Blue                     53\n",
       "Great hammerhead         48\n",
       "Wobbegong                45\n",
       "Raggedtooth              43\n",
       "Lemon                    31\n",
       "Oceanic whitetip         28\n",
       "Gray reef                25\n",
       "Spinner                  20\n",
       "Sand tiger               19\n",
       "Sand                     19\n",
       "Caribbean reef           17\n",
       "Reef                     16\n",
       "Broadnose sevengill      14\n",
       "Blacktip reef            13\n",
       "Dusky                    12\n",
       "Spotted Wobbegong        10\n",
       "Spiny dogfish             9\n",
       "Whale                     9\n",
       "Sandbar                   7\n",
       "Basking                   7\n",
       "Angelshark                6\n",
       "Porbeagle                 5\n",
       "Galapagos                 5\n",
       "Silky                     4\n",
       "Fox                       4\n",
       "School                    3\n",
       "Salmon                    2\n",
       "Leopard                   2\n",
       "Banjo                     1\n",
       "Cookiecutter              1\n",
       "Goblin                    1\n",
       "Horn                      1\n",
       "Name: Species, dtype: int64"
      ]
     },
     "execution_count": 26,
     "metadata": {},
     "output_type": "execute_result"
    }
   ],
   "source": [
    "wdf['Species'].fillna(\"UNKNOWN\",inplace=True)\n",
    "wdf[\"Species\"] = wdf[\"Species\"].apply(str) # Cambiamos su tipo a string, ya que es una columna de tipo int\n",
    "wdf[\"Species\"] = wdf[\"Species\"].apply(mf.cleanspecies).copy()\n",
    "wdf[\"Species\"].value_counts()"
   ]
  },
  {
   "cell_type": "markdown",
   "metadata": {},
   "source": [
    "### Limpieza columna `Injuries`"
   ]
  },
  {
   "cell_type": "code",
   "execution_count": 27,
   "metadata": {},
   "outputs": [
    {
     "data": {
      "text/plain": [
       "Seriously injured    1558\n",
       "Injured              1417\n",
       "Lacerations          1273\n",
       "No injuries           825\n",
       "UNKNOWN               257\n",
       "Dead                  148\n",
       "Name: Injury, dtype: int64"
      ]
     },
     "execution_count": 27,
     "metadata": {},
     "output_type": "execute_result"
    }
   ],
   "source": [
    "wdf[\"Injury\"].fillna(\"Unknown\",inplace=True)\n",
    "wdf[\"Injury\"] = wdf[\"Injury\"].apply(str) # Cambiamos su tipo a string, ya que es una columna de tipo int\n",
    "wdf[\"Injury\"] = wdf[\"Injury\"].apply(mf.cleaninjury).copy()\n",
    "wdf[\"Injury\"].value_counts()"
   ]
  },
  {
   "cell_type": "markdown",
   "metadata": {},
   "source": [
    "### Limpieza columna `Type`"
   ]
  },
  {
   "cell_type": "code",
   "execution_count": 28,
   "metadata": {},
   "outputs": [
    {
     "data": {
      "text/plain": [
       "Unprovoked      4391\n",
       "Provoked         557\n",
       "Boat             310\n",
       "Sea disaster     220\n",
       "Name: Type, dtype: int64"
      ]
     },
     "execution_count": 28,
     "metadata": {},
     "output_type": "execute_result"
    }
   ],
   "source": [
    "wdf[\"Type\"].fillna(\"Unknown\",inplace=True)\n",
    "wdf[\"Type\"] = wdf[\"Type\"].astype(str) # Cambiamos su tipo a string, ya que es una columna de tipo int\n",
    "wdf[\"Type\"] = wdf[\"Type\"].apply(mf.cleantype).copy()\n",
    "wdf[\"Type\"].value_counts()"
   ]
  },
  {
   "cell_type": "markdown",
   "metadata": {},
   "source": [
    "### Limpieza columna `Activity`"
   ]
  },
  {
   "cell_type": "code",
   "execution_count": 29,
   "metadata": {},
   "outputs": [
    {
     "data": {
      "text/plain": [
       "Surfing                1300\n",
       "Swimming               1245\n",
       "Fishing                 650\n",
       "UNKNOWN                 624\n",
       "Diving                  436\n",
       "Spearfishing            384\n",
       "Walking                 281\n",
       "Boat                    167\n",
       "Sea Disaster            136\n",
       "Fishing sharks           81\n",
       "Snorkeling               75\n",
       "Militar incident         38\n",
       "Sitting                  36\n",
       "Shark investigating      20\n",
       "Touching a shark          5\n",
       "Name: Activity, dtype: int64"
      ]
     },
     "execution_count": 29,
     "metadata": {},
     "output_type": "execute_result"
    }
   ],
   "source": [
    "wdf[\"Activity\"].fillna(\"UNKNOWN\",inplace=True)\n",
    "wdf[\"Activity\"] = wdf[\"Activity\"].apply(str) # Cambiamos su tipo a string, ya que es una columna de tipo int\n",
    "wdf[\"Activity\"] = wdf[\"Activity\"].astype(str)\n",
    "wdf[\"Activity\"] = wdf[\"Activity\"].apply(mf.cleanactivity).copy()\n",
    "wdf[\"Activity\"].value_counts()"
   ]
  },
  {
   "cell_type": "markdown",
   "metadata": {},
   "source": [
    "Para representar los datos y tener información más visual, vamos a copiar los datos en una df auxiliar limpia.\n",
    "\n",
    "En esta *plot aux (plot_aux)* dataframe quitaremos los valores UNKNOWN para que no nos salgan en nuestros gráficos.\n",
    "\n",
    "Para disponer de cuantos más datos posibles en cada gráfico, agruparemos cada conjunto de manera separada."
   ]
  },
  {
   "cell_type": "code",
   "execution_count": 30,
   "metadata": {},
   "outputs": [
    {
     "name": "stdout",
     "output_type": "stream",
     "text": [
      "Número de valores únicos para Species: (1053, 26)\n",
      "Número de valores únicos para Injury: (1856, 26)\n",
      "Número de valores únicos para Type: (1884, 26)\n",
      "Número de valores únicos para Activity: (1769, 26)\n"
     ]
    }
   ],
   "source": [
    "caux = wdf[(wdf[\"Sizes\"]!=\"UNKNOWN\") & (wdf[\"Sizes\"].isnull() != True)].copy()\n",
    "caux[\"Sizes\"] = caux[\"Sizes\"].apply(int)\n",
    "\n",
    "plot_aux_species = caux[caux[\"Species\"]!=\"UNKNOWN\"].copy()\n",
    "plot_aux_species[\"Species\"] = plot_aux_species[\"Species\"].apply(str)\n",
    "plot_aux_species.reset_index(inplace=True)\n",
    "\n",
    "plot_aux_injury = caux[caux[\"Injury\"]!=\"UNKNOWN\"].copy()\n",
    "plot_aux_injury[\"Injury\"] = plot_aux_injury[\"Injury\"].apply(str)\n",
    "plot_aux_injury.reset_index(inplace=True)\n",
    "\n",
    "plot_aux_type = caux[caux[\"Type\"]!=\"UNKNOWN\"].copy()\n",
    "plot_aux_type[\"Type\"] = plot_aux_type[\"Type\"].apply(str)\n",
    "plot_aux_type.reset_index(inplace=True)\n",
    "\n",
    "plot_aux_activity = caux[caux[\"Activity\"]!=\"UNKNOWN\"].copy()\n",
    "plot_aux_activity[\"Activity\"] = plot_aux_activity[\"Activity\"].apply(str)\n",
    "plot_aux_activity.reset_index(inplace=True)\n",
    "\n",
    "print(\"Número de valores únicos para Species: {}\".format(plot_aux_species.shape))\n",
    "print(\"Número de valores únicos para Injury: {}\".format(plot_aux_injury.shape))\n",
    "print(\"Número de valores únicos para Type: {}\".format(plot_aux_type.shape))\n",
    "print(\"Número de valores únicos para Activity: {}\".format(plot_aux_activity.shape))"
   ]
  },
  {
   "cell_type": "markdown",
   "metadata": {},
   "source": [
    "Los gráficos son creados mediante la función `draw_plot`. También se muestran tablas de frecuencia para cada una de las columnas.\n",
    "\n",
    "     Se muestra solo para Species para no hacer el notebook interminable."
   ]
  },
  {
   "cell_type": "code",
   "execution_count": 31,
   "metadata": {},
   "outputs": [
    {
     "data": {
      "text/html": [
       "<div>\n",
       "<style scoped>\n",
       "    .dataframe tbody tr th:only-of-type {\n",
       "        vertical-align: middle;\n",
       "    }\n",
       "\n",
       "    .dataframe tbody tr th {\n",
       "        vertical-align: top;\n",
       "    }\n",
       "\n",
       "    .dataframe thead th {\n",
       "        text-align: right;\n",
       "    }\n",
       "</style>\n",
       "<table border=\"1\" class=\"dataframe\">\n",
       "  <thead>\n",
       "    <tr style=\"text-align: right;\">\n",
       "      <th>Sizes</th>\n",
       "      <th>1</th>\n",
       "      <th>2</th>\n",
       "      <th>3</th>\n",
       "      <th>4</th>\n",
       "      <th>5</th>\n",
       "      <th>6</th>\n",
       "      <th>7</th>\n",
       "      <th>8</th>\n",
       "      <th>9</th>\n",
       "      <th>10</th>\n",
       "      <th>...</th>\n",
       "      <th>16</th>\n",
       "      <th>17</th>\n",
       "      <th>18</th>\n",
       "      <th>19</th>\n",
       "      <th>20</th>\n",
       "      <th>21</th>\n",
       "      <th>22</th>\n",
       "      <th>23</th>\n",
       "      <th>25</th>\n",
       "      <th>All</th>\n",
       "    </tr>\n",
       "    <tr>\n",
       "      <th>Species</th>\n",
       "      <th></th>\n",
       "      <th></th>\n",
       "      <th></th>\n",
       "      <th></th>\n",
       "      <th></th>\n",
       "      <th></th>\n",
       "      <th></th>\n",
       "      <th></th>\n",
       "      <th></th>\n",
       "      <th></th>\n",
       "      <th></th>\n",
       "      <th></th>\n",
       "      <th></th>\n",
       "      <th></th>\n",
       "      <th></th>\n",
       "      <th></th>\n",
       "      <th></th>\n",
       "      <th></th>\n",
       "      <th></th>\n",
       "      <th></th>\n",
       "      <th></th>\n",
       "    </tr>\n",
       "  </thead>\n",
       "  <tbody>\n",
       "    <tr>\n",
       "      <th>Angelshark</th>\n",
       "      <td>0.0</td>\n",
       "      <td>0.00</td>\n",
       "      <td>0.00</td>\n",
       "      <td>0.09</td>\n",
       "      <td>0.00</td>\n",
       "      <td>0.00</td>\n",
       "      <td>0.00</td>\n",
       "      <td>0.00</td>\n",
       "      <td>0.00</td>\n",
       "      <td>0.00</td>\n",
       "      <td>...</td>\n",
       "      <td>0.00</td>\n",
       "      <td>0.0</td>\n",
       "      <td>0.0</td>\n",
       "      <td>0.0</td>\n",
       "      <td>0.0</td>\n",
       "      <td>0.0</td>\n",
       "      <td>0.0</td>\n",
       "      <td>0.0</td>\n",
       "      <td>0.0</td>\n",
       "      <td>0.09</td>\n",
       "    </tr>\n",
       "    <tr>\n",
       "      <th>Banjo</th>\n",
       "      <td>0.0</td>\n",
       "      <td>0.09</td>\n",
       "      <td>0.00</td>\n",
       "      <td>0.00</td>\n",
       "      <td>0.00</td>\n",
       "      <td>0.00</td>\n",
       "      <td>0.00</td>\n",
       "      <td>0.00</td>\n",
       "      <td>0.00</td>\n",
       "      <td>0.00</td>\n",
       "      <td>...</td>\n",
       "      <td>0.00</td>\n",
       "      <td>0.0</td>\n",
       "      <td>0.0</td>\n",
       "      <td>0.0</td>\n",
       "      <td>0.0</td>\n",
       "      <td>0.0</td>\n",
       "      <td>0.0</td>\n",
       "      <td>0.0</td>\n",
       "      <td>0.0</td>\n",
       "      <td>0.09</td>\n",
       "    </tr>\n",
       "    <tr>\n",
       "      <th>Blacktip</th>\n",
       "      <td>0.0</td>\n",
       "      <td>0.28</td>\n",
       "      <td>0.28</td>\n",
       "      <td>0.95</td>\n",
       "      <td>0.57</td>\n",
       "      <td>1.42</td>\n",
       "      <td>0.38</td>\n",
       "      <td>0.00</td>\n",
       "      <td>0.19</td>\n",
       "      <td>0.00</td>\n",
       "      <td>...</td>\n",
       "      <td>0.00</td>\n",
       "      <td>0.0</td>\n",
       "      <td>0.0</td>\n",
       "      <td>0.0</td>\n",
       "      <td>0.0</td>\n",
       "      <td>0.0</td>\n",
       "      <td>0.0</td>\n",
       "      <td>0.0</td>\n",
       "      <td>0.0</td>\n",
       "      <td>4.08</td>\n",
       "    </tr>\n",
       "    <tr>\n",
       "      <th>Blacktip reef</th>\n",
       "      <td>0.0</td>\n",
       "      <td>0.00</td>\n",
       "      <td>0.09</td>\n",
       "      <td>0.00</td>\n",
       "      <td>0.09</td>\n",
       "      <td>0.28</td>\n",
       "      <td>0.00</td>\n",
       "      <td>0.00</td>\n",
       "      <td>0.00</td>\n",
       "      <td>0.00</td>\n",
       "      <td>...</td>\n",
       "      <td>0.00</td>\n",
       "      <td>0.0</td>\n",
       "      <td>0.0</td>\n",
       "      <td>0.0</td>\n",
       "      <td>0.0</td>\n",
       "      <td>0.0</td>\n",
       "      <td>0.0</td>\n",
       "      <td>0.0</td>\n",
       "      <td>0.0</td>\n",
       "      <td>0.47</td>\n",
       "    </tr>\n",
       "    <tr>\n",
       "      <th>Blue</th>\n",
       "      <td>0.0</td>\n",
       "      <td>0.00</td>\n",
       "      <td>0.19</td>\n",
       "      <td>0.09</td>\n",
       "      <td>0.28</td>\n",
       "      <td>0.19</td>\n",
       "      <td>0.19</td>\n",
       "      <td>0.38</td>\n",
       "      <td>0.19</td>\n",
       "      <td>0.19</td>\n",
       "      <td>...</td>\n",
       "      <td>0.09</td>\n",
       "      <td>0.0</td>\n",
       "      <td>0.0</td>\n",
       "      <td>0.0</td>\n",
       "      <td>0.0</td>\n",
       "      <td>0.0</td>\n",
       "      <td>0.0</td>\n",
       "      <td>0.0</td>\n",
       "      <td>0.0</td>\n",
       "      <td>2.09</td>\n",
       "    </tr>\n",
       "  </tbody>\n",
       "</table>\n",
       "<p>5 rows × 25 columns</p>\n",
       "</div>"
      ],
      "text/plain": [
       "Sizes            1     2     3     4     5     6     7     8     9    10  ...  \\\n",
       "Species                                                                   ...   \n",
       "Angelshark     0.0  0.00  0.00  0.09  0.00  0.00  0.00  0.00  0.00  0.00  ...   \n",
       "Banjo          0.0  0.09  0.00  0.00  0.00  0.00  0.00  0.00  0.00  0.00  ...   \n",
       "Blacktip       0.0  0.28  0.28  0.95  0.57  1.42  0.38  0.00  0.19  0.00  ...   \n",
       "Blacktip reef  0.0  0.00  0.09  0.00  0.09  0.28  0.00  0.00  0.00  0.00  ...   \n",
       "Blue           0.0  0.00  0.19  0.09  0.28  0.19  0.19  0.38  0.19  0.19  ...   \n",
       "\n",
       "Sizes            16   17   18   19   20   21   22   23   25   All  \n",
       "Species                                                            \n",
       "Angelshark     0.00  0.0  0.0  0.0  0.0  0.0  0.0  0.0  0.0  0.09  \n",
       "Banjo          0.00  0.0  0.0  0.0  0.0  0.0  0.0  0.0  0.0  0.09  \n",
       "Blacktip       0.00  0.0  0.0  0.0  0.0  0.0  0.0  0.0  0.0  4.08  \n",
       "Blacktip reef  0.00  0.0  0.0  0.0  0.0  0.0  0.0  0.0  0.0  0.47  \n",
       "Blue           0.09  0.0  0.0  0.0  0.0  0.0  0.0  0.0  0.0  2.09  \n",
       "\n",
       "[5 rows x 25 columns]"
      ]
     },
     "metadata": {},
     "output_type": "display_data"
    },
    {
     "data": {
      "image/png": "[encoded data removed]",
      "text/plain": [
       "<Figure size 1440x720 with 6 Axes>"
      ]
     },
     "metadata": {
      "needs_background": "light"
     },
     "output_type": "display_data"
    }
   ],
   "source": [
    "import draw_plots as dp\n",
    "        \n",
    "dp.draw_plot(plot_aux_species, \"Species\", 6)\n",
    "#dp.draw_plot(plot_aux_type, \"Type\", 6)\n",
    "#dp.draw_plot(plot_aux_injury, \"Injury\", 6)\n",
    "#dp.draw_plot(plot_aux_activity, \"Activity\", 4)\n",
    "\n",
    "display(dp.draw_frequency(plot_aux_species, \"Species\").head())\n",
    "#display(dp.draw_frequency(plot_aux_type, \"Type\").head())\n",
    "#display(dp.draw_frequency(plot_aux_injury, \"Injury\").head())\n",
    "#display(dp.draw_frequency(plot_aux_activity, \"Activity\").head())"
   ]
  },
  {
   "cell_type": "markdown",
   "metadata": {},
   "source": [
    "## Otras conclusiones\n",
    "\n",
    "En una revisión rápida de los gráficos, se puede afirmar:\n",
    "\n",
    "* De la columna `Species` que la mayoría de los ataques han sido provocados por especies pequeñas. El ataque de tiburones más grande suele ser del tiburón blanco. También hay cierta tendencia de ataques de tiburones tigre de tamaño algo mayor a la media.\n",
    "\n",
    "* De la columna `Type`: Los ataques a barcos y los desastres son provocados por tiburones más grandes.\n",
    "\n",
    "* De la columna `Injury`: Los ataques que hieren o que provocan pequeños daños son *right tail plots* (tiburones más pequeños). En cambio, los ataques más graves y muertes se asemejan más a una gráfica simétrica (tiburones más grandes).\n",
    "\n",
    "* De la columna `Activity`: Todos los gráficos son *right tail plots* (tiburones más pequeños). Pero, por ejemplo, las actividades de surfing tienen una \"cola\" más fina y más inclinación hacia los tiburones pequeños, frente a la pesca, donde los ataques de tiburones más grandes son más frecuentes.\n",
    "\n",
    "## To do's\n",
    "\n",
    "* Al tener los datos limpios de varias columnas, podría relacionar varias de ellas: Especie vs Actividad, Fatalidad vs Especie, Injuries vs Especie, Injuries vs Actividad... E incluso relacionar varias de ellas en una sola tabla/fráfica.\n",
    "\n",
    "* Las funciones de limpieza podrían optimizarse más, ya que estoy seguro que muchas veces cogen datos que no queremos.\n",
    "\n",
    "* La función que limpia los tamaños y usa regex tiene un código algo sucio. Si me da tiempo lo limpio antes de entregarlo.\n",
    "\n",
    "# Guardando nuestros datos\n",
    "\n",
    "Finalmente, procedemos a guardar nuestra nueva df en .csv. Aprovechamos y también guardamos las tablas de frecuencia creadas."
   ]
  },
  {
   "cell_type": "code",
   "execution_count": 32,
   "metadata": {},
   "outputs": [],
   "source": [
    "wdf.to_csv(\"./cleaned_shark_attacks.csv\")\n",
    "dp.draw_frequency(plot_aux_species, \"Species\").to_csv(\"./freq-sizes-vs-species.csv\")\n",
    "dp.draw_frequency(plot_aux_type, \"Type\").to_csv(\"./freq-sizes-vs-type.csv\")\n",
    "dp.draw_frequency(plot_aux_injury, \"Injury\").to_csv(\"./freq-sizes-vs-injury.csv\")\n",
    "dp.draw_frequency(plot_aux_activity, \"Activity\").to_csv(\"./freq-sizes-vs-activity.csv\")"
   ]
  }
 ],
 "metadata": {
  "kernelspec": {
   "display_name": "Python 3",
   "language": "python",
   "name": "python3"
  },
  "language_info": {
   "codemirror_mode": {
    "name": "ipython",
    "version": 3
   },
   "file_extension": ".py",
   "mimetype": "text/x-python",
   "name": "python",
   "nbconvert_exporter": "python",
   "pygments_lexer": "ipython3",
   "version": "3.7.3"
  }
 },
 "nbformat": 4,
 "nbformat_minor": 2
}
