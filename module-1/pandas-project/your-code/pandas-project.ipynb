{
 "cells": [
  {
   "cell_type": "markdown",
   "metadata": {},
   "source": [
    "# Pandas Project\n",
    "\n",
    "*Este repositorio es un proyecto sobre la librería `pandas`de python que he realizado como tarea durante el bootcamp de Data Analytics de [Ironhack](https://www.ironhack.com/). Se trata del primer proyecto que realizamos.\n",
    "\n",
    "Para realizarlo, hemos recibido el dataset *Global Shark Attack Incidents* disponible en [kaagle.com](https://www.kaggle.com/teajay/global-shark-attacks/version/1/kernels). Se trata de un archivo csv con datos sobre ataques de tiburones alrededor de todo el mundo.\n",
    "\n",
    "El objetivo del proyecto es plantear una hipótesis y confirmarla con los datos del dataset. Sin embargo, los datos de la bbdd son muy caóticos, por lo que es necesario filtrar y limpiar los datos para poder confirmarla.\n",
    "\n",
    "## Cargando el dataset"
   ]
  },
  {
   "cell_type": "code",
   "execution_count": 1,
   "metadata": {},
   "outputs": [
    {
     "data": {
      "text/html": [
       "<div>\n",
       "<style scoped>\n",
       "    .dataframe tbody tr th:only-of-type {\n",
       "        vertical-align: middle;\n",
       "    }\n",
       "\n",
       "    .dataframe tbody tr th {\n",
       "        vertical-align: top;\n",
       "    }\n",
       "\n",
       "    .dataframe thead th {\n",
       "        text-align: right;\n",
       "    }\n",
       "</style>\n",
       "<table border=\"1\" class=\"dataframe\">\n",
       "  <thead>\n",
       "    <tr style=\"text-align: right;\">\n",
       "      <th></th>\n",
       "      <th>Case Number</th>\n",
       "      <th>Date</th>\n",
       "      <th>Year</th>\n",
       "      <th>Type</th>\n",
       "      <th>Country</th>\n",
       "      <th>Area</th>\n",
       "      <th>Location</th>\n",
       "      <th>Activity</th>\n",
       "      <th>Name</th>\n",
       "      <th>Sex</th>\n",
       "      <th>...</th>\n",
       "      <th>Species</th>\n",
       "      <th>Investigator or Source</th>\n",
       "      <th>pdf</th>\n",
       "      <th>href formula</th>\n",
       "      <th>href</th>\n",
       "      <th>Case Number.1</th>\n",
       "      <th>Case Number.2</th>\n",
       "      <th>original order</th>\n",
       "      <th>Unnamed: 22</th>\n",
       "      <th>Unnamed: 23</th>\n",
       "    </tr>\n",
       "  </thead>\n",
       "  <tbody>\n",
       "    <tr>\n",
       "      <th>0</th>\n",
       "      <td>2016.09.18.c</td>\n",
       "      <td>18-Sep-16</td>\n",
       "      <td>2016</td>\n",
       "      <td>Unprovoked</td>\n",
       "      <td>USA</td>\n",
       "      <td>Florida</td>\n",
       "      <td>New Smyrna Beach, Volusia County</td>\n",
       "      <td>Surfing</td>\n",
       "      <td>male</td>\n",
       "      <td>M</td>\n",
       "      <td>...</td>\n",
       "      <td>NaN</td>\n",
       "      <td>Orlando Sentinel, 9/19/2016</td>\n",
       "      <td>2016.09.18.c-NSB.pdf</td>\n",
       "      <td>http://sharkattackfile.net/spreadsheets/pdf_di...</td>\n",
       "      <td>http://sharkattackfile.net/spreadsheets/pdf_di...</td>\n",
       "      <td>2016.09.18.c</td>\n",
       "      <td>2016.09.18.c</td>\n",
       "      <td>5993</td>\n",
       "      <td>NaN</td>\n",
       "      <td>NaN</td>\n",
       "    </tr>\n",
       "    <tr>\n",
       "      <th>1</th>\n",
       "      <td>2016.09.18.b</td>\n",
       "      <td>18-Sep-16</td>\n",
       "      <td>2016</td>\n",
       "      <td>Unprovoked</td>\n",
       "      <td>USA</td>\n",
       "      <td>Florida</td>\n",
       "      <td>New Smyrna Beach, Volusia County</td>\n",
       "      <td>Surfing</td>\n",
       "      <td>Chucky Luciano</td>\n",
       "      <td>M</td>\n",
       "      <td>...</td>\n",
       "      <td>NaN</td>\n",
       "      <td>Orlando Sentinel, 9/19/2016</td>\n",
       "      <td>2016.09.18.b-Luciano.pdf</td>\n",
       "      <td>http://sharkattackfile.net/spreadsheets/pdf_di...</td>\n",
       "      <td>http://sharkattackfile.net/spreadsheets/pdf_di...</td>\n",
       "      <td>2016.09.18.b</td>\n",
       "      <td>2016.09.18.b</td>\n",
       "      <td>5992</td>\n",
       "      <td>NaN</td>\n",
       "      <td>NaN</td>\n",
       "    </tr>\n",
       "    <tr>\n",
       "      <th>2</th>\n",
       "      <td>2016.09.18.a</td>\n",
       "      <td>18-Sep-16</td>\n",
       "      <td>2016</td>\n",
       "      <td>Unprovoked</td>\n",
       "      <td>USA</td>\n",
       "      <td>Florida</td>\n",
       "      <td>New Smyrna Beach, Volusia County</td>\n",
       "      <td>Surfing</td>\n",
       "      <td>male</td>\n",
       "      <td>M</td>\n",
       "      <td>...</td>\n",
       "      <td>NaN</td>\n",
       "      <td>Orlando Sentinel, 9/19/2016</td>\n",
       "      <td>2016.09.18.a-NSB.pdf</td>\n",
       "      <td>http://sharkattackfile.net/spreadsheets/pdf_di...</td>\n",
       "      <td>http://sharkattackfile.net/spreadsheets/pdf_di...</td>\n",
       "      <td>2016.09.18.a</td>\n",
       "      <td>2016.09.18.a</td>\n",
       "      <td>5991</td>\n",
       "      <td>NaN</td>\n",
       "      <td>NaN</td>\n",
       "    </tr>\n",
       "    <tr>\n",
       "      <th>3</th>\n",
       "      <td>2016.09.17</td>\n",
       "      <td>17-Sep-16</td>\n",
       "      <td>2016</td>\n",
       "      <td>Unprovoked</td>\n",
       "      <td>AUSTRALIA</td>\n",
       "      <td>Victoria</td>\n",
       "      <td>Thirteenth Beach</td>\n",
       "      <td>Surfing</td>\n",
       "      <td>Rory Angiolella</td>\n",
       "      <td>M</td>\n",
       "      <td>...</td>\n",
       "      <td>NaN</td>\n",
       "      <td>The Age, 9/18/2016</td>\n",
       "      <td>2016.09.17-Angiolella.pdf</td>\n",
       "      <td>http://sharkattackfile.net/spreadsheets/pdf_di...</td>\n",
       "      <td>http://sharkattackfile.net/spreadsheets/pdf_di...</td>\n",
       "      <td>2016.09.17</td>\n",
       "      <td>2016.09.17</td>\n",
       "      <td>5990</td>\n",
       "      <td>NaN</td>\n",
       "      <td>NaN</td>\n",
       "    </tr>\n",
       "    <tr>\n",
       "      <th>4</th>\n",
       "      <td>2016.09.15</td>\n",
       "      <td>16-Sep-16</td>\n",
       "      <td>2016</td>\n",
       "      <td>Unprovoked</td>\n",
       "      <td>AUSTRALIA</td>\n",
       "      <td>Victoria</td>\n",
       "      <td>Bells Beach</td>\n",
       "      <td>Surfing</td>\n",
       "      <td>male</td>\n",
       "      <td>M</td>\n",
       "      <td>...</td>\n",
       "      <td>2 m shark</td>\n",
       "      <td>The Age, 9/16/2016</td>\n",
       "      <td>2016.09.16-BellsBeach.pdf</td>\n",
       "      <td>http://sharkattackfile.net/spreadsheets/pdf_di...</td>\n",
       "      <td>http://sharkattackfile.net/spreadsheets/pdf_di...</td>\n",
       "      <td>2016.09.16</td>\n",
       "      <td>2016.09.15</td>\n",
       "      <td>5989</td>\n",
       "      <td>NaN</td>\n",
       "      <td>NaN</td>\n",
       "    </tr>\n",
       "  </tbody>\n",
       "</table>\n",
       "<p>5 rows × 24 columns</p>\n",
       "</div>"
      ],
      "text/plain": [
       "    Case Number       Date  Year        Type    Country      Area  \\\n",
       "0  2016.09.18.c  18-Sep-16  2016  Unprovoked        USA   Florida   \n",
       "1  2016.09.18.b  18-Sep-16  2016  Unprovoked        USA   Florida   \n",
       "2  2016.09.18.a  18-Sep-16  2016  Unprovoked        USA   Florida   \n",
       "3    2016.09.17  17-Sep-16  2016  Unprovoked  AUSTRALIA  Victoria   \n",
       "4    2016.09.15  16-Sep-16  2016  Unprovoked  AUSTRALIA  Victoria   \n",
       "\n",
       "                           Location Activity             Name Sex   ...  \\\n",
       "0  New Smyrna Beach, Volusia County  Surfing             male    M  ...   \n",
       "1  New Smyrna Beach, Volusia County  Surfing   Chucky Luciano    M  ...   \n",
       "2  New Smyrna Beach, Volusia County  Surfing             male    M  ...   \n",
       "3                  Thirteenth Beach  Surfing  Rory Angiolella    M  ...   \n",
       "4                       Bells Beach  Surfing             male    M  ...   \n",
       "\n",
       "    Species        Investigator or Source                        pdf  \\\n",
       "0        NaN  Orlando Sentinel, 9/19/2016       2016.09.18.c-NSB.pdf   \n",
       "1        NaN  Orlando Sentinel, 9/19/2016   2016.09.18.b-Luciano.pdf   \n",
       "2        NaN  Orlando Sentinel, 9/19/2016       2016.09.18.a-NSB.pdf   \n",
       "3        NaN           The Age, 9/18/2016  2016.09.17-Angiolella.pdf   \n",
       "4  2 m shark           The Age, 9/16/2016  2016.09.16-BellsBeach.pdf   \n",
       "\n",
       "                                        href formula  \\\n",
       "0  http://sharkattackfile.net/spreadsheets/pdf_di...   \n",
       "1  http://sharkattackfile.net/spreadsheets/pdf_di...   \n",
       "2  http://sharkattackfile.net/spreadsheets/pdf_di...   \n",
       "3  http://sharkattackfile.net/spreadsheets/pdf_di...   \n",
       "4  http://sharkattackfile.net/spreadsheets/pdf_di...   \n",
       "\n",
       "                                                href Case Number.1  \\\n",
       "0  http://sharkattackfile.net/spreadsheets/pdf_di...  2016.09.18.c   \n",
       "1  http://sharkattackfile.net/spreadsheets/pdf_di...  2016.09.18.b   \n",
       "2  http://sharkattackfile.net/spreadsheets/pdf_di...  2016.09.18.a   \n",
       "3  http://sharkattackfile.net/spreadsheets/pdf_di...    2016.09.17   \n",
       "4  http://sharkattackfile.net/spreadsheets/pdf_di...    2016.09.16   \n",
       "\n",
       "  Case Number.2 original order Unnamed: 22 Unnamed: 23  \n",
       "0  2016.09.18.c           5993         NaN         NaN  \n",
       "1  2016.09.18.b           5992         NaN         NaN  \n",
       "2  2016.09.18.a           5991         NaN         NaN  \n",
       "3    2016.09.17           5990         NaN         NaN  \n",
       "4    2016.09.15           5989         NaN         NaN  \n",
       "\n",
       "[5 rows x 24 columns]"
      ]
     },
     "metadata": {},
     "output_type": "display_data"
    },
    {
     "name": "stdout",
     "output_type": "stream",
     "text": [
      "Index(['Case Number', 'Date', 'Year', 'Type', 'Country', 'Area', 'Location',\n",
      "       'Activity', 'Name', 'Sex ', 'Age', 'Injury', 'Fatal (Y/N)', 'Time',\n",
      "       'Species ', 'Investigator or Source', 'pdf', 'href formula', 'href',\n",
      "       'Case Number.1', 'Case Number.2', 'original order', 'Unnamed: 22',\n",
      "       'Unnamed: 23'],\n",
      "      dtype='object')\n",
      "(5992, 24)\n"
     ]
    }
   ],
   "source": [
    "import pandas as pd\n",
    "import re\n",
    "import statistics as st\n",
    "\n",
    "df = pd.read_csv(\"./GSAF5.csv\", encoding=\"latin1\")\n",
    "display(df.head())\n",
    "\n",
    "print(df.columns)\n",
    "print(df.shape)"
   ]
  },
  {
   "cell_type": "markdown",
   "metadata": {},
   "source": [
    "La base de datos contiene 5992 valores y 24 columnas. No obstante, muchos de las columnas contienen información poco útil (como las dos últimas, 'Unnamed: 22', 'Unnamed: 23') y la tabla contiene muchos valores nulos en algunas columnas."
   ]
  },
  {
   "cell_type": "code",
   "execution_count": 2,
   "metadata": {},
   "outputs": [
    {
     "name": "stdout",
     "output_type": "stream",
     "text": [
      "Case Number                  0\n",
      "Date                         0\n",
      "Year                         0\n",
      "Type                         0\n",
      "Country                     43\n",
      "Area                       402\n",
      "Location                   496\n",
      "Activity                   527\n",
      "Name                       200\n",
      "Sex                        567\n",
      "Age                       2681\n",
      "Injury                      27\n",
      "Fatal (Y/N)                 19\n",
      "Time                      3213\n",
      "Species                   2934\n",
      "Investigator or Source      15\n",
      "pdf                          0\n",
      "href formula                 1\n",
      "href                         3\n",
      "Case Number.1                0\n",
      "Case Number.2                0\n",
      "original order               0\n",
      "Unnamed: 22               5991\n",
      "Unnamed: 23               5990\n",
      "dtype: int64\n"
     ]
    }
   ],
   "source": [
    "null_cols = df.isnull().sum()\n",
    "print(null_cols)"
   ]
  },
  {
   "cell_type": "markdown",
   "metadata": {},
   "source": [
    "## Mi hipótesis\n",
    "\n",
    "La hipótesis que quiero comprobar es:\n",
    "\n",
    "    Los tiburones pequeños son más peligrosos\n",
    "\n",
    "La base de datos no tiene una columna de tamaño. Sin embargo, la columna `Species` contiene en muchas filas información sobre el tamaño del tiburón que ha mordido.\n",
    "\n",
    "La columna `Species` contiene muchos valores nulos y los no nulos a lo mejor no contienen datos sobre el tamaño. Por tanto, los resultados me darán una muestra que a lo mejor no es representativa de la población. Sin embargo, se trata de un ejercicio de clase y he elegido dicha hipótesis porque:\n",
    "\n",
    "- Me parece un ejercicio interesante de regex\n",
    "- Contiene datos numéricos, al que le puedo aplicar más fácilmente las funciones estadísticas que hemos visto en clase.\n",
    "\n",
    "\n",
    "## Limpieza del dataset\n",
    "\n",
    "Crearé una nueva columna `Sizes` donde guardaré los tamaños. Compararé el número de ataques y su mortalidad con los tamaños. Por lo tanto, la limpieza es sencilla: Para verificar mi hipótesis únicamente necesito las columnas tamaño y `Fatal (Y/N)`.\n",
    "\n",
    "Para empezar, consultado el método `.columns` se observa que las columnas `Species` y `Sex` tienen un espacio después de la palabra. Normalizamos las columnas:"
   ]
  },
  {
   "cell_type": "code",
   "execution_count": 3,
   "metadata": {},
   "outputs": [
    {
     "name": "stdout",
     "output_type": "stream",
     "text": [
      "Index(['Case Number', 'Date', 'Year', 'Type', 'Country', 'Area', 'Location',\n",
      "       'Activity', 'Name', 'Sex ', 'Age', 'Injury', 'Fatal (Y/N)', 'Time',\n",
      "       'Species ', 'Investigator or Source', 'pdf', 'href formula', 'href',\n",
      "       'Case Number.1', 'Case Number.2', 'original order', 'Unnamed: 22',\n",
      "       'Unnamed: 23'],\n",
      "      dtype='object')\n",
      "Index(['Case Number', 'Date', 'Year', 'Type', 'Country', 'Area', 'Location',\n",
      "       'Activity', 'Name', 'Sex', 'Age', 'Injury', 'Fatal (Y/N)', 'Time',\n",
      "       'Species', 'Investigator or Source', 'pdf', 'href formula', 'href',\n",
      "       'Case Number.1', 'Case Number.2', 'original order', 'Unnamed: 22',\n",
      "       'Unnamed: 23'],\n",
      "      dtype='object')\n"
     ]
    }
   ],
   "source": [
    "print(df.columns)\n",
    "clean_cols = list(map(lambda x: x.strip(), df.columns.copy()))\n",
    "df.columns = pd.DataFrame(columns=clean_cols).columns\n",
    "print(df.columns)"
   ]
  },
  {
   "cell_type": "markdown",
   "metadata": {},
   "source": [
    "Por otra parte, en la columna `Type` hay columnas con el valor *Invalid*. Consultando varios PDFs adjuntos en la columna `href`, se observa que dichos ataques son avisos falsos, mordeduras post-mortem o casos muy muy dudosos.\n",
    "\n",
    "Por tanto, decido borrar todos dichos datos."
   ]
  },
  {
   "cell_type": "code",
   "execution_count": 4,
   "metadata": {},
   "outputs": [],
   "source": [
    "df=df[df[\"Type\"] != \"Invalid\"].copy()"
   ]
  },
  {
   "cell_type": "code",
   "execution_count": 5,
   "metadata": {},
   "outputs": [
    {
     "name": "stdout",
     "output_type": "stream",
     "text": [
      "Case Number                  0\n",
      "Date                         0\n",
      "Year                         0\n",
      "Type                         0\n",
      "Country                     38\n",
      "Area                       358\n",
      "Location                   445\n",
      "Activity                   407\n",
      "Name                       147\n",
      "Sex                        494\n",
      "Age                       2383\n",
      "Injury                      20\n",
      "Fatal (Y/N)                  5\n",
      "Time                      2837\n",
      "Species                   2655\n",
      "Investigator or Source      12\n",
      "pdf                          0\n",
      "href formula                 1\n",
      "href                         2\n",
      "Case Number.1                0\n",
      "Case Number.2                0\n",
      "original order               0\n",
      "Unnamed: 22               5472\n",
      "Unnamed: 23               5472\n",
      "dtype: int64\n",
      "(5473, 24)\n"
     ]
    }
   ],
   "source": [
    "null_cols = df.isnull().sum()\n",
    "print(null_cols)\n",
    "print(df.shape)"
   ]
  },
  {
   "cell_type": "markdown",
   "metadata": {},
   "source": [
    "### Limpiando duplicados\n",
    "\n",
    "Antes de limpiar las celdas, comprobaremos si nuestro df tiene duplicados. Como se observa en la siguiente operación, no existen filas duplicadas."
   ]
  },
  {
   "cell_type": "code",
   "execution_count": 6,
   "metadata": {},
   "outputs": [
    {
     "name": "stdout",
     "output_type": "stream",
     "text": [
      "Duplicados eliminados 0: \n"
     ]
    }
   ],
   "source": [
    "before = len(df)\n",
    "df = df.drop_duplicates()\n",
    "after = len(df)\n",
    "print('Duplicados eliminados {}: '.format(str(before - after)))"
   ]
  },
  {
   "cell_type": "markdown",
   "metadata": {},
   "source": [
    "### Limpieza de la columna `Species`\n",
    "\n",
    "Por otra parte, observo que hay algunos datos en la columna `Species` que recogen, en una sola fila, tiburones de varios tamaños. Como por ejemplo, las siguientes:\n",
    "\n",
    "> A partir de ahora, para mantener la variables `df` con los valores iniciales, todas las operaciones las haremos sobre una copia, `wdf`(*working dataframe*). Las únicas acciones sobre la df original han sido el *rename* de las columnas y la eliminación de los datos catalogados como *Inválidos*"
   ]
  },
  {
   "cell_type": "code",
   "execution_count": 7,
   "metadata": {},
   "outputs": [
    {
     "name": "stdout",
     "output_type": "stream",
     "text": [
      "(5, 24)\n"
     ]
    },
    {
     "data": {
      "text/plain": [
       "4.5 m & 5 m white shark                                       1\n",
       "2 scalloped hammerhead sharks, 1.5 m & 1.8 m [5' & 6']        1\n",
       "Said to involve 2 sharks: 5.2 m & 6 m [17' & 20']             1\n",
       "2 sharks, 4.5 m & 3 m                                         1\n",
       "Two sharks seen in vicinity: 2.4 m & 4.25 m  [8' & 14'] TL    1\n",
       "Name: Species, dtype: int64"
      ]
     },
     "execution_count": 7,
     "metadata": {},
     "output_type": "execute_result"
    }
   ],
   "source": [
    "wdf = df.copy()\n",
    "\n",
    "aux = wdf[(wdf[\"Species\"].str.contains(\"[\\d\\.]+\\sm\\s&\\s[\\d\\.]+\\sm|[\\d\\.]+\\s'\\s&\\s[\\d\\.]+\\s'\")==True)]\n",
    "print(aux.shape)\n",
    "aux[\"Species\"].value_counts()"
   ]
  },
  {
   "cell_type": "markdown",
   "metadata": {},
   "source": [
    "Para poder contabilizar dichos ataques como 2, en vez de como uno solo, decido hacer los siguiente:\n",
    "\n",
    "* Añado dos filas al final de mi dataframe que son copias de la fila con dos ataques.\n",
    "* Les cambio el valor de la fila `Species` por los dos tamaños diferentes.\n",
    "* Borro de mi dataset la fila con el valor duplicado.\n",
    "\n",
    "Esto lo he hecho con una función al que le enviamos el dataframe a modificar, las columnas afectadas y una expresión regular que saca por grupos los valores que queremos duplicar."
   ]
  },
  {
   "cell_type": "code",
   "execution_count": 8,
   "metadata": {},
   "outputs": [
    {
     "name": "stdout",
     "output_type": "stream",
     "text": [
      "(5473, 25)\n"
     ]
    },
    {
     "name": "stderr",
     "output_type": "stream",
     "text": [
      "/usr/lib/python3/dist-packages/ipykernel_launcher.py:8: SettingWithCopyWarning: \n",
      "A value is trying to be set on a copy of a slice from a DataFrame\n",
      "\n",
      "See the caveats in the documentation: http://pandas.pydata.org/pandas-docs/stable/indexing.html#indexing-view-versus-copy\n",
      "  \n"
     ]
    },
    {
     "name": "stdout",
     "output_type": "stream",
     "text": [
      "(5476, 25)\n",
      "(5478, 25)\n"
     ]
    },
    {
     "data": {
      "text/html": [
       "<div>\n",
       "<style scoped>\n",
       "    .dataframe tbody tr th:only-of-type {\n",
       "        vertical-align: middle;\n",
       "    }\n",
       "\n",
       "    .dataframe tbody tr th {\n",
       "        vertical-align: top;\n",
       "    }\n",
       "\n",
       "    .dataframe thead th {\n",
       "        text-align: right;\n",
       "    }\n",
       "</style>\n",
       "<table border=\"1\" class=\"dataframe\">\n",
       "  <thead>\n",
       "    <tr style=\"text-align: right;\">\n",
       "      <th></th>\n",
       "      <th>Case Number</th>\n",
       "      <th>Date</th>\n",
       "      <th>Year</th>\n",
       "      <th>Type</th>\n",
       "      <th>Country</th>\n",
       "      <th>Area</th>\n",
       "      <th>Location</th>\n",
       "      <th>Activity</th>\n",
       "      <th>Name</th>\n",
       "      <th>Sex</th>\n",
       "      <th>...</th>\n",
       "      <th>Investigator or Source</th>\n",
       "      <th>pdf</th>\n",
       "      <th>href formula</th>\n",
       "      <th>href</th>\n",
       "      <th>Case Number.1</th>\n",
       "      <th>Case Number.2</th>\n",
       "      <th>original order</th>\n",
       "      <th>Unnamed: 22</th>\n",
       "      <th>Unnamed: 23</th>\n",
       "      <th>Sizes</th>\n",
       "    </tr>\n",
       "  </thead>\n",
       "  <tbody>\n",
       "    <tr>\n",
       "      <th>5474</th>\n",
       "      <td>1959.01.17.b</td>\n",
       "      <td>17-Jan-59</td>\n",
       "      <td>1959</td>\n",
       "      <td>Unprovoked</td>\n",
       "      <td>AUSTRALIA</td>\n",
       "      <td>Tasmania</td>\n",
       "      <td>Safety Cove</td>\n",
       "      <td>In deep water about 100 yards from his ship</td>\n",
       "      <td>Brian Derry, a Naval Rating</td>\n",
       "      <td>M</td>\n",
       "      <td>...</td>\n",
       "      <td>Odessa American, 1/19/1959; G.P. Whitley, ref ...</td>\n",
       "      <td>1959.01.17.b-Derry.pdf</td>\n",
       "      <td>http://sharkattackfile.net/spreadsheets/pdf_di...</td>\n",
       "      <td>http://sharkattackfile.net/spreadsheets/pdf_di...</td>\n",
       "      <td>1959.01.17.b</td>\n",
       "      <td>1959.01.17.b</td>\n",
       "      <td>2105</td>\n",
       "      <td>NaN</td>\n",
       "      <td>NaN</td>\n",
       "      <td>20'</td>\n",
       "    </tr>\n",
       "    <tr>\n",
       "      <th>5475</th>\n",
       "      <td>2004.12.16</td>\n",
       "      <td>16-Dec-04</td>\n",
       "      <td>2004</td>\n",
       "      <td>Unprovoked</td>\n",
       "      <td>AUSTRALIA</td>\n",
       "      <td>South Australia</td>\n",
       "      <td>West Beach, Adelaide</td>\n",
       "      <td>Scurfing (surfboard being  towed behind a boat)</td>\n",
       "      <td>Nick Peterson</td>\n",
       "      <td>M</td>\n",
       "      <td>...</td>\n",
       "      <td>P. Kemp &amp; T. Peake, GSAF</td>\n",
       "      <td>2004.12.16-Peterson-draft.pdf</td>\n",
       "      <td>http://sharkattackfile.net/spreadsheets/pdf_di...</td>\n",
       "      <td>http://sharkattackfile.net/spreadsheets/pdf_di...</td>\n",
       "      <td>2004.12.16</td>\n",
       "      <td>2004.12.16</td>\n",
       "      <td>4598</td>\n",
       "      <td>NaN</td>\n",
       "      <td>NaN</td>\n",
       "      <td>4.5 m</td>\n",
       "    </tr>\n",
       "    <tr>\n",
       "      <th>5476</th>\n",
       "      <td>2004.12.16</td>\n",
       "      <td>16-Dec-04</td>\n",
       "      <td>2004</td>\n",
       "      <td>Unprovoked</td>\n",
       "      <td>AUSTRALIA</td>\n",
       "      <td>South Australia</td>\n",
       "      <td>West Beach, Adelaide</td>\n",
       "      <td>Scurfing (surfboard being  towed behind a boat)</td>\n",
       "      <td>Nick Peterson</td>\n",
       "      <td>M</td>\n",
       "      <td>...</td>\n",
       "      <td>P. Kemp &amp; T. Peake, GSAF</td>\n",
       "      <td>2004.12.16-Peterson-draft.pdf</td>\n",
       "      <td>http://sharkattackfile.net/spreadsheets/pdf_di...</td>\n",
       "      <td>http://sharkattackfile.net/spreadsheets/pdf_di...</td>\n",
       "      <td>2004.12.16</td>\n",
       "      <td>2004.12.16</td>\n",
       "      <td>4598</td>\n",
       "      <td>NaN</td>\n",
       "      <td>NaN</td>\n",
       "      <td>5 m</td>\n",
       "    </tr>\n",
       "    <tr>\n",
       "      <th>5477</th>\n",
       "      <td>2004.07.10</td>\n",
       "      <td>10-Jul-04</td>\n",
       "      <td>2004</td>\n",
       "      <td>Unprovoked</td>\n",
       "      <td>AUSTRALIA</td>\n",
       "      <td>Western Australia</td>\n",
       "      <td>Lefthanders Beach, Margaret River</td>\n",
       "      <td>Surfing</td>\n",
       "      <td>Bradley Adrian Smith</td>\n",
       "      <td>M</td>\n",
       "      <td>...</td>\n",
       "      <td>T. Peake, GSAF</td>\n",
       "      <td>2004.07.10-BradSmith.pdf</td>\n",
       "      <td>http://sharkattackfile.net/spreadsheets/pdf_di...</td>\n",
       "      <td>http://sharkattackfile.net/spreadsheets/pdf_di...</td>\n",
       "      <td>2004.07.10</td>\n",
       "      <td>2004.07.10</td>\n",
       "      <td>4560</td>\n",
       "      <td>NaN</td>\n",
       "      <td>NaN</td>\n",
       "      <td>4.5 m</td>\n",
       "    </tr>\n",
       "    <tr>\n",
       "      <th>5478</th>\n",
       "      <td>2004.07.10</td>\n",
       "      <td>10-Jul-04</td>\n",
       "      <td>2004</td>\n",
       "      <td>Unprovoked</td>\n",
       "      <td>AUSTRALIA</td>\n",
       "      <td>Western Australia</td>\n",
       "      <td>Lefthanders Beach, Margaret River</td>\n",
       "      <td>Surfing</td>\n",
       "      <td>Bradley Adrian Smith</td>\n",
       "      <td>M</td>\n",
       "      <td>...</td>\n",
       "      <td>T. Peake, GSAF</td>\n",
       "      <td>2004.07.10-BradSmith.pdf</td>\n",
       "      <td>http://sharkattackfile.net/spreadsheets/pdf_di...</td>\n",
       "      <td>http://sharkattackfile.net/spreadsheets/pdf_di...</td>\n",
       "      <td>2004.07.10</td>\n",
       "      <td>2004.07.10</td>\n",
       "      <td>4560</td>\n",
       "      <td>NaN</td>\n",
       "      <td>NaN</td>\n",
       "      <td>3 m</td>\n",
       "    </tr>\n",
       "  </tbody>\n",
       "</table>\n",
       "<p>5 rows × 25 columns</p>\n",
       "</div>"
      ],
      "text/plain": [
       "       Case Number       Date  Year        Type    Country               Area  \\\n",
       "5474  1959.01.17.b  17-Jan-59  1959  Unprovoked  AUSTRALIA           Tasmania   \n",
       "5475    2004.12.16  16-Dec-04  2004  Unprovoked  AUSTRALIA    South Australia   \n",
       "5476    2004.12.16  16-Dec-04  2004  Unprovoked  AUSTRALIA    South Australia   \n",
       "5477    2004.07.10  10-Jul-04  2004  Unprovoked  AUSTRALIA  Western Australia   \n",
       "5478    2004.07.10  10-Jul-04  2004  Unprovoked  AUSTRALIA  Western Australia   \n",
       "\n",
       "                               Location  \\\n",
       "5474                        Safety Cove   \n",
       "5475               West Beach, Adelaide   \n",
       "5476               West Beach, Adelaide   \n",
       "5477  Lefthanders Beach, Margaret River   \n",
       "5478  Lefthanders Beach, Margaret River   \n",
       "\n",
       "                                             Activity  \\\n",
       "5474      In deep water about 100 yards from his ship   \n",
       "5475  Scurfing (surfboard being  towed behind a boat)   \n",
       "5476  Scurfing (surfboard being  towed behind a boat)   \n",
       "5477                                          Surfing   \n",
       "5478                                          Surfing   \n",
       "\n",
       "                             Name Sex  ...  \\\n",
       "5474  Brian Derry, a Naval Rating   M  ...   \n",
       "5475                Nick Peterson   M  ...   \n",
       "5476                Nick Peterson   M  ...   \n",
       "5477         Bradley Adrian Smith   M  ...   \n",
       "5478         Bradley Adrian Smith   M  ...   \n",
       "\n",
       "                                 Investigator or Source  \\\n",
       "5474  Odessa American, 1/19/1959; G.P. Whitley, ref ...   \n",
       "5475                           P. Kemp & T. Peake, GSAF   \n",
       "5476                           P. Kemp & T. Peake, GSAF   \n",
       "5477                                     T. Peake, GSAF   \n",
       "5478                                     T. Peake, GSAF   \n",
       "\n",
       "                                pdf  \\\n",
       "5474         1959.01.17.b-Derry.pdf   \n",
       "5475  2004.12.16-Peterson-draft.pdf   \n",
       "5476  2004.12.16-Peterson-draft.pdf   \n",
       "5477       2004.07.10-BradSmith.pdf   \n",
       "5478       2004.07.10-BradSmith.pdf   \n",
       "\n",
       "                                           href formula  \\\n",
       "5474  http://sharkattackfile.net/spreadsheets/pdf_di...   \n",
       "5475  http://sharkattackfile.net/spreadsheets/pdf_di...   \n",
       "5476  http://sharkattackfile.net/spreadsheets/pdf_di...   \n",
       "5477  http://sharkattackfile.net/spreadsheets/pdf_di...   \n",
       "5478  http://sharkattackfile.net/spreadsheets/pdf_di...   \n",
       "\n",
       "                                                   href Case Number.1  \\\n",
       "5474  http://sharkattackfile.net/spreadsheets/pdf_di...  1959.01.17.b   \n",
       "5475  http://sharkattackfile.net/spreadsheets/pdf_di...    2004.12.16   \n",
       "5476  http://sharkattackfile.net/spreadsheets/pdf_di...    2004.12.16   \n",
       "5477  http://sharkattackfile.net/spreadsheets/pdf_di...    2004.07.10   \n",
       "5478  http://sharkattackfile.net/spreadsheets/pdf_di...    2004.07.10   \n",
       "\n",
       "     Case Number.2 original order Unnamed: 22 Unnamed: 23  Sizes  \n",
       "5474  1959.01.17.b           2105         NaN         NaN    20'  \n",
       "5475    2004.12.16           4598         NaN         NaN  4.5 m  \n",
       "5476    2004.12.16           4598         NaN         NaN    5 m  \n",
       "5477    2004.07.10           4560         NaN         NaN  4.5 m  \n",
       "5478    2004.07.10           4560         NaN         NaN    3 m  \n",
       "\n",
       "[5 rows x 25 columns]"
      ]
     },
     "metadata": {},
     "output_type": "display_data"
    }
   ],
   "source": [
    "def quitarDuplicados(fdf, col, regex):\n",
    "    aux_fdf = fdf.copy()\n",
    "    for e in fdf[col].fillna(\"Unknown\"):\n",
    "        if re.search(regex, e):\n",
    "            r = re.findall(regex, e)\n",
    "            for i in r[0]:\n",
    "                aux_fdf = pd.concat([aux_fdf.copy(), aux_fdf[aux_fdf[col]==e].copy()], ignore_index = True).copy()\n",
    "                aux_fdf[col][aux_fdf.index.max()] = i\n",
    "            aux_fdf = aux_fdf[aux_fdf[col]!=e].copy()\n",
    "    return aux_fdf.copy()\n",
    "        \n",
    "wdf[\"Sizes\"] = wdf[\"Species\"].copy()\n",
    "print(wdf.shape)    \n",
    "wdf = quitarDuplicados(wdf.copy(), \"Sizes\", \"([\\d\\.]+')\\s&\\s([\\d\\.]+')\").copy()\n",
    "print(wdf.shape)\n",
    "wdf = quitarDuplicados(wdf.copy(), \"Sizes\", \"([\\d\\.]+\\sm)\\s&\\s([\\d\\.]+\\sm)\").copy()\n",
    "print(wdf.shape)\n",
    "display(wdf.iloc[-5:])"
   ]
  },
  {
   "cell_type": "markdown",
   "metadata": {},
   "source": [
    "Como se observa, antes de aplicar la función, el dataframe tenía 5473 filas y después 5478. Es decir hemos agregado (*10 filas nuevas - 5 filas eliminadas*) **5 filas nuevas**.\n",
    "\n",
    "Las últimas filas mostradas están duplicadas a excepción de los tamaños, que son los que estaban recogidos anteriormente, es decir:\n",
    "\n",
    "<pre>\n",
    "Two sharks seen in vicinity: 2.4 m & 4.25 m  [8' & 14'] TL\n",
    "Said to involve 2 sharks: 5.2 m & 6 m [17' & 20']\n",
    "<b style=\"color:red;\">4.5 m</b> & <b style=\"color:red;\">5 m</b> white shark\n",
    "2 scalloped hammerhead sharks, 1.5 m & 1.8 m [5' & 6']\n",
    "2 sharks, <b style=\"color:red;\">4.5 m</b> & <b style=\"color:red;\">3 m</b>\n",
    "</pre>\n",
    "\n",
    "A continuación, limpiamos la columna `Species` para quedarnos solo con los tamaños. Para ello, creo una nueva columna que llamaremos `Sizes` donde guardaremos los datos limpios.\n",
    "\n",
    "La columna la limpieza a través de una función y mediante *regex*. Además, utilizamos la librería `statistics` para utilizar la función `mean`."
   ]
  },
  {
   "cell_type": "code",
   "execution_count": 9,
   "metadata": {},
   "outputs": [
    {
     "data": {
      "text/plain": [
       "UNKNOWN    3592\n",
       "6           236\n",
       "4           223\n",
       "7           180\n",
       "10          171\n",
       "5           168\n",
       "8           164\n",
       "12          111\n",
       "3            90\n",
       "13           84\n",
       "16           75\n",
       "15           66\n",
       "9            66\n",
       "2            48\n",
       "14           48\n",
       "11           45\n",
       "20           42\n",
       "18           31\n",
       "19           12\n",
       "17            7\n",
       "22            6\n",
       "23            4\n",
       "1             2\n",
       "21            2\n",
       "25            2\n",
       "59            1\n",
       "3819          1\n",
       "Name: Sizes, dtype: int64"
      ]
     },
     "execution_count": 9,
     "metadata": {},
     "output_type": "execute_result"
    }
   ],
   "source": [
    "def create_sizes(spe):\n",
    "    tmn_i = re.findall(\"\\d+''|\\d+\\\"\", spe)\n",
    "    tmn_oi = re.findall(\"[\\d\\.]+(?='')|[\\d\\.]+(?= '')|[\\d\\.]+(?=\\\")|[\\d\\.]+(?= \\\")\", spe)\n",
    "    tmn_f = re.findall(\"[\\d\\.]+'(?=[^'])|[\\d\\.]+'$\", spe)\n",
    "    tmn_of = re.findall(\"[\\d\\.]+(?=['][^'])\", spe)\n",
    "    tmn_m = re.findall(\"\\d+[\\.]?[\\d]?[\\d]?(?= m)|\\d+[\\.]?[\\d]?[\\d]?(?=m)\", spe)\n",
    "    tmn_om = re.findall(\"\\d+[\\.]?[\\d]?[\\d]?(?= m)|\\d+[\\.]?[\\d]?[\\d]?(?=m)\", spe)\n",
    "    tmn_cm = re.findall(\"[\\d\\.]+cm|[\\d\\.]+ cm\", spe)\n",
    "    tmn_ocm = re.findall(\"[\\d\\.]+(?=cm)|[\\d\\.]+(?= cm)\", spe)\n",
    "    if \"UNKNOWN\" in spe or not re.search(\"\\d\", spe):\n",
    "        return \"UNKNOWN\"\n",
    "    if len(tmn_f) > 0:\n",
    "        if re.search(\"[\\d\\.]+'\\d\\\"\", spe):\n",
    "            if len(re.findall(\"([\\d\\.]+)'([\\d\\.]+)\\\"\", spe)) == 1:\n",
    "                return round(float(re.findall(\"([\\d\\.]+)'([\\d\\.]+)\\\"\", spe)[0][0])+\\\n",
    "                             float(re.findall(\"([\\d\\.]+)'([\\d\\.]+)\\\"\", spe)[0][1])/12)\n",
    "        elif len(tmn_f) == 1:\n",
    "            return round(float(tmn_f[0][:-1]))\n",
    "        elif re.search(\"([\\d\\.]+)(?='\\s+to\\s+([\\d\\.]+))\", spe):\n",
    "            return round(st.mean(map(float,re.findall(\"([\\d\\.]+)(?='\\s+to\\s+([\\d\\.]+))\", spe)[0])))\n",
    "    if len(tmn_i) > 0:\n",
    "        if len(tmn_i) == 1:\n",
    "            return round(float(tmn_oi[0])/12)\n",
    "        elif re.search(\"([\\d\\.]+)(?=\\\"\\s+to\\s+([\\d\\.]+(?=\\\")))\", spe):\n",
    "            return round(st.mean(map(float,re.findall(\"([\\d\\.]+)(?=\\\"\\s+to\\s+([\\d\\.]+(?=\\\")))\", spe)[0]))/12)\n",
    "        elif re.search(\"([\\d\\.]+)(?= \\\"\\s+to\\s+([\\d\\.]+(?= \\\")))\", spe):\n",
    "            return round(st.mean(map(float,re.findall(\"([\\d\\.]+)(?= \\\"\\s+to\\s+([\\d\\.]+(?= \\\")))\", spe)[0]))/12)\n",
    "    if len(tmn_m) > 0:\n",
    "        if len(tmn_m) == 1:\n",
    "            return round(float(tmn_om[0])*3.281)\n",
    "        elif re.search(\"([\\d\\.]+)(?=m\\s+to\\s+([\\d\\.]+))\", spe):\n",
    "            return round(st.mean(map(float,re.findall(\"([\\d\\.]+)(?=m\\s+to\\s+([\\d\\.]+))\", spe)[0]))*3.281)\n",
    "        elif re.search(\"([\\d\\.]+)(?= m\\s+to\\s+([\\d\\.]+))\", spe):\n",
    "            return round(st.mean(map(float,re.findall(\"([\\d\\.]+)(?= m\\s+to\\s+([\\d\\.]+))\", spe)[0]))*3.281)\n",
    "    if len(tmn_cm) > 0:\n",
    "        if len(tmn_cm) == 1:\n",
    "            return round(float(tmn_ocm[0])/30.48)\n",
    "        elif re.search(\"([\\d\\.]+)(?=cm\\s+to\\s+([\\d\\.]+))\", spe):\n",
    "            return round(st.mean(map(float,re.findall(\"([\\d\\.]+)(?=cm\\s+to\\s+([\\d\\.]+))\", spe)[0]))/30.48)\n",
    "        elif re.search(\"([\\d\\.]+)(?= cm\\s+to\\s+([\\d\\.]+))\", spe):\n",
    "            return round(st.mean(map(float,re.findall(\"([\\d\\.]+)(?= cm\\s+to\\s+([\\d\\.]+))\", spe)[0]))/30.48)    \n",
    "    else:\n",
    "        return \"UNKNOWN\"\n",
    "    \n",
    "wdf['Sizes'].fillna(\"UNKNOWN\",inplace=True)\n",
    "wdf['Sizes'] = wdf[\"Sizes\"].apply(create_sizes)\n",
    "wdf['Sizes'].value_counts()"
   ]
  },
  {
   "cell_type": "markdown",
   "metadata": {},
   "source": [
    "### Limpieza de la columna `Fatal (Y/N)`\n",
    "\n",
    "Por último, limpio la columna `Fatal (Y/N)`. Esto es bastante más sencillo, ya que únicamente tiene algunos datos con espacios delante o hay diferencias entre mayúsculas y minúsculas.\n",
    "\n",
    "Aprovechamos y guardamos las variables como `boolean`."
   ]
  },
  {
   "cell_type": "code",
   "execution_count": 10,
   "metadata": {},
   "outputs": [
    {
     "name": "stdout",
     "output_type": "stream",
     "text": [
      "N          4082\n",
      "Y          1312\n",
      "UNKNOWN      70\n",
      " N            7\n",
      "N             1\n",
      "n             1\n",
      "Name: Fatal (Y/N), dtype: int64\n",
      "False    4166\n",
      "True     1312\n",
      "Name: Fatal (Y/N), dtype: int64\n"
     ]
    }
   ],
   "source": [
    "print(wdf[\"Fatal (Y/N)\"].value_counts())\n",
    "wdf['Fatal (Y/N)'].fillna(\"UNKNOWN\",inplace=True)\n",
    "wdf[\"Fatal (Y/N)\"] = wdf[\"Fatal (Y/N)\"].apply(lambda x: x.upper().strip())\n",
    "wdf[\"Fatal (Y/N)\"] = wdf[\"Fatal (Y/N)\"].apply(lambda x: True if x == \"Y\" else False)\n",
    "print(wdf[\"Fatal (Y/N)\"].value_counts())"
   ]
  },
  {
   "cell_type": "markdown",
   "metadata": {},
   "source": [
    "Finalmente, nos quedamos con los datos que necesitamos para nuestro estudio. La dataframe quedaría de la siguiente manera:"
   ]
  },
  {
   "cell_type": "code",
   "execution_count": 11,
   "metadata": {},
   "outputs": [],
   "source": [
    "#wdf = wdf[(wdf[\"Sizes\"] != \"UNKNOWN\") & (wdf[\"Fatal (Y/N)\"] != \"UNKNOWN\")].copy()\n",
    "#print(wdf.shape)"
   ]
  },
  {
   "cell_type": "markdown",
   "metadata": {},
   "source": [
    "### Valores incorrectos\n",
    "\n",
    "Parece que hay un par de valores raros en la columna size. En concreto 59 y 3819 pulgadas. Decido mostrarlo y buscar el error. Como se ve a continuación, se debe a que el *regex* ha considerado los mm como m. Además, uno de ellos es inválido, ya que habla de un *diente de tiburón de 18 mm* y no del tamaños del tiburón.\n",
    "\n",
    "Hay otro valor también en la tabla que contiene la cadena *mm*.\n",
    "\n",
    "Finalmente lo corrijo."
   ]
  },
  {
   "cell_type": "code",
   "execution_count": 12,
   "metadata": {},
   "outputs": [
    {
     "data": {
      "text/html": [
       "<div>\n",
       "<style scoped>\n",
       "    .dataframe tbody tr th:only-of-type {\n",
       "        vertical-align: middle;\n",
       "    }\n",
       "\n",
       "    .dataframe tbody tr th {\n",
       "        vertical-align: top;\n",
       "    }\n",
       "\n",
       "    .dataframe thead th {\n",
       "        text-align: right;\n",
       "    }\n",
       "</style>\n",
       "<table border=\"1\" class=\"dataframe\">\n",
       "  <thead>\n",
       "    <tr style=\"text-align: right;\">\n",
       "      <th></th>\n",
       "      <th>Species</th>\n",
       "      <th>Sizes</th>\n",
       "    </tr>\n",
       "  </thead>\n",
       "  <tbody>\n",
       "    <tr>\n",
       "      <th>3420</th>\n",
       "      <td>White shark, 18 mm tooth fragment  recovered f...</td>\n",
       "      <td>59</td>\n",
       "    </tr>\n",
       "  </tbody>\n",
       "</table>\n",
       "</div>"
      ],
      "text/plain": [
       "                                                Species Sizes\n",
       "3420  White shark, 18 mm tooth fragment  recovered f...    59"
      ]
     },
     "metadata": {},
     "output_type": "display_data"
    },
    {
     "data": {
      "text/html": [
       "<div>\n",
       "<style scoped>\n",
       "    .dataframe tbody tr th:only-of-type {\n",
       "        vertical-align: middle;\n",
       "    }\n",
       "\n",
       "    .dataframe tbody tr th {\n",
       "        vertical-align: top;\n",
       "    }\n",
       "\n",
       "    .dataframe thead th {\n",
       "        text-align: right;\n",
       "    }\n",
       "</style>\n",
       "<table border=\"1\" class=\"dataframe\">\n",
       "  <thead>\n",
       "    <tr style=\"text-align: right;\">\n",
       "      <th></th>\n",
       "      <th>Species</th>\n",
       "      <th>Sizes</th>\n",
       "    </tr>\n",
       "  </thead>\n",
       "  <tbody>\n",
       "    <tr>\n",
       "      <th>3430</th>\n",
       "      <td>Lemon shark, 1164 mm, immature male, identifie...</td>\n",
       "      <td>3819</td>\n",
       "    </tr>\n",
       "  </tbody>\n",
       "</table>\n",
       "</div>"
      ],
      "text/plain": [
       "                                                Species Sizes\n",
       "3430  Lemon shark, 1164 mm, immature male, identifie...  3819"
      ]
     },
     "metadata": {},
     "output_type": "display_data"
    },
    {
     "data": {
      "text/html": [
       "<div>\n",
       "<style scoped>\n",
       "    .dataframe tbody tr th:only-of-type {\n",
       "        vertical-align: middle;\n",
       "    }\n",
       "\n",
       "    .dataframe tbody tr th {\n",
       "        vertical-align: top;\n",
       "    }\n",
       "\n",
       "    .dataframe thead th {\n",
       "        text-align: right;\n",
       "    }\n",
       "</style>\n",
       "<table border=\"1\" class=\"dataframe\">\n",
       "  <thead>\n",
       "    <tr style=\"text-align: right;\">\n",
       "      <th></th>\n",
       "      <th>Species</th>\n",
       "      <th>Sizes</th>\n",
       "    </tr>\n",
       "  </thead>\n",
       "  <tbody>\n",
       "    <tr>\n",
       "      <th>3420</th>\n",
       "      <td>White shark, 18 mm tooth fragment  recovered f...</td>\n",
       "      <td>59</td>\n",
       "    </tr>\n",
       "    <tr>\n",
       "      <th>3430</th>\n",
       "      <td>Lemon shark, 1164 mm, immature male, identifie...</td>\n",
       "      <td>3819</td>\n",
       "    </tr>\n",
       "    <tr>\n",
       "      <th>5010</th>\n",
       "      <td>5 mm 3500 kg female shark</td>\n",
       "      <td>16</td>\n",
       "    </tr>\n",
       "  </tbody>\n",
       "</table>\n",
       "</div>"
      ],
      "text/plain": [
       "                                                Species Sizes\n",
       "3420  White shark, 18 mm tooth fragment  recovered f...    59\n",
       "3430  Lemon shark, 1164 mm, immature male, identifie...  3819\n",
       "5010                          5 mm 3500 kg female shark    16"
      ]
     },
     "metadata": {},
     "output_type": "display_data"
    }
   ],
   "source": [
    "aux = wdf[(wdf[\"Sizes\"]==59)]\n",
    "display(aux[[\"Species\", \"Sizes\"]])\n",
    "aux = wdf[(wdf[\"Sizes\"]==3819)]\n",
    "display(aux[[\"Species\", \"Sizes\"]])\n",
    "aux = wdf[((wdf[\"Species\"].str.contains(\"mm \"))==True) | ((wdf[\"Species\"].str.contains(\" mm\"))==True)]\n",
    "display(aux[[\"Species\", \"Sizes\"]])"
   ]
  },
  {
   "cell_type": "code",
   "execution_count": 13,
   "metadata": {},
   "outputs": [
    {
     "name": "stderr",
     "output_type": "stream",
     "text": [
      "/usr/lib/python3/dist-packages/ipykernel_launcher.py:1: SettingWithCopyWarning: \n",
      "A value is trying to be set on a copy of a slice from a DataFrame\n",
      "\n",
      "See the caveats in the documentation: http://pandas.pydata.org/pandas-docs/stable/indexing.html#indexing-view-versus-copy\n",
      "  \"\"\"Entry point for launching an IPython kernel.\n",
      "/usr/lib/python3/dist-packages/ipykernel_launcher.py:2: SettingWithCopyWarning: \n",
      "A value is trying to be set on a copy of a slice from a DataFrame\n",
      "\n",
      "See the caveats in the documentation: http://pandas.pydata.org/pandas-docs/stable/indexing.html#indexing-view-versus-copy\n",
      "  \n",
      "/usr/lib/python3/dist-packages/ipykernel_launcher.py:3: SettingWithCopyWarning: \n",
      "A value is trying to be set on a copy of a slice from a DataFrame\n",
      "\n",
      "See the caveats in the documentation: http://pandas.pydata.org/pandas-docs/stable/indexing.html#indexing-view-versus-copy\n",
      "  This is separate from the ipykernel package so we can avoid doing imports until\n"
     ]
    }
   ],
   "source": [
    "wdf[\"Sizes\"][(wdf[\"Species\"].str.contains(\"1164 mm\"))==True] = round(1164/304.8)\n",
    "wdf[\"Sizes\"][(wdf[\"Species\"].str.contains(\"5 mm 3500 kg\"))==True] = round(5*3.281)\n",
    "wdf[\"Sizes\"][(wdf[\"Species\"].str.contains(\"18 mm tooth\"))==True] = \"UNKNOWN\""
   ]
  },
  {
   "cell_type": "code",
   "execution_count": 14,
   "metadata": {},
   "outputs": [
    {
     "data": {
      "text/html": [
       "<div>\n",
       "<style scoped>\n",
       "    .dataframe tbody tr th:only-of-type {\n",
       "        vertical-align: middle;\n",
       "    }\n",
       "\n",
       "    .dataframe tbody tr th {\n",
       "        vertical-align: top;\n",
       "    }\n",
       "\n",
       "    .dataframe thead th {\n",
       "        text-align: right;\n",
       "    }\n",
       "</style>\n",
       "<table border=\"1\" class=\"dataframe\">\n",
       "  <thead>\n",
       "    <tr style=\"text-align: right;\">\n",
       "      <th></th>\n",
       "      <th>Species</th>\n",
       "      <th>Sizes</th>\n",
       "    </tr>\n",
       "  </thead>\n",
       "  <tbody>\n",
       "    <tr>\n",
       "      <th>3420</th>\n",
       "      <td>White shark, 18 mm tooth fragment  recovered f...</td>\n",
       "      <td>UNKNOWN</td>\n",
       "    </tr>\n",
       "    <tr>\n",
       "      <th>3430</th>\n",
       "      <td>Lemon shark, 1164 mm, immature male, identifie...</td>\n",
       "      <td>4</td>\n",
       "    </tr>\n",
       "    <tr>\n",
       "      <th>5010</th>\n",
       "      <td>5 mm 3500 kg female shark</td>\n",
       "      <td>16</td>\n",
       "    </tr>\n",
       "  </tbody>\n",
       "</table>\n",
       "</div>"
      ],
      "text/plain": [
       "                                                Species    Sizes\n",
       "3420  White shark, 18 mm tooth fragment  recovered f...  UNKNOWN\n",
       "3430  Lemon shark, 1164 mm, immature male, identifie...        4\n",
       "5010                          5 mm 3500 kg female shark       16"
      ]
     },
     "metadata": {},
     "output_type": "display_data"
    }
   ],
   "source": [
    "aux = wdf[((wdf[\"Species\"].str.contains(\"mm \"))==True) | ((wdf[\"Species\"].str.contains(\" mm\"))==True)]\n",
    "display(aux[[\"Species\", \"Sizes\"]])"
   ]
  },
  {
   "cell_type": "markdown",
   "metadata": {},
   "source": [
    "### Limpieza de tipos\n",
    "\n",
    "Comprobamos los tipos de nuestras columnas. Para ello, antes nos vamos a quedar con las columnas que nos interesan, que son `Species`y `Fatal (Y/N)`."
   ]
  },
  {
   "cell_type": "code",
   "execution_count": 15,
   "metadata": {},
   "outputs": [
    {
     "name": "stdout",
     "output_type": "stream",
     "text": [
      "(1884, 2)\n"
     ]
    },
    {
     "name": "stderr",
     "output_type": "stream",
     "text": [
      "/home/alfonso/.local/lib/python3.7/site-packages/pandas/core/ops.py:1649: FutureWarning: elementwise comparison failed; returning scalar instead, but in the future will perform elementwise comparison\n",
      "  result = method(y)\n"
     ]
    }
   ],
   "source": [
    "wdf.fillna(\"UNKNOWN\", inplace=True)\n",
    "cdf = wdf[(wdf[\"Sizes\"] != \"UNKNOWN\") & (wdf[\"Fatal (Y/N)\"] != \"UNKNOWN\")].copy()\n",
    "cdf = cdf[[\"Sizes\", \"Fatal (Y/N)\"]].copy()\n",
    "print(cdf.shape)"
   ]
  },
  {
   "cell_type": "code",
   "execution_count": 16,
   "metadata": {},
   "outputs": [
    {
     "name": "stdout",
     "output_type": "stream",
     "text": [
      "object bool\n"
     ]
    }
   ],
   "source": [
    "print(cdf[\"Sizes\"].dtype, cdf[\"Fatal (Y/N)\"].dtype )"
   ]
  },
  {
   "cell_type": "markdown",
   "metadata": {},
   "source": [
    "Nuestra columna Sizes es de tipo `object`, lo que significa que es un string.\n",
    "\n",
    "La convertimos en tipo `int`."
   ]
  },
  {
   "cell_type": "code",
   "execution_count": 17,
   "metadata": {},
   "outputs": [
    {
     "name": "stdout",
     "output_type": "stream",
     "text": [
      "int64 bool\n"
     ]
    }
   ],
   "source": [
    "cdf[\"Sizes\"] = cdf[\"Sizes\"].apply(int)\n",
    "print(cdf[\"Sizes\"].dtype, cdf[\"Fatal (Y/N)\"].dtype )"
   ]
  },
  {
   "cell_type": "markdown",
   "metadata": {},
   "source": [
    "### Valores extremos y *outliers*\n",
    "\n",
    "Calculamos los valores extremos de nuestra columna numérica `Sizes`"
   ]
  },
  {
   "cell_type": "code",
   "execution_count": 18,
   "metadata": {},
   "outputs": [
    {
     "data": {
      "text/html": [
       "<div>\n",
       "<style scoped>\n",
       "    .dataframe tbody tr th:only-of-type {\n",
       "        vertical-align: middle;\n",
       "    }\n",
       "\n",
       "    .dataframe tbody tr th {\n",
       "        vertical-align: top;\n",
       "    }\n",
       "\n",
       "    .dataframe thead th {\n",
       "        text-align: right;\n",
       "    }\n",
       "</style>\n",
       "<table border=\"1\" class=\"dataframe\">\n",
       "  <thead>\n",
       "    <tr style=\"text-align: right;\">\n",
       "      <th></th>\n",
       "      <th>count</th>\n",
       "      <th>mean</th>\n",
       "      <th>std</th>\n",
       "      <th>min</th>\n",
       "      <th>25%</th>\n",
       "      <th>50%</th>\n",
       "      <th>75%</th>\n",
       "      <th>max</th>\n",
       "      <th>IQR</th>\n",
       "    </tr>\n",
       "  </thead>\n",
       "  <tbody>\n",
       "    <tr>\n",
       "      <th>Sizes</th>\n",
       "      <td>1884.0</td>\n",
       "      <td>8.618896</td>\n",
       "      <td>4.523284</td>\n",
       "      <td>1.0</td>\n",
       "      <td>5.0</td>\n",
       "      <td>7.0</td>\n",
       "      <td>12.0</td>\n",
       "      <td>25.0</td>\n",
       "      <td>7.0</td>\n",
       "    </tr>\n",
       "  </tbody>\n",
       "</table>\n",
       "</div>"
      ],
      "text/plain": [
       "        count      mean       std  min  25%  50%   75%   max  IQR\n",
       "Sizes  1884.0  8.618896  4.523284  1.0  5.0  7.0  12.0  25.0  7.0"
      ]
     },
     "metadata": {},
     "output_type": "display_data"
    },
    {
     "name": "stderr",
     "output_type": "stream",
     "text": [
      "/home/alfonso/.local/lib/python3.7/site-packages/pandas/core/frame.py:6692: FutureWarning: Sorting because non-concatenation axis is not aligned. A future version\n",
      "of pandas will change to not sort by default.\n",
      "\n",
      "To accept the future behavior, pass 'sort=False'.\n",
      "\n",
      "To retain the current behavior and silence the warning, pass 'sort=True'.\n",
      "\n",
      "  sort=sort)\n"
     ]
    },
    {
     "data": {
      "text/html": [
       "<div>\n",
       "<style scoped>\n",
       "    .dataframe tbody tr th:only-of-type {\n",
       "        vertical-align: middle;\n",
       "    }\n",
       "\n",
       "    .dataframe tbody tr th {\n",
       "        vertical-align: top;\n",
       "    }\n",
       "\n",
       "    .dataframe thead th {\n",
       "        text-align: right;\n",
       "    }\n",
       "</style>\n",
       "<table border=\"1\" class=\"dataframe\">\n",
       "  <thead>\n",
       "    <tr style=\"text-align: right;\">\n",
       "      <th></th>\n",
       "      <th>Fatal (Y/N)</th>\n",
       "      <th>Outlier</th>\n",
       "      <th>Sizes</th>\n",
       "    </tr>\n",
       "  </thead>\n",
       "  <tbody>\n",
       "    <tr>\n",
       "      <th>551</th>\n",
       "      <td>False</td>\n",
       "      <td>Sizes</td>\n",
       "      <td>23</td>\n",
       "    </tr>\n",
       "    <tr>\n",
       "      <th>1722</th>\n",
       "      <td>False</td>\n",
       "      <td>Sizes</td>\n",
       "      <td>23</td>\n",
       "    </tr>\n",
       "    <tr>\n",
       "      <th>2551</th>\n",
       "      <td>True</td>\n",
       "      <td>Sizes</td>\n",
       "      <td>23</td>\n",
       "    </tr>\n",
       "    <tr>\n",
       "      <th>3084</th>\n",
       "      <td>False</td>\n",
       "      <td>Sizes</td>\n",
       "      <td>25</td>\n",
       "    </tr>\n",
       "    <tr>\n",
       "      <th>3686</th>\n",
       "      <td>False</td>\n",
       "      <td>Sizes</td>\n",
       "      <td>23</td>\n",
       "    </tr>\n",
       "    <tr>\n",
       "      <th>5276</th>\n",
       "      <td>True</td>\n",
       "      <td>Sizes</td>\n",
       "      <td>25</td>\n",
       "    </tr>\n",
       "  </tbody>\n",
       "</table>\n",
       "</div>"
      ],
      "text/plain": [
       "     Fatal (Y/N) Outlier Sizes\n",
       "551        False   Sizes    23\n",
       "1722       False   Sizes    23\n",
       "2551        True   Sizes    23\n",
       "3084       False   Sizes    25\n",
       "3686       False   Sizes    23\n",
       "5276        True   Sizes    25"
      ]
     },
     "metadata": {},
     "output_type": "display_data"
    }
   ],
   "source": [
    "stats = cdf.describe().transpose()\n",
    "stats['IQR'] = stats['75%'] - stats['25%']\n",
    "display(stats)\n",
    "\n",
    "outliers = pd.DataFrame(columns=cdf.columns)\n",
    "\n",
    "for col in stats.index:\n",
    "    iqr = stats.at[col,'IQR']\n",
    "    cutoff = iqr * 1.5\n",
    "    lower = stats.at[col,'25%'] - cutoff\n",
    "    upper = stats.at[col,'75%'] + cutoff\n",
    "    results = cdf[(cdf[col] < lower) | \n",
    "                   (cdf[col] > upper)].copy()\n",
    "    results['Outlier'] = col\n",
    "    outliers = outliers.append(results)\n",
    "    \n",
    "display(outliers)"
   ]
  },
  {
   "cell_type": "markdown",
   "metadata": {},
   "source": [
    "El resultado es que los tiburones de entre 23 y 25 pies (7-7.5 metros) son *outliers*.\n",
    "\n",
    "No soy experto en tiburones, pero no me extrañaría que existieran algunos ejemplares así. Decido dejarlos tras comprobar que no son valores erróneos."
   ]
  },
  {
   "cell_type": "code",
   "execution_count": 19,
   "metadata": {},
   "outputs": [
    {
     "name": "stderr",
     "output_type": "stream",
     "text": [
      "/usr/lib/python3/dist-packages/ipykernel_launcher.py:2: SettingWithCopyWarning: \n",
      "A value is trying to be set on a copy of a slice from a DataFrame.\n",
      "Try using .loc[row_indexer,col_indexer] = value instead\n",
      "\n",
      "See the caveats in the documentation: http://pandas.pydata.org/pandas-docs/stable/indexing.html#indexing-view-versus-copy\n",
      "  \n"
     ]
    },
    {
     "data": {
      "text/plain": [
       "Said to involve a 7 m [23'] white shark           2\n",
       "White shark, 7m                                   1\n",
       "7 m [23'] white shark                             1\n",
       "Said to be a 7.6 m [25'] shark                    1\n",
       "Alleged to involve a White shark, 7.6 m [25']     1\n",
       "Name: Species, dtype: int64"
      ]
     },
     "execution_count": 19,
     "metadata": {},
     "output_type": "execute_result"
    }
   ],
   "source": [
    "aux = wdf[wdf[\"Sizes\"]!=\"UNKNOWN\"]\n",
    "aux[\"Sizes\"] = aux[\"Sizes\"].apply(int)\n",
    "aux=aux[aux[\"Sizes\"]>=23]\n",
    "aux[\"Species\"].value_counts()"
   ]
  },
  {
   "cell_type": "code",
   "execution_count": 20,
   "metadata": {},
   "outputs": [],
   "source": [
    "\n",
    "################# GUARDAR ARCHIVO\n"
   ]
  },
  {
   "cell_type": "code",
   "execution_count": 37,
   "metadata": {},
   "outputs": [],
   "source": [
    "cdf.reset_index(inplace=True)"
   ]
  },
  {
   "cell_type": "markdown",
   "metadata": {},
   "source": [
    "## Comprobación de hipótesis"
   ]
  },
  {
   "cell_type": "code",
   "execution_count": 40,
   "metadata": {},
   "outputs": [
    {
     "data": {
      "text/plain": [
       "<matplotlib.axes._subplots.AxesSubplot at 0x7fddf3d83438>"
      ]
     },
     "execution_count": 40,
     "metadata": {},
     "output_type": "execute_result"
    },
    {
     "data": {
      "image/png": "[encoded data removed]",
      "text/plain": [
       "<Figure size 432x288 with 1 Axes>"
      ]
     },
     "metadata": {
      "needs_background": "light"
     },
     "output_type": "display_data"
    }
   ],
   "source": [
    "import matplotlib\n",
    "import matplotlib.pyplot as plt\n",
    "import numpy as np\n",
    "\n",
    "'''x = np.arange(4)\n",
    "money = [1.5e5, 2.5e6, 5.5e6, 2.0e7]\n",
    "\n",
    "\n",
    "\n",
    "fig, ax = plt.subplots()\n",
    "ax.yaxis.set_major_formatter(formatter)\n",
    "plt.bar(x,cdf[\"Sizes\"])\n",
    "plt.xticks(x, ('Bill', 'Fred', 'Mary', 'Sue'))\n",
    "plt.show()'''\n",
    "\n",
    "#.plot.bar(rot=0)\n",
    "\n",
    "cdf.groupby(\"Sizes\").count()[\"index\"].plot.bar(rot=0)"
   ]
  },
  {
   "cell_type": "code",
   "execution_count": null,
   "metadata": {},
   "outputs": [],
   "source": []
  }
 ],
 "metadata": {
  "kernelspec": {
   "display_name": "Python 3",
   "language": "python",
   "name": "python3"
  },
  "language_info": {
   "codemirror_mode": {
    "name": "ipython",
    "version": 3
   },
   "file_extension": ".py",
   "mimetype": "text/x-python",
   "name": "python",
   "nbconvert_exporter": "python",
   "pygments_lexer": "ipython3",
   "version": "3.7.3"
  }
 },
 "nbformat": 4,
 "nbformat_minor": 2
}
