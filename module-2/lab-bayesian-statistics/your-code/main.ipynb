{
 "cells": [
  {
   "cell_type": "markdown",
   "metadata": {},
   "source": [
    "# Intro to Bayesian Statistics Lab\n",
    "\n",
    "Complete the following set of exercises to solidify your knowledge of Bayesian statistics and Bayesian data analysis."
   ]
  },
  {
   "cell_type": "code",
   "execution_count": 1,
   "metadata": {},
   "outputs": [],
   "source": [
    "import pandas as pd\n",
    "import numpy as np\n",
    "import matplotlib.pyplot as plt"
   ]
  },
  {
   "cell_type": "markdown",
   "metadata": {},
   "source": [
    "## 1. Cookie Problem\n",
    "\n",
    "Suppose we have two bowls of cookies. Bowl 1 contains 30 vanilla cookies and 10 chocolate cookies. Bowl 2 contains 20 of each. You randomly pick one cookie out of one of the bowls, and it is vanilla. Use Bayes Theorem to calculate the probability that the vanilla cookie you picked came from Bowl 1?"
   ]
  },
  {
   "cell_type": "code",
   "execution_count": 2,
   "metadata": {},
   "outputs": [
    {
     "data": {
      "text/plain": [
       "0.6"
      ]
     },
     "execution_count": 2,
     "metadata": {},
     "output_type": "execute_result"
    }
   ],
   "source": [
    "priors = [0.5,0.5]\n",
    "likelihoods = [3/4,1/2]\n",
    "marg = sum(np.multiply(priors,likelihoods))\n",
    "post = np.divide(np.multiply(priors,likelihoods),marg)\n",
    "post[0]"
   ]
  },
  {
   "cell_type": "markdown",
   "metadata": {},
   "source": [
    "What is the probability that it came from Bowl 2?"
   ]
  },
  {
   "cell_type": "code",
   "execution_count": 3,
   "metadata": {},
   "outputs": [
    {
     "data": {
      "text/plain": [
       "0.4"
      ]
     },
     "execution_count": 3,
     "metadata": {},
     "output_type": "execute_result"
    }
   ],
   "source": [
    "post[1]"
   ]
  },
  {
   "cell_type": "markdown",
   "metadata": {},
   "source": [
    "What if the cookie you had picked was chocolate? What are the probabilities that the chocolate cookie came from Bowl 1 and Bowl 2 respectively?"
   ]
  },
  {
   "cell_type": "code",
   "execution_count": 4,
   "metadata": {},
   "outputs": [
    {
     "data": {
      "text/plain": [
       "array([0.33333333, 0.66666667])"
      ]
     },
     "execution_count": 4,
     "metadata": {},
     "output_type": "execute_result"
    }
   ],
   "source": [
    "priors_c = [0.5,0.5]\n",
    "likelihoods_c = [1/4,1/2]\n",
    "marg_c = sum(np.multiply(priors_c,likelihoods_c))\n",
    "post_c = np.divide(np.multiply(priors_c,likelihoods_c),marg_c)\n",
    "post_c"
   ]
  },
  {
   "cell_type": "markdown",
   "metadata": {},
   "source": [
    "## 2. Candy Problem\n",
    "\n",
    "Suppose you have two bags of candies:\n",
    "\n",
    "- In Bag 1, the mix of colors is:\n",
    "    - Brown - 30%\n",
    "    - Yellow - 20%\n",
    "    - Red - 20%\n",
    "    - Green - 10%\n",
    "    - Orange - 10%\n",
    "    - Tan - 10%\n",
    "    \n",
    "- In Bag 2, the mix of colors is:\n",
    "    - Blue - 24%\n",
    "    - Green - 20%\n",
    "    - Orange - 16%\n",
    "    - Yellow - 14%\n",
    "    - Red - 13%\n",
    "    - Brown - 13%\n",
    "    \n",
    "Not knowing which bag is which, you randomly draw one candy from each bag. One is yellow and one is green. What is the probability that the yellow one came from the Bag 1?\n",
    "\n",
    "*Hint: For the likelihoods, you will need to multiply the probabilities of drawing yellow from one bag and green from the other bag and vice versa.*"
   ]
  },
  {
   "cell_type": "code",
   "execution_count": 5,
   "metadata": {},
   "outputs": [
    {
     "data": {
      "text/plain": [
       "0.7407407407407408"
      ]
     },
     "execution_count": 5,
     "metadata": {},
     "output_type": "execute_result"
    }
   ],
   "source": [
    "priors_candy = [.5,.5]\n",
    "likelihoods_candy = [.2*.2,.14*.1]\n",
    "marg_candy = sum(np.multiply(priors_candy,likelihoods_candy))\n",
    "post_candy = np.divide(np.multiply(priors_candy,likelihoods_candy),marg_candy)\n",
    "post_candy[0]"
   ]
  },
  {
   "cell_type": "markdown",
   "metadata": {},
   "source": [
    "What is the probability that the yellow candy came from Bag 2?"
   ]
  },
  {
   "cell_type": "code",
   "execution_count": 6,
   "metadata": {},
   "outputs": [
    {
     "data": {
      "text/plain": [
       "0.25925925925925924"
      ]
     },
     "execution_count": 6,
     "metadata": {},
     "output_type": "execute_result"
    }
   ],
   "source": [
    "post_candy[1]"
   ]
  },
  {
   "cell_type": "markdown",
   "metadata": {},
   "source": [
    "What are the probabilities that the green one came from Bag 1 and Bag 2 respectively?"
   ]
  },
  {
   "cell_type": "code",
   "execution_count": 7,
   "metadata": {},
   "outputs": [
    {
     "data": {
      "text/plain": [
       "array([0.25925926, 0.74074074])"
      ]
     },
     "execution_count": 7,
     "metadata": {},
     "output_type": "execute_result"
    }
   ],
   "source": [
    "priors_candy = [.5,.5]\n",
    "likelihoods_candy = [.1*.14,.2*.2]\n",
    "marg_candy = sum(np.multiply(priors_candy,likelihoods_candy))\n",
    "post_candy = np.divide(np.multiply(priors_candy,likelihoods_candy),marg_candy)\n",
    "post_candy"
   ]
  },
  {
   "cell_type": "markdown",
   "metadata": {},
   "source": [
    "## 3. Monty Hall Problem\n",
    "\n",
    "Suppose you are a contestant on the popular game show *Let's Make a Deal*. The host of the show (Monty Hall) presents you with three doors - Door A, Door B, and Door C. He tells you that there is a sports car behind one of them and if you choose the correct one, you win the car!\n",
    "\n",
    "You select Door A, but then Monty makes things a little more interesting. He opens Door B to reveal that there is no sports car behind it and asks you if you would like to stick with your choice of Door A or switch your choice to Door C. Given this new information, what are the probabilities of you winning the car if you stick with Door A versus if you switch to Door C?"
   ]
  },
  {
   "cell_type": "code",
   "execution_count": 8,
   "metadata": {},
   "outputs": [
    {
     "data": {
      "image/png": "[encoded data removed]",
      "text/plain": [
       "<Figure size 432x288 with 1 Axes>"
      ]
     },
     "metadata": {
      "needs_background": "light"
     },
     "output_type": "display_data"
    }
   ],
   "source": [
    "# REPRESENTARLO POR HISTOGRAMAS\n",
    "\n",
    "N = 1000\n",
    "n = 100\n",
    "doors = 3\n",
    "success = []\n",
    "n_success_no_change = []\n",
    "n_success_change = []\n",
    "\n",
    "for sim_no_change in range(N):\n",
    "    prize = np.random.randint(doors,size=n)\n",
    "    choosen = np.random.choice(doors,n)\n",
    "\n",
    "    success = [1 if prize[e]==choosen[e] else 0 for e in range(100)]\n",
    "    n_success_no_change.append(success.count(1))\n",
    "    \n",
    "for sim_change in range(N):\n",
    "    prize = np.random.randint(doors,size=n)\n",
    "    choosen = np.random.choice(doors,n)\n",
    "\n",
    "    success = [0 if prize[e]==choosen[e] else 1 for e in range(100)]\n",
    "    n_success_change.append(success.count(1))\n",
    "    \n",
    "plt.hist(n_success_no_change);\n",
    "plt.hist(n_success_change);\n",
    "\n",
    "# En azul las veces que ganas (la probabilidad) si no cambias las puerta\n",
    "# En naranja las veces que ganas (la probabilidad) si cambias de puerta"
   ]
  },
  {
   "cell_type": "code",
   "execution_count": 9,
   "metadata": {},
   "outputs": [
    {
     "data": {
      "image/png": "[encoded data removed]",
      "text/plain": [
       "<Figure size 432x288 with 1 Axes>"
      ]
     },
     "metadata": {
      "needs_background": "light"
     },
     "output_type": "display_data"
    }
   ],
   "source": [
    "plt.plot(n_success_no_change)\n",
    "plt.plot(n_success_change);"
   ]
  },
  {
   "cell_type": "code",
   "execution_count": 23,
   "metadata": {},
   "outputs": [
    {
     "data": {
      "image/png": "[encoded data removed]",
      "text/plain": [
       "<Figure size 432x288 with 1 Axes>"
      ]
     },
     "metadata": {
      "needs_background": "light"
     },
     "output_type": "display_data"
    }
   ],
   "source": [
    "# REPRESENTAR LA PROBABILIDAD\n",
    "\n",
    "n = 1000\n",
    "doors = 3\n",
    "success = []\n",
    "p_no_change = []\n",
    "p_change = []\n",
    "\n",
    "prize = np.random.randint(doors,size=n)\n",
    "choosen = np.random.choice(doors,n)\n",
    "    \n",
    "success = [1 if prize[e]==choosen[e] else 0 for e in range(n)]\n",
    "    \n",
    "for e in range(len(success)):\n",
    "    p_no_change.append(success[:e].count(1)/(e+1))\n",
    "    \n",
    "success = [0 if prize[e]==choosen[e] else 1 for e in range(n)]\n",
    "    \n",
    "for e in range(len(success)):\n",
    "    p_change.append(success[:e].count(1)/(e+1))\n",
    "    \n",
    "plt.plot(p_no_change, \"r\", label=\"No change\")\n",
    "plt.plot(p_change, \"b\", label=\"Change\")\n",
    "plt.legend()\n",
    "plt.show()\n"
   ]
  },
  {
   "cell_type": "code",
   "execution_count": 73,
   "metadata": {},
   "outputs": [
    {
     "data": {
      "text/plain": [
       "array([0.5, 0. , 0.5])"
      ]
     },
     "execution_count": 73,
     "metadata": {},
     "output_type": "execute_result"
    }
   ],
   "source": [
    "# MONTY HALL NO CHANGE\n",
    "priors_monty_nc = [.5,0,.5]\n",
    "likelihoods_monty_nc = [1/3,1/3,1/3]\n",
    "marg_monty_nc = sum(np.multiply(priors_monty_nc,likelihoods_monty_nc))\n",
    "post_monty_nc = np.divide(np.multiply(priors_monty_nc,likelihoods_monty_nc),marg_monty_nc)\n",
    "post_monty_nc"
   ]
  },
  {
   "cell_type": "code",
   "execution_count": 74,
   "metadata": {},
   "outputs": [
    {
     "data": {
      "text/plain": [
       "array([0.33333333, 0.        , 0.66666667])"
      ]
     },
     "execution_count": 74,
     "metadata": {},
     "output_type": "execute_result"
    }
   ],
   "source": [
    "# MONTY HALL CHANGE\n",
    "priors_monty_nc = [1/3,0,2/3]\n",
    "likelihoods_monty_nc = [1/3,1/3,1/3]\n",
    "marg_monty_nc = sum(np.multiply(priors_monty_nc,likelihoods_monty_nc))\n",
    "post_monty_nc = np.divide(np.multiply(priors_monty_nc,likelihoods_monty_nc),marg_monty_nc)\n",
    "post_monty_nc"
   ]
  },
  {
   "cell_type": "markdown",
   "metadata": {},
   "source": [
    "## 4. Bayesian Analysis \n",
    "\n",
    "Suppose you work for a landscaping company, and they want to advertise their service online. They create an ad and sit back waiting for the money to roll in. On the first day, the ad sends 100 visitors to the site and 14 of them sign up for landscaping services. Create a generative model to come up with the posterior distribution and produce a visualization of what the posterior distribution would look like given the observed data."
   ]
  },
  {
   "cell_type": "code",
   "execution_count": 29,
   "metadata": {},
   "outputs": [
    {
     "data": {
      "image/png": "[encoded data removed]",
      "text/plain": [
       "<Figure size 432x288 with 1 Axes>"
      ]
     },
     "metadata": {
      "needs_background": "light"
     },
     "output_type": "display_data"
    }
   ],
   "source": [
    "n_draws = 100000\n",
    "prior = pd.Series(np.random.uniform(0, 1, n_draws))\n",
    "\n",
    "n_visits = 100\n",
    "buyers = 14\n",
    "\n",
    "sim_data = np.random.binomial(n_visits, prior)\n",
    "\n",
    "posteriors = prior[[i for i, x in enumerate(sim_data) if x == buyers]]\n",
    "\n",
    "posteriors.hist();"
   ]
  },
  {
   "cell_type": "markdown",
   "metadata": {},
   "source": [
    "Produce a set of descriptive statistics for the posterior distribution."
   ]
  },
  {
   "cell_type": "code",
   "execution_count": 30,
   "metadata": {},
   "outputs": [
    {
     "data": {
      "text/plain": [
       "count    1017.000000\n",
       "mean        0.145905\n",
       "std         0.035332\n",
       "min         0.056407\n",
       "25%         0.121674\n",
       "50%         0.144271\n",
       "75%         0.166178\n",
       "max         0.283405\n",
       "dtype: float64"
      ]
     },
     "execution_count": 30,
     "metadata": {},
     "output_type": "execute_result"
    }
   ],
   "source": [
    "posteriors.describe()"
   ]
  },
  {
   "cell_type": "markdown",
   "metadata": {},
   "source": [
    "What is the 90% credible interval range?"
   ]
  },
  {
   "cell_type": "code",
   "execution_count": 56,
   "metadata": {},
   "outputs": [
    {
     "data": {
      "text/plain": [
       "(0.0927160085142687, 0.21133707200241533)"
      ]
     },
     "execution_count": 56,
     "metadata": {},
     "output_type": "execute_result"
    }
   ],
   "source": [
    "(posteriors.quantile(.05),posteriors.quantile(.95))"
   ]
  },
  {
   "cell_type": "markdown",
   "metadata": {},
   "source": [
    "What is the Maximum Likelihood Estimate?"
   ]
  },
  {
   "cell_type": "code",
   "execution_count": 64,
   "metadata": {},
   "outputs": [
    {
     "data": {
      "text/plain": [
       "0.1496006119726201"
      ]
     },
     "execution_count": 64,
     "metadata": {},
     "output_type": "execute_result"
    }
   ],
   "source": [
    "pd.DataFrame(posteriors).reset_index().mode(axis=1)[0][0]"
   ]
  },
  {
   "cell_type": "code",
   "execution_count": 72,
   "metadata": {},
   "outputs": [
    {
     "data": {
      "text/plain": [
       "0.14"
      ]
     },
     "execution_count": 72,
     "metadata": {},
     "output_type": "execute_result"
    }
   ],
   "source": [
    "rounded = posteriors.round(2)\n",
    "rounded.mode()[0]"
   ]
  }
 ],
 "metadata": {
  "kernelspec": {
   "display_name": "Python 3",
   "language": "python",
   "name": "python3"
  },
  "language_info": {
   "codemirror_mode": {
    "name": "ipython",
    "version": 3
   },
   "file_extension": ".py",
   "mimetype": "text/x-python",
   "name": "python",
   "nbconvert_exporter": "python",
   "pygments_lexer": "ipython3",
   "version": "3.7.3"
  }
 },
 "nbformat": 4,
 "nbformat_minor": 2
}
